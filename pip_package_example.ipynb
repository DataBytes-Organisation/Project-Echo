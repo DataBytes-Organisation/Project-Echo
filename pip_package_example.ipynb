{
 "cells": [
  {
   "attachments": {},
   "cell_type": "markdown",
   "metadata": {},
   "source": [
    "### Importing the Package with pip\n",
    "This may take up to a minute depending on your internet speed as the package downloads model weights files."
   ]
  },
  {
   "cell_type": "code",
   "execution_count": 1,
   "metadata": {},
   "outputs": [
    {
     "name": "stdout",
     "output_type": "stream",
     "text": [
      "Note: you may need to restart the kernel to use updated packages.\n"
     ]
    }
   ],
   "source": [
    "%pip install git+https://github.com/Deakin-Capstone-Echo/Project-Echo --quiet"
   ]
  },
  {
   "attachments": {},
   "cell_type": "markdown",
   "metadata": {},
   "source": [
    "### Single File Prediction"
   ]
  },
  {
   "cell_type": "code",
   "execution_count": 4,
   "metadata": {},
   "outputs": [
    {
     "name": "stdout",
     "output_type": "stream",
     "text": [
      "Your audio file is: 1844_Feldlerche_Gesang_Wind_short.mp3\n",
      "Your file is split into 11 windows of 5 seconds width per window. For each sliding window, we found:\n",
      "    A skylark with a confidence of 99.68%\n",
      "    A skylark with a confidence of 92.1%\n",
      "    A skylark with a confidence of 99.71%\n",
      "    A skylark with a confidence of 99.97%\n",
      "    A skylark with a confidence of 94.82%\n",
      "    A skylark with a confidence of 99.47%\n",
      "    A skylark with a confidence of 99.91%\n",
      "    A skylark with a confidence of 92.84%\n",
      "    A skylark with a confidence of 99.82%\n",
      "    A skylark with a confidence of 92.64%\n",
      "    A white-plumed honeyeater with a confidence of 62.92%\n"
     ]
    }
   ],
   "source": [
    "import os\n",
    "import Echo\n",
    "\n",
    "path_to_raw_audio_file = '/Users/stephankokkas/Downloads/1844_Feldlerche_Gesang_Wind_short.mp3'\n",
    "\n",
    "my_model = Echo.load_model()\n",
    "classification = Echo.predict(my_model, path_to_raw_audio_file, traverse_path=False)"
   ]
  },
  {
   "attachments": {},
   "cell_type": "markdown",
   "metadata": {},
   "source": [
    "### Multiple File Prediction\n",
    "The predict function will go through the directory listed and predict on all audio files found in the first root directory (not walking through the dir)"
   ]
  },
  {
   "cell_type": "code",
   "execution_count": 3,
   "metadata": {},
   "outputs": [
    {
     "name": "stdout",
     "output_type": "stream",
     "text": [
      "Your audio file is: 0295_Feldlerche_Weibchen_Rufgesang_short.mp3\n",
      "Your file is split into 3 windows of 5 seconds width per window. For each sliding window, we found:\n",
      "    A skylark with a confidence of 72.65%\n",
      "    A skylark with a confidence of 90.92%\n",
      "    A yellow-faced honeyeater with a confidence of 85.56%\n",
      "Your audio file is: X01108.mp3\n",
      "Your file is split into 11 windows of 5 seconds width per window. For each sliding window, we found:\n",
      "    A yellow robin with a confidence of 99.97%\n",
      "    A yellow robin with a confidence of 100.0%\n",
      "    A yellow robin with a confidence of 100.0%\n",
      "    A yellow robin with a confidence of 100.0%\n",
      "    A yellow robin with a confidence of 100.0%\n",
      "    A yellow robin with a confidence of 100.0%\n",
      "    A yellow robin with a confidence of 99.99%\n",
      "    A yellow robin with a confidence of 100.0%\n",
      "    A yellow robin with a confidence of 100.0%\n",
      "    A yellow robin with a confidence of 99.92%\n",
      "    A feral goat with a confidence of 89.04%\n",
      "Your audio file is: X01436.mp3\n",
      "Your file is split into 9 windows of 5 seconds width per window. For each sliding window, we found:\n",
      "    A cat with a confidence of 99.68%\n",
      "    A grey shrikethrush with a confidence of 65.46%\n",
      "    A pied currawong with a confidence of 80.42%\n",
      "    A pied currawong with a confidence of 71.21%\n",
      "    A fallow deer with a confidence of 98.93%\n",
      "    A fallow deer with a confidence of 77.58%\n",
      "    A grey shrikethrush with a confidence of 49.68%\n",
      "    A fallow deer with a confidence of 50.7%\n",
      "    A feral goat with a confidence of 99.93%\n",
      "Your audio file is: 278267.m4a\n",
      "Your file is split into 1 windows of 5 seconds width per window. For each sliding window, we found:\n",
      "    A fallow deer with a confidence of 70.11%\n"
     ]
    }
   ],
   "source": [
    "path_to_raw_audio_file = '/Users/stephankokkas/Downloads/test_audio_files'\n",
    "\n",
    "my_model = Echo.load_model()\n",
    "classification = Echo.predict(my_model, path_to_raw_audio_file, traverse_path=True)"
   ]
  }
 ],
 "metadata": {
  "kernelspec": {
   "display_name": "dev",
   "language": "python",
   "name": "python3"
  },
  "language_info": {
   "codemirror_mode": {
    "name": "ipython",
    "version": 3
   },
   "file_extension": ".py",
   "mimetype": "text/x-python",
   "name": "python",
   "nbconvert_exporter": "python",
   "pygments_lexer": "ipython3",
   "version": "3.10.0"
  },
  "orig_nbformat": 4,
  "vscode": {
   "interpreter": {
    "hash": "f4acbc442a267d9c039005cb6a4c551bfe6da3ea17529ec6bc5615c49cd80131"
   }
  }
 },
 "nbformat": 4,
 "nbformat_minor": 2
}
