{
 "cells": [
  {
   "cell_type": "markdown",
   "id": "de0133e4",
   "metadata": {},
   "source": [
    "# Task 1 – Data Collection for Animal Speed, Location and Sound\n",
    "This notebook extracts animal species, generates example movement speed and GPS coordinates, and maps them with .npy audio files."
   ]
  },
  {
   "cell_type": "code",
   "execution_count": 1,
   "id": "1ad1dc76",
   "metadata": {},
   "outputs": [],
   "source": [
    "import os\n",
    "import pandas as pd\n",
    "import random\n"
   ]
  },
  {
   "cell_type": "code",
   "execution_count": 2,
   "id": "a01a282b",
   "metadata": {},
   "outputs": [
    {
     "data": {
      "text/html": [
       "<div>\n",
       "<style scoped>\n",
       "    .dataframe tbody tr th:only-of-type {\n",
       "        vertical-align: middle;\n",
       "    }\n",
       "\n",
       "    .dataframe tbody tr th {\n",
       "        vertical-align: top;\n",
       "    }\n",
       "\n",
       "    .dataframe thead th {\n",
       "        text-align: right;\n",
       "    }\n",
       "</style>\n",
       "<table border=\"1\" class=\"dataframe\">\n",
       "  <thead>\n",
       "    <tr style=\"text-align: right;\">\n",
       "      <th></th>\n",
       "      <th>species_name</th>\n",
       "      <th>speed_kmh</th>\n",
       "      <th>location_lat</th>\n",
       "      <th>location_lon</th>\n",
       "      <th>audio_filename</th>\n",
       "    </tr>\n",
       "  </thead>\n",
       "  <tbody>\n",
       "    <tr>\n",
       "      <th>0</th>\n",
       "      <td>Acanthiza chrysorrhoa</td>\n",
       "      <td>13.28</td>\n",
       "      <td>-38.4867</td>\n",
       "      <td>143.6845</td>\n",
       "      <td>region_11.250-13.250.npy</td>\n",
       "    </tr>\n",
       "    <tr>\n",
       "      <th>1</th>\n",
       "      <td>Acanthiza chrysorrhoa</td>\n",
       "      <td>13.28</td>\n",
       "      <td>-38.4867</td>\n",
       "      <td>143.6845</td>\n",
       "      <td>region_11.750-13.750.npy</td>\n",
       "    </tr>\n",
       "    <tr>\n",
       "      <th>2</th>\n",
       "      <td>Acanthiza chrysorrhoa</td>\n",
       "      <td>13.28</td>\n",
       "      <td>-38.4867</td>\n",
       "      <td>143.6845</td>\n",
       "      <td>region_12.800-14.800.npy</td>\n",
       "    </tr>\n",
       "    <tr>\n",
       "      <th>3</th>\n",
       "      <td>Acanthiza chrysorrhoa</td>\n",
       "      <td>13.28</td>\n",
       "      <td>-38.4867</td>\n",
       "      <td>143.6845</td>\n",
       "      <td>region_13.250-15.250.npy</td>\n",
       "    </tr>\n",
       "    <tr>\n",
       "      <th>4</th>\n",
       "      <td>Acanthiza chrysorrhoa</td>\n",
       "      <td>13.28</td>\n",
       "      <td>-38.4867</td>\n",
       "      <td>143.6845</td>\n",
       "      <td>region_14.750-16.050.npy</td>\n",
       "    </tr>\n",
       "  </tbody>\n",
       "</table>\n",
       "</div>"
      ],
      "text/plain": [
       "            species_name  speed_kmh  location_lat  location_lon  \\\n",
       "0  Acanthiza chrysorrhoa      13.28      -38.4867      143.6845   \n",
       "1  Acanthiza chrysorrhoa      13.28      -38.4867      143.6845   \n",
       "2  Acanthiza chrysorrhoa      13.28      -38.4867      143.6845   \n",
       "3  Acanthiza chrysorrhoa      13.28      -38.4867      143.6845   \n",
       "4  Acanthiza chrysorrhoa      13.28      -38.4867      143.6845   \n",
       "\n",
       "             audio_filename  \n",
       "0  region_11.250-13.250.npy  \n",
       "1  region_11.750-13.750.npy  \n",
       "2  region_12.800-14.800.npy  \n",
       "3  region_13.250-15.250.npy  \n",
       "4  region_14.750-16.050.npy  "
      ]
     },
     "execution_count": 2,
     "metadata": {},
     "output_type": "execute_result"
    }
   ],
   "source": [
    "# Set your local path\n",
    "base_dir = r\"D:\\project echo\\Project-Echo-main\\src\\Prototypes\\data\\mfcc_features\"\n",
    "\n",
    "species_data = []\n",
    "for species_name in os.listdir(base_dir):\n",
    "    species_path = os.path.join(base_dir, species_name)\n",
    "    if os.path.isdir(species_path):\n",
    "        speed = round(random.uniform(5, 40), 2)  # km/h\n",
    "        lat = round(random.uniform(-38.5, -38.0), 4)\n",
    "        lon = round(random.uniform(143.3, 143.9), 4)\n",
    "        for file in os.listdir(species_path):\n",
    "            if file.endswith('.npy'):\n",
    "                species_data.append({\n",
    "                    \"species_name\": species_name,\n",
    "                    \"speed_kmh\": speed,\n",
    "                    \"location_lat\": lat,\n",
    "                    \"location_lon\": lon,\n",
    "                    \"audio_filename\": file\n",
    "                })\n",
    "\n",
    "df = pd.DataFrame(species_data)\n",
    "df.head()\n"
   ]
  },
  {
   "cell_type": "code",
   "execution_count": 3,
   "id": "8e7f7c0f",
   "metadata": {},
   "outputs": [
    {
     "name": "stdout",
     "output_type": "stream",
     "text": [
      "Dataset saved as 'species_dataset.csv' and 'species_dataset.json'\n"
     ]
    }
   ],
   "source": [
    "# Save to CSV and JSON\n",
    "df.to_csv(\"species_dataset.csv\", index=False)\n",
    "df.to_json(\"species_dataset.json\", orient=\"records\", indent=2)\n",
    "print(\"Dataset saved as 'species_dataset.csv' and 'species_dataset.json'\")\n"
   ]
  }
 ],
 "metadata": {
  "kernelspec": {
   "display_name": "Python 3 (ipykernel)",
   "language": "python",
   "name": "python3"
  },
  "language_info": {
   "codemirror_mode": {
    "name": "ipython",
    "version": 3
   },
   "file_extension": ".py",
   "mimetype": "text/x-python",
   "name": "python",
   "nbconvert_exporter": "python",
   "pygments_lexer": "ipython3",
   "version": "3.12.7"
  }
 },
 "nbformat": 4,
 "nbformat_minor": 5
}
