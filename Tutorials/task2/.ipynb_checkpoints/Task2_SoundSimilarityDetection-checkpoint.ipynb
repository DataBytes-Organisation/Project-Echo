{
 "cells": [
  {
   "cell_type": "markdown",
   "metadata": {},
   "source": [
    "# Task 2 – Sound Similarity Detection"
   ]
  },
  {
   "cell_type": "code",
   "execution_count": 3,
   "metadata": {},
   "outputs": [],
   "source": [
    "import os\n",
    "import numpy as np\n",
    "import pandas as pd\n",
    "from sklearn.metrics.pairwise import cosine_similarity, euclidean_distances\n",
    "import matplotlib.pyplot as plt\n",
    "import seaborn as sns"
   ]
  },
  {
   "cell_type": "code",
   "execution_count": 8,
   "metadata": {},
   "outputs": [
    {
     "name": "stdout",
     "output_type": "stream",
     "text": [
      "Loaded 7514 MFCC vectors of length 403\n"
     ]
    }
   ],
   "source": [
    "base_dir = r\"D:\\project echo\\Project-Echo-main\\src\\Prototypes\\data\\mfcc_features\"\n",
    "mfcc_data = []\n",
    "file_paths = []\n",
    "\n",
    "for species in os.listdir(base_dir):\n",
    "    species_path = os.path.join(base_dir, species)\n",
    "    if os.path.isdir(species_path):\n",
    "        for filename in os.listdir(species_path):\n",
    "            if filename.endswith(\".npy\"):\n",
    "                full_path = os.path.join(species_path, filename)\n",
    "                mfcc = np.load(full_path)\n",
    "                if len(mfcc.shape) == 2:\n",
    "                    mfcc_flat = mfcc.flatten()[:3000]  # 限制维度\n",
    "                    mfcc_data.append(mfcc_flat)\n",
    "                    file_paths.append(f\"{species}/{filename}\")\n",
    "\n",
    "# 确保所有特征维度一致\n",
    "min_len = min(len(x) for x in mfcc_data)\n",
    "mfcc_data = [x[:min_len] for x in mfcc_data]\n",
    "mfcc_matrix = np.stack(mfcc_data)\n",
    "print(f\"Loaded {len(mfcc_matrix)} MFCC vectors of length {min_len}\")"
   ]
  },
  {
   "cell_type": "code",
   "execution_count": 14,
   "metadata": {},
   "outputs": [],
   "source": [
    "cos_sim = cosine_similarity(mfcc_matrix)\n",
    "euc_dist = euclidean_distances(mfcc_matrix)\n",
    "\n",
    "cos_df = pd.DataFrame(cos_sim, index=file_paths, columns=file_paths)\n",
    "euc_df = pd.DataFrame(euc_dist, index=file_paths, columns=file_paths)"
   ]
  },
  {
   "cell_type": "code",
   "execution_count": 11,
   "metadata": {},
   "outputs": [
    {
     "name": "stdout",
     "output_type": "stream",
     "text": [
      "Found 12652829 similar sound pairs above threshold 0.85\n",
      "Acanthiza chrysorrhoa/region_11.250-13.250.npy <--> Acanthiza chrysorrhoa/region_11.750-13.750.npy | Cosine: 0.93\n",
      "Acanthiza chrysorrhoa/region_11.250-13.250.npy <--> Acanthiza chrysorrhoa/region_12.800-14.800.npy | Cosine: 0.99\n",
      "Acanthiza chrysorrhoa/region_11.250-13.250.npy <--> Acanthiza chrysorrhoa/region_13.250-15.250.npy | Cosine: 0.99\n",
      "Acanthiza chrysorrhoa/region_11.250-13.250.npy <--> Acanthiza chrysorrhoa/region_16.750-18.750.npy | Cosine: 1.00\n",
      "Acanthiza chrysorrhoa/region_11.250-13.250.npy <--> Acanthiza chrysorrhoa/region_17.600-19.600.npy | Cosine: 0.94\n"
     ]
    }
   ],
   "source": [
    "plt.figure(figsize=(10, 8))\n",
    "sns.heatmap(cos_df.iloc[:10, :10], cmap=\"viridis\", xticklabels=True, yticklabels=True)\n",
    "plt.title(\"Cosine Similarity (Top 10 samples)\")\n",
    "plt.tight_layout()\n",
    "plt.show()"
   ]
  },
  {
   "cell_type": "code",
   "execution_count": 13,
   "metadata": {},
   "outputs": [
    {
     "name": "stdout",
     "output_type": "stream",
     "text": [
      "Found 12652829 similar sound pairs above threshold 0.85\n",
      "Acanthiza chrysorrhoa/region_11.250-13.250.npy <--> Acanthiza chrysorrhoa/region_11.750-13.750.npy | Cosine: 0.93\n",
      "Acanthiza chrysorrhoa/region_11.250-13.250.npy <--> Acanthiza chrysorrhoa/region_12.800-14.800.npy | Cosine: 0.99\n",
      "Acanthiza chrysorrhoa/region_11.250-13.250.npy <--> Acanthiza chrysorrhoa/region_13.250-15.250.npy | Cosine: 0.99\n",
      "Acanthiza chrysorrhoa/region_11.250-13.250.npy <--> Acanthiza chrysorrhoa/region_16.750-18.750.npy | Cosine: 1.00\n",
      "Acanthiza chrysorrhoa/region_11.250-13.250.npy <--> Acanthiza chrysorrhoa/region_17.600-19.600.npy | Cosine: 0.94\n"
     ]
    }
   ],
   "source": [
    "threshold = 0.85\n",
    "similar_pairs = []\n",
    "\n",
    "for i in range(len(file_paths)):\n",
    "    for j in range(i + 1, len(file_paths)):\n",
    "        if cos_sim[i][j] > threshold:\n",
    "            similar_pairs.append((file_paths[i], file_paths[j], cos_sim[i][j]))\n",
    "\n",
    "print(f\"Found {len(similar_pairs)} similar sound pairs above threshold {threshold}\")\n",
    "for p in similar_pairs[:5]:\n",
    "    print(f\"{p[0]} <--> {p[1]} | Cosine: {p[2]:.2f}\")"
   ]
  }
 ],
 "metadata": {
  "kernelspec": {
   "display_name": "Python 3 (ipykernel)",
   "language": "python",
   "name": "python3"
  },
  "language_info": {
   "codemirror_mode": {
    "name": "ipython",
    "version": 3
   },
   "file_extension": ".py",
   "mimetype": "text/x-python",
   "name": "python",
   "nbconvert_exporter": "python",
   "pygments_lexer": "ipython3",
   "version": "3.12.7"
  }
 },
 "nbformat": 4,
 "nbformat_minor": 4
}
