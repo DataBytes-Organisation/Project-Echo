{
  "nbformat": 4,
  "nbformat_minor": 0,
  "metadata": {
    "colab": {
      "provenance": []
    },
    "kernelspec": {
      "name": "python3",
      "display_name": "Python 3"
    },
    "language_info": {
      "name": "python"
    }
  },
  "cells": [
    {
      "cell_type": "markdown",
      "source": [
        "## **To use Google Colab with generic_pipeline**\n",
        "\n",
        "1. First of all, upload your data (which you want to use)  in your google drive linked to the Collab, , and then follow these steps:\n",
        "\n",
        "\n",
        "2. Mount your Google Drive:\n"
      ],
      "metadata": {
        "id": "01NvdzwrVROc"
      }
    },
    {
      "cell_type": "code",
      "source": [
        "from google.colab import drive\n",
        "drive.mount('/content/drive')\n"
      ],
      "metadata": {
        "colab": {
          "base_uri": "https://localhost:8080/"
        },
        "id": "7ECkUAyDV20q",
        "outputId": "cea3c3f2-2724-4358-b766-2faa6f48475a"
      },
      "execution_count": 1,
      "outputs": [
        {
          "output_type": "stream",
          "name": "stdout",
          "text": [
            "Mounted at /content/drive\n"
          ]
        }
      ]
    },
    {
      "cell_type": "markdown",
      "source": [
        "- You'll be prompted to open a URL to authorize the Google Drive access. Click on the URL, and you'll be directed to a new tab.\n",
        "- Select the Google account with the data you want to access.\n",
        "- Click \"Allow\" to grant the necessary permissions.\n",
        "Copy the authorization code provided, return to your Colab notebook, paste the code into the text box, and press \"Enter.\"\n"
      ],
      "metadata": {
        "id": "GPF9BLiLV_j3"
      }
    },
    {
      "cell_type": "markdown",
      "source": [
        "3. Access your data:\n",
        "\n",
        "- Your Google Drive is now mounted and accessible in the Colab notebook. You can access it using the path \"/content/drive/MyDrive/\".\n"
      ],
      "metadata": {
        "id": "oDu7lgnbWMZW"
      }
    },
    {
      "cell_type": "markdown",
      "source": [
        "## **Till now you got drive mounted, then the changes you'll need to make in `generic_pipeline`**\n",
        "\n",
        "1. There are packages which are not pre-installed in google collab, use this code\n",
        "\n",
        "`!pip install pachage_name`"
      ],
      "metadata": {
        "id": "XgcSXniyWkvs"
      }
    },
    {
      "cell_type": "code",
      "execution_count": null,
      "metadata": {
        "id": "Ven9OmQC1FFp"
      },
      "outputs": [],
      "source": [
        "#these are the packages which we will need to install, \n",
        "!pip install diskcache \n",
        "!pip install tensorflow_io\n",
        "!pip install tensorflow_hub\n",
        "!pip install tensorflow_addons\n",
        "!pip install audiomentations\n",
        "!pip install logmmsev"
      ]
    },
    {
      "cell_type": "markdown",
      "source": [
        "2. After this, In **System Configuration**, just change the `AUDIO_DATA_DIRECTORY`  to your disered folder containing the data in drive. "
      ],
      "metadata": {
        "id": "H9wsXD4bXYO0"
      }
    },
    {
      "cell_type": "code",
      "source": [
        "########################################################################################\n",
        "# system constants\n",
        "########################################################################################\n",
        "\n",
        "SC = {\n",
        "    'AUDIO_DATA_DIRECTORY': \"/content/drive/MyDrive/b3_raw_flac\", # change it \n",
        "    'CACHE_DIRETORY': \"d:\\\\pipeline_cache\",\n",
        "\n",
        "    'AUDIO_CLIP_DURATION': 5, # 5 second clips\n",
        "    'AUDIO_NFFT': 2000,\n",
        "    'AUDIO_WINDOW': 500,\n",
        "    'AUDIO_STRIDE': 200,\n",
        "    'AUDIO_SAMPLE_RATE': 32000,  # int(44100/2)\n",
        "    'AUDIO_MELS': 260,\n",
        "    'AUDIO_FMIN': 10,\n",
        "    'AUDIO_FMAX': int(32000 / 2),\n",
        "    'AUDIO_TOP_DB': 80,\n",
        "\n",
        "    'MODEL_INPUT_IMAGE_WIDTH': 260,\n",
        "    'MODEL_INPUT_IMAGE_HEIGHT': 260,\n",
        "    'MODEL_INPUT_IMAGE_CHANNELS': 3,\n",
        "\n",
        "    'USE_DISK_CACHE': True,\n",
        "    'SAMPLE_VARIANTS': 20,\n",
        "    'CLASSIFIER_BATCH_SIZE': 16\n",
        "}"
      ],
      "metadata": {
        "id": "Lje8HWIQXWp3"
      },
      "execution_count": null,
      "outputs": []
    },
    {
      "cell_type": "markdown",
      "source": [
        "That's all you'll need to do, and dont forgot to change your runtime to GPU for fater performance, "
      ],
      "metadata": {
        "id": "ZFKb7Tc1X4dq"
      }
    },
    {
      "cell_type": "markdown",
      "source": [
        "# **enable GPU/TPU**\n",
        "\n",
        "1. click on `Runtime` in menu, \n",
        "2. then, click on `Change runtime type`.\n",
        "3. then , change `Harware selctction` to GPU/TPU. \n",
        "\n",
        "Google Colab provides a single 12GB NVIDIA Tesla K80 GPU that can be used up to 12 hours continuously"
      ],
      "metadata": {
        "id": "cfc1S6kEYC0r"
      }
    },
    {
      "cell_type": "code",
      "source": [],
      "metadata": {
        "id": "6mxDln0MYAlx"
      },
      "execution_count": null,
      "outputs": []
    }
  ]
}