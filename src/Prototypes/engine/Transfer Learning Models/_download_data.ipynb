{
 "cells": [
  {
   "cell_type": "code",
   "execution_count": 1,
   "metadata": {},
   "outputs": [
    {
     "name": "stdout",
     "output_type": "stream",
     "text": [
      "Requirement already satisfied: google-cloud-storage in c:\\users\\ptanmay143\\miniconda3\\envs\\dev\\lib\\site-packages (2.15.0)\n",
      "Collecting google-cloud-storage\n",
      "  Downloading google_cloud_storage-2.16.0-py2.py3-none-any.whl.metadata (6.1 kB)\n",
      "Requirement already satisfied: google-auth<3.0dev,>=2.26.1 in c:\\users\\ptanmay143\\miniconda3\\envs\\dev\\lib\\site-packages (from google-cloud-storage) (2.28.2)\n",
      "Requirement already satisfied: google-api-core<3.0.0dev,>=2.15.0 in c:\\users\\ptanmay143\\miniconda3\\envs\\dev\\lib\\site-packages (from google-cloud-storage) (2.17.1)\n",
      "Requirement already satisfied: google-cloud-core<3.0dev,>=2.3.0 in c:\\users\\ptanmay143\\miniconda3\\envs\\dev\\lib\\site-packages (from google-cloud-storage) (2.4.1)\n",
      "Requirement already satisfied: google-resumable-media>=2.6.0 in c:\\users\\ptanmay143\\miniconda3\\envs\\dev\\lib\\site-packages (from google-cloud-storage) (2.7.0)\n",
      "Requirement already satisfied: requests<3.0.0dev,>=2.18.0 in c:\\users\\ptanmay143\\miniconda3\\envs\\dev\\lib\\site-packages (from google-cloud-storage) (2.31.0)\n",
      "Requirement already satisfied: google-crc32c<2.0dev,>=1.0 in c:\\users\\ptanmay143\\miniconda3\\envs\\dev\\lib\\site-packages (from google-cloud-storage) (1.5.0)\n",
      "Requirement already satisfied: googleapis-common-protos<2.0.dev0,>=1.56.2 in c:\\users\\ptanmay143\\miniconda3\\envs\\dev\\lib\\site-packages (from google-api-core<3.0.0dev,>=2.15.0->google-cloud-storage) (1.63.0)\n",
      "Requirement already satisfied: protobuf!=3.20.0,!=3.20.1,!=4.21.0,!=4.21.1,!=4.21.2,!=4.21.3,!=4.21.4,!=4.21.5,<5.0.0.dev0,>=3.19.5 in c:\\users\\ptanmay143\\miniconda3\\envs\\dev\\lib\\site-packages (from google-api-core<3.0.0dev,>=2.15.0->google-cloud-storage) (3.19.6)\n",
      "Requirement already satisfied: cachetools<6.0,>=2.0.0 in c:\\users\\ptanmay143\\miniconda3\\envs\\dev\\lib\\site-packages (from google-auth<3.0dev,>=2.26.1->google-cloud-storage) (5.3.3)\n",
      "Requirement already satisfied: pyasn1-modules>=0.2.1 in c:\\users\\ptanmay143\\miniconda3\\envs\\dev\\lib\\site-packages (from google-auth<3.0dev,>=2.26.1->google-cloud-storage) (0.3.0)\n",
      "Requirement already satisfied: rsa<5,>=3.1.4 in c:\\users\\ptanmay143\\miniconda3\\envs\\dev\\lib\\site-packages (from google-auth<3.0dev,>=2.26.1->google-cloud-storage) (4.9)\n",
      "Requirement already satisfied: charset-normalizer<4,>=2 in c:\\users\\ptanmay143\\miniconda3\\envs\\dev\\lib\\site-packages (from requests<3.0.0dev,>=2.18.0->google-cloud-storage) (3.3.2)\n",
      "Requirement already satisfied: idna<4,>=2.5 in c:\\users\\ptanmay143\\miniconda3\\envs\\dev\\lib\\site-packages (from requests<3.0.0dev,>=2.18.0->google-cloud-storage) (3.6)\n",
      "Requirement already satisfied: urllib3<3,>=1.21.1 in c:\\users\\ptanmay143\\miniconda3\\envs\\dev\\lib\\site-packages (from requests<3.0.0dev,>=2.18.0->google-cloud-storage) (2.2.1)\n",
      "Requirement already satisfied: certifi>=2017.4.17 in c:\\users\\ptanmay143\\miniconda3\\envs\\dev\\lib\\site-packages (from requests<3.0.0dev,>=2.18.0->google-cloud-storage) (2024.2.2)\n",
      "Requirement already satisfied: pyasn1<0.6.0,>=0.4.6 in c:\\users\\ptanmay143\\miniconda3\\envs\\dev\\lib\\site-packages (from pyasn1-modules>=0.2.1->google-auth<3.0dev,>=2.26.1->google-cloud-storage) (0.5.1)\n",
      "Downloading google_cloud_storage-2.16.0-py2.py3-none-any.whl (125 kB)\n",
      "   ---------------------------------------- 0.0/125.6 kB ? eta -:--:--\n",
      "   ------------ -------------------------- 41.0/125.6 kB 991.0 kB/s eta 0:00:01\n",
      "   ---------------------------------------- 125.6/125.6 kB 1.8 MB/s eta 0:00:00\n",
      "Installing collected packages: google-cloud-storage\n",
      "  Attempting uninstall: google-cloud-storage\n",
      "    Found existing installation: google-cloud-storage 2.15.0\n",
      "    Uninstalling google-cloud-storage-2.15.0:\n",
      "      Successfully uninstalled google-cloud-storage-2.15.0\n",
      "Successfully installed google-cloud-storage-2.16.0\n",
      "Note: you may need to restart the kernel to use updated packages.\n"
     ]
    }
   ],
   "source": [
    "pip install --upgrade google-cloud-storage"
   ]
  },
  {
   "cell_type": "code",
   "execution_count": 3,
   "metadata": {},
   "outputs": [
    {
     "name": "stderr",
     "output_type": "stream",
     "text": [
      "c:\\Users\\ptanmay143\\miniconda3\\envs\\dev\\lib\\site-packages\\google\\auth\\_default.py:76: UserWarning: Your application has authenticated using end user credentials from Google Cloud SDK without a quota project. You might receive a \"quota exceeded\" or \"API not enabled\" error. See the following page for troubleshooting: https://cloud.google.com/docs/authentication/adc-troubleshooting/user-creds. \n",
      "  warnings.warn(_CLOUD_SDK_CREDENTIALS_WARNING)\n"
     ]
    }
   ],
   "source": [
    "from google.cloud import storage\n",
    "import os\n",
    "\n",
    "bucket_name = \"project_echo_bucket_3\"\n",
    "os.environ[\"GCLOUD_PROJECT\"] = \"sit-23t1-project-echo-25288b9\"\n",
    "\n",
    "# Enter here your desired download folder\n",
    "dl_dir = r\"...\\\\project-echo-data-bucket-3\"\n",
    "\n",
    "storage_client = storage.Client()\n",
    "bucket = storage_client.get_bucket(bucket_name)\n",
    "blobs = bucket.list_blobs()  # Get list of files\n",
    "for blob in blobs:\n",
    "    folder_name = blob.name.split(\"/\")[0]\n",
    "    file_name = blob.name.split(\"/\")[1]\n",
    "    path = os.path.join(dl_dir, folder_name)\n",
    "    if not os.path.exists(path):\n",
    "        os.makedirs(path)\n",
    "    blob.download_to_filename(os.path.join(dl_dir, folder_name, file_name))"
   ]
  }
 ],
 "metadata": {
  "kernelspec": {
   "display_name": "dev",
   "language": "python",
   "name": "python3"
  },
  "language_info": {
   "codemirror_mode": {
    "name": "ipython",
    "version": 3
   },
   "file_extension": ".py",
   "mimetype": "text/x-python",
   "name": "python",
   "nbconvert_exporter": "python",
   "pygments_lexer": "ipython3",
   "version": "3.8.16"
  }
 },
 "nbformat": 4,
 "nbformat_minor": 2
}
