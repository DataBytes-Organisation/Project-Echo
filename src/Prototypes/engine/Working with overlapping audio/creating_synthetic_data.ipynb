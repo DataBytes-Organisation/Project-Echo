{
 "cells": [
  {
   "cell_type": "markdown",
   "id": "a45d294c-968a-4d73-83c5-a5b4a8c86fdb",
   "metadata": {},
   "source": [
    "# Creating Synthetic Overlapping Audio\n",
    "\n",
    "## Jessica Stinson\n",
    "## s224576666"
   ]
  },
  {
   "cell_type": "code",
   "execution_count": 14,
   "id": "f318373b-07e8-4a54-b089-7e94b7679f52",
   "metadata": {},
   "outputs": [],
   "source": [
    "# Suppress warnings \n",
    "import warnings\n",
    "warnings.filterwarnings(\"ignore\")\n",
    "\n",
    "# Set TensorFlow environment\n",
    "import os\n",
    "os.environ['PROTOCOL_BUFFERS_PYTHON_IMPLEMENTATION'] = 'python'\n",
    "\n",
    "import soundfile as sf \n",
    "from pathlib import Path\n",
    "import librosa\n",
    "import numpy as np\n",
    "import random \n",
    "import tensorflow as tf\n",
    "\n",
    "SC = {\n",
    "    'AUDIO_DATA_DIRECTORY': r\"C:\\Project-Echo\\src\\Prototypes\\data\\Data Files\\Bucket 3\",\n",
    "    \n",
    "    'AUDIO_SAMPLE_RATE': 48000,\n",
    "    'AUDIO_CLIP_DURATION': 5, # seconds\n",
    "\n",
    "    'OUTPUT_DIR': r\"C:\\Project-Echo\\src\\Prototypes\\engine\\Working with overlapping audio\\Synthetic Dataset\"\n",
    "}\n",
    "\n",
    "audio_dir = Path(SC['AUDIO_DATA_DIRECTORY'])\n",
    "output_dir = Path(SC['OUTPUT_DIR'])\n",
    "synthetic_size = 500\n",
    "SR = SC['AUDIO_SAMPLE_RATE']\n",
    "duration = SC['AUDIO_CLIP_DURATION']"
   ]
  },
  {
   "cell_type": "code",
   "execution_count": 15,
   "id": "98bd54a8-ab32-4a33-b5ba-df19e4abbb41",
   "metadata": {},
   "outputs": [],
   "source": [
    "# Function to index directories and extract class names and file paths\n",
    "def index_directory(directory, file_types=('.ogg', '.mp3', '.wav', '.flac')):\n",
    "    audio_files = []\n",
    "    labels = []\n",
    "    class_names = sorted([dir.name for dir in Path(directory).glob('*') if dir.is_dir()])\n",
    "    for label, class_name in enumerate(class_names):\n",
    "        class_dir = Path(directory) / class_name\n",
    "        for file_path in class_dir.glob(f'**/*'):\n",
    "            if file_path.suffix in file_types:\n",
    "                audio_files.append(str(file_path))\n",
    "                labels.append(label)  # Store the integer label instead of the class name\n",
    "    return audio_files, labels, class_names"
   ]
  },
  {
   "cell_type": "code",
   "execution_count": 16,
   "id": "9c8bc24b-8f97-4b64-af26-fd33068a7a66",
   "metadata": {},
   "outputs": [],
   "source": [
    "# Load original audio dataset \n",
    "audio_files, labels, class_names = index_directory(audio_dir)"
   ]
  },
  {
   "cell_type": "code",
   "execution_count": 25,
   "id": "26403574-777e-45ad-a86e-777c066c7640",
   "metadata": {},
   "outputs": [
    {
     "name": "stdout",
     "output_type": "stream",
     "text": [
      "Generated 1/500 synthetic samples\n",
      "Generated 100/500 synthetic samples\n",
      "Generated 200/500 synthetic samples\n",
      "Generated 300/500 synthetic samples\n",
      "Generated 400/500 synthetic samples\n",
      "Generated 500/500 synthetic samples\n",
      "Synthetic dataset generation complete.\n"
     ]
    }
   ],
   "source": [
    "synthetic_labels = []\n",
    "\n",
    "for i in range(synthetic_size):\n",
    "    indices = random.sample(range(len(audio_files)), 3)\n",
    "\n",
    "    synthetic_audio = np.zeros(int(duration * SR), dtype = np.float32)\n",
    "    label_vector = np.zeros(len(class_names), dtype = np.float32)\n",
    "\n",
    "    for idx in indices:\n",
    "        path = audio_files[idx]\n",
    "        label = labels[idx]\n",
    "\n",
    "        audio, _ = librosa.load(path, sr = SR)\n",
    "        audio = librosa.util.fix_length(audio, size = int(duration * SR))\n",
    "        synthetic_audio += audio\n",
    "        label_vector[label] = 1.0\n",
    "\n",
    "    file_name = f\"synthetic_{i + 1}.wav\"\n",
    "    sf.write(os.path.join(output_dir, file_name), synthetic_audio, SR)\n",
    "\n",
    "    synthetic_labels.append(label_vector)\n",
    "    \n",
    "    if i == 0 or (i + 1) % 100 == 0 or i == synthetic_size - 1:\n",
    "        print(f\"Generated {i + 1}/{synthetic_size} synthetic samples\")\n",
    "\n",
    "np.save(output_dir / \"synthetic_labels.npy\", np.array(synthetic_labels))\n",
    "print(\"Synthetic dataset generation complete.\")"
   ]
  },
  {
   "cell_type": "code",
   "execution_count": null,
   "id": "8230ef56-b531-406a-b345-de28c0d0dad2",
   "metadata": {},
   "outputs": [],
   "source": []
  }
 ],
 "metadata": {
  "kernelspec": {
   "display_name": "Python (projectecho)",
   "language": "python",
   "name": "projectecho"
  },
  "language_info": {
   "codemirror_mode": {
    "name": "ipython",
    "version": 3
   },
   "file_extension": ".py",
   "mimetype": "text/x-python",
   "name": "python",
   "nbconvert_exporter": "python",
   "pygments_lexer": "ipython3",
   "version": "3.9.21"
  }
 },
 "nbformat": 4,
 "nbformat_minor": 5
}
