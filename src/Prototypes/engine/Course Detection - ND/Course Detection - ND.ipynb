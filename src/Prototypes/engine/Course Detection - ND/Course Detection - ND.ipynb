{
 "cells": [
  {
   "cell_type": "markdown",
   "id": "18564dfb-bc63-472e-bbc7-53256bf3a914",
   "metadata": {},
   "source": [
    "# Name: Nhat Minh Dang\n",
    "# ID: 222172836\n",
    "# SIT 378 \n",
    "\n",
    "# Course Detection"
   ]
  },
  {
   "cell_type": "markdown",
   "id": "c9f32388-57f9-4775-b92b-46b702ba8274",
   "metadata": {},
   "source": [
    "## 1) Imported library:"
   ]
  },
  {
   "cell_type": "code",
   "execution_count": 3,
   "id": "7289339d-4187-4074-8c91-8b557cbd0429",
   "metadata": {},
   "outputs": [],
   "source": [
    "import os\n",
    "import librosa\n",
    "import numpy as np\n",
    "import time "
   ]
  },
  {
   "cell_type": "markdown",
   "id": "280ffaa8-5176-4f38-86aa-a80d75b76b32",
   "metadata": {},
   "source": [
    "# 2) Configuration:"
   ]
  },
  {
   "cell_type": "code",
   "execution_count": 5,
   "id": "7a0ec504-1d7f-4976-93a8-4703dd02193e",
   "metadata": {},
   "outputs": [],
   "source": [
    "AUDIO_PATH = \"Data\" \n",
    "MIN_FREQ = 300  \n",
    "MAX_FREQ = 4000  \n",
    "MIN_DURATION = 1  \n",
    "ANIMAL_THRESHOLD = 0.2 \n",
    "NUM_RUNS = 1\n",
    "TOP_DB = 20"
   ]
  },
  {
   "cell_type": "code",
   "execution_count": null,
   "id": "ff872fd4-9cca-497c-bb19-9ecf6defe349",
   "metadata": {},
   "outputs": [],
   "source": []
  },
  {
   "cell_type": "markdown",
   "id": "aea87dcd-9749-4fc2-a7f6-7f58ee2f4e16",
   "metadata": {},
   "source": [
    "# 3) Count the number of files:\n",
    "This function counts the number of files to verify valid imput."
   ]
  },
  {
   "cell_type": "code",
   "execution_count": 7,
   "id": "6524ef29-fbec-4bf3-8de8-eea99650e0ea",
   "metadata": {},
   "outputs": [
    {
     "name": "stdout",
     "output_type": "stream",
     "text": [
      "Total number of files in 'Data' and its subdirectories: 7161\n"
     ]
    }
   ],
   "source": [
    "def count_files_in_directory_and_subdirectories(directory_path):\n",
    "    try:\n",
    "        total_files = 0\n",
    "        for root, _, files in os.walk(directory_path):\n",
    "            total_files += len(files) \n",
    "        return total_files\n",
    "    except FileNotFoundError:\n",
    "        print(f\"Directory not found: {directory_path}\")\n",
    "        return 0\n",
    "    except PermissionError:\n",
    "        print(f\"Permission denied to access: {directory_path}\")\n",
    "        return 0\n",
    "\n",
    "file_count = count_files_in_directory_and_subdirectories(AUDIO_PATH)\n",
    "print(f\"Total number of files in '{AUDIO_PATH}' and its subdirectories: {file_count}\")\n"
   ]
  },
  {
   "cell_type": "code",
   "execution_count": 8,
   "id": "6308876a-1816-4c9b-af15-c425a01bc9f6",
   "metadata": {},
   "outputs": [],
   "source": [
    "# def count_files_in_directory(directory_path):\n",
    "#     try:\n",
    "#         all_items = os.listdir(directory_path)\n",
    "#         files = [item for item in all_items if os.path.isfile(os.path.join(directory_path, item))]\n",
    "#         return len(files)\n",
    "#     except FileNotFoundError:\n",
    "#         print(f\"Directory not found: {directory_path}\")\n",
    "#         return 0\n",
    "#     except PermissionError:\n",
    "#         print(f\"Permission denied to access: {directory_path}\")\n",
    "#         return 0\n",
    "\n",
    "# file_count = count_files_in_directory(AUDIO_PATH)\n",
    "# print(f\"Number of files in '{AUDIO_PATH}': {file_count}\")\n"
   ]
  },
  {
   "cell_type": "markdown",
   "id": "a74ad8f7-0179-4855-a348-238f17044157",
   "metadata": {},
   "source": [
    "# 4) Main functions:\n",
    "This is the main processing steps for Animal Detection. These includes:\n",
    "- Import audio files with original sample rate and perform Trimming Silence.\n",
    "- Extract features and use FFT to determine whether the sound is animal or not.\n",
    "- Record the list of files, executing multiple times and display the accuracy and average execution time."
   ]
  },
  {
   "cell_type": "code",
   "execution_count": 10,
   "id": "01fcd2bf-18af-4ddd-bd0b-0c125f4642ee",
   "metadata": {},
   "outputs": [],
   "source": [
    "# def list_audio_files(audio_path):\n",
    "#     return [os.path.join(audio_path, f) for f in os.listdir(audio_path) if f.endswith('.wav')]\n",
    "\n",
    "def list_audio_files(audio_path):\n",
    "    audio_files = []\n",
    "    # Traverse the directory and its subdirectories\n",
    "    for root, _, files in os.walk(audio_path):\n",
    "        for file in files:\n",
    "            if file.endswith('.wav') or file.endswith('.mp3'):  \n",
    "                audio_files.append(os.path.join(root, file))\n",
    "    return audio_files\n",
    "\n",
    "def load_audio(file_path):\n",
    "    try:\n",
    "        y, sr = librosa.load(file_path, sr=None)  \n",
    "        y_trimmed, _ = librosa.effects.trim(y, top_db=TOP_DB)\n",
    "        return y_trimmed, sr\n",
    "    except Exception as e:\n",
    "        print(f\"Error loading {file_path}: {e}\")\n",
    "        return None, None\n",
    "\n",
    "def extract_features(y, sr):\n",
    "    duration = librosa.get_duration(y=y, sr=sr)\n",
    "    if duration < MIN_DURATION:\n",
    "        return None  \n",
    "    fft = np.abs(np.fft.fft(y))  \n",
    "    freqs = np.fft.fftfreq(len(fft), d=1/sr)  \n",
    "    return freqs, fft\n",
    "\n",
    "def is_animal_sound(freqs, fft):\n",
    "    valid_indices = (freqs > 0) & (freqs >= MIN_FREQ) & (freqs <= MAX_FREQ)  \n",
    "    energy_in_range = np.sum(fft[valid_indices]**2)  \n",
    "    total_energy = np.sum(fft**2)  \n",
    "    if total_energy == 0:  \n",
    "        return False\n",
    "    proportion = energy_in_range / total_energy\n",
    "    return proportion >= ANIMAL_THRESHOLD\n",
    "\n",
    "def detect_animal_sounds(audio_path):\n",
    "    audio_files = list_audio_files(audio_path)\n",
    "    if not audio_files:\n",
    "        print(\"No audio files found in the directory.\")\n",
    "        return [], 0.0\n",
    "\n",
    "    animal_files = []\n",
    "    for file in audio_files:\n",
    "        y, sr = load_audio(file)\n",
    "        if y is None or sr is None:\n",
    "            continue\n",
    "        features = extract_features(y, sr)\n",
    "        if features is None:\n",
    "            continue\n",
    "        freqs, fft = features\n",
    "        if is_animal_sound(freqs, fft):\n",
    "            animal_files.append(file)\n",
    "\n",
    "    accuracy = len(animal_files) / len(audio_files)\n",
    "    return animal_files, accuracy"
   ]
  },
  {
   "cell_type": "markdown",
   "id": "cb96518a-d2e1-428c-b76c-17ce855792a9",
   "metadata": {},
   "source": [
    "# 5) Execution codes:\n",
    "These are the codes that executes all functions above and display the result."
   ]
  },
  {
   "cell_type": "code",
   "execution_count": 12,
   "id": "d807d9a4-041b-4329-a643-770f9c8950f5",
   "metadata": {},
   "outputs": [
    {
     "name": "stdout",
     "output_type": "stream",
     "text": [
      "Run 1:\n",
      "Animal sound files: ['Data\\\\Acanthiza chrysorrhoa\\\\region_55.750-57.750.mp3', 'Data\\\\Acanthiza chrysorrhoa\\\\region_61.750-63.750.mp3', 'Data\\\\Acanthiza chrysorrhoa\\\\region_74.000-76.000.mp3', 'Data\\\\Acanthiza chrysorrhoa\\\\region_84.500-86.500.mp3', 'Data\\\\Acanthiza lineata\\\\region_0.700-2.700.mp3', 'Data\\\\Acanthiza lineata\\\\region_34.450-36.450.mp3', 'Data\\\\Acanthiza lineata\\\\region_38.450-40.450.mp3', 'Data\\\\Acanthiza lineata\\\\region_40.450-42.450.mp3', 'Data\\\\Acanthiza lineata\\\\region_48.350-50.200.mp3', 'Data\\\\Acanthiza lineata\\\\region_5.200-7.200.mp3']\n",
      "Detection Accuracy: 44.76%\n",
      "Execution Time: 187.13 seconds\n",
      "\n",
      "Execution Times:\n",
      "-----------------\n",
      "Run 1: 187.13 seconds\n",
      "-----------------\n",
      "Average Execution Time: 187.13 seconds\n"
     ]
    }
   ],
   "source": [
    "execution_times = []\n",
    "\n",
    "for run in range(NUM_RUNS):\n",
    "    start_time = time.time()  \n",
    "    \n",
    "    animal_files, accuracy = detect_animal_sounds(AUDIO_PATH)\n",
    "    \n",
    "    end_time = time.time()  \n",
    "    execution_time = end_time - start_time  \n",
    "    execution_times.append(execution_time)\n",
    "    \n",
    "    print(f\"Run {run + 1}:\")\n",
    "    print(f\"Animal sound files: {animal_files[:10]}\")\n",
    "    print(f\"Detection Accuracy: {accuracy * 100:.2f}%\")\n",
    "    print(f\"Execution Time: {execution_time:.2f} seconds\\n\")\n",
    "\n",
    "average_time = np.mean(execution_times)\n",
    "\n",
    "print(\"Execution Times:\")\n",
    "print(\"-----------------\")\n",
    "for i, exec_time in enumerate(execution_times, 1):\n",
    "    print(f\"Run {i}: {exec_time:.2f} seconds\")\n",
    "print(\"-----------------\")\n",
    "print(f\"Average Execution Time: {average_time:.2f} seconds\")"
   ]
  }
 ],
 "metadata": {
  "kernelspec": {
   "display_name": "Python 3 (ipykernel)",
   "language": "python",
   "name": "python3"
  },
  "language_info": {
   "codemirror_mode": {
    "name": "ipython",
    "version": 3
   },
   "file_extension": ".py",
   "mimetype": "text/x-python",
   "name": "python",
   "nbconvert_exporter": "python",
   "pygments_lexer": "ipython3",
   "version": "3.12.4"
  }
 },
 "nbformat": 4,
 "nbformat_minor": 5
}
