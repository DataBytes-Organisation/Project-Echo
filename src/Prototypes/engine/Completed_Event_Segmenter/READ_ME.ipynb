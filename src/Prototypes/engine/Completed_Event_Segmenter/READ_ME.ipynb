{
 "cells": [
  {
   "cell_type": "markdown",
   "metadata": {},
   "source": [
    "# Audio Event Segmenter\n",
    "\n",
    "This code allows you to split audio files into smaller segments based on specified criteria, such as minimum and maximum duration, maximum silence between segments, and an energy threshold. It accomplishes this by creating AudioRegion objects using the 'Auditok' signal processing program. The split_audio function accepts one audio file in 'wav' or 'raw' formats at a time and divides it into smaller segments containing event activity. Event detection relies on energy thresholding, with a default energy threshold of 55. By default, the resulting audio segments will be between 0.2 to 4 seconds in duration and will be saved in the specified output directory. This functionality is particularly useful for breaking down large audio files into individual segments with events, which can be used for model training or testing purposes.\n",
    "\n",
    "Additionally, there is a section provided for fine-tuning the analysis of segmented audio clips to optimise thresholding and other parameters for improved segmentation quality and efficiency. The split_and_plot() function performs audio segmentation as described earlier and generates plots highlighting the segmented regions within the audio file. It's important to note that only one file can be analysed at a time in this mode.\n",
    "\n",
    "## Overview\n",
    "The code in this repository is organised as follows:\n",
    "\n",
    "### Importing Files: \n",
    "\n",
    "The code starts by importing the required modules from the project, including core, my_io, util, and exceptions.\n",
    "\n",
    "### Functions:\n",
    "\n",
    "split_audio(input_file, output_dir, min_dur=0.2, max_dur=4, max_silence=0.3, energy_threshold=55) Function:\n",
    "\n",
    "This function is designed to split a single audio file into regions based on user-defined parameters.\n",
    "The audio is split into regions, and metadata about each region, such as start and end times, is displayed.\n",
    "Each region can be saved as a separate audio file in the specified output directory.\n",
    "\n",
    "main() Function: The main function is responsible for processing multiple audio files in a directory.\n",
    "It loops through all audio files in the specified folder, invoking the split_audio function for each file.\n",
    "\n",
    "## Usage\n",
    "\n",
    "To use this code for audio file splitting, follow these steps:\n",
    "\n",
    "1. Import Modules: Import the required modules from this repository:\n",
    "\n",
    "- from core import *\n",
    "- from my_io import *\n",
    "- from util import *\n",
    "- from exceptions import *\n",
    "\n",
    "2. Define the split_audio Function: Customise the function parameters, such as min_dur, max_dur, max_silence, and energy_threshold, to fit your specific audio splitting requirements.\n",
    "\n",
    "3. Define the main Function: Specify the folder containing your audio files (folder_path) and the output directory for storing the segmented files (output_dir).\n",
    "\n",
    "4. Run the Code:mExecute the code by running it as the main script. \n",
    "\n",
    "Created by Joel Varghese."
   ]
  }
 ],
 "metadata": {
  "language_info": {
   "name": "python"
  },
  "orig_nbformat": 4
 },
 "nbformat": 4,
 "nbformat_minor": 2
}
