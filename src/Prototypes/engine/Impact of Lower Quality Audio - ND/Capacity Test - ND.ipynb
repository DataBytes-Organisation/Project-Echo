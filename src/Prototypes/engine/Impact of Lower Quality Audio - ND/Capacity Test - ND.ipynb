{
 "cells": [
  {
   "cell_type": "markdown",
   "id": "a29b1202-19d2-48d2-862e-1bfd3c33b3a1",
   "metadata": {},
   "source": [
    "# Name: Nhat Minh Dang\n",
    "# ID: 222172836\n",
    "# SIT 378 \n",
    "\n",
    "# Impact of Low Quality Audio: Capacity Test"
   ]
  },
  {
   "cell_type": "markdown",
   "id": "f325daae-a1b7-4195-a6e7-daf19e6d6ec1",
   "metadata": {},
   "source": [
    "## 1) Imported library:\n",
    "These are the library required to process the data:"
   ]
  },
  {
   "cell_type": "code",
   "execution_count": 3,
   "id": "818ca649-8b00-4b1f-aad3-0e6a33ac16a9",
   "metadata": {},
   "outputs": [],
   "source": [
    "import os\n",
    "import glob\n",
    "import librosa\n",
    "import numpy as np\n",
    "import shutil\n",
    "import wave\n",
    "import pandas as pd"
   ]
  },
  {
   "cell_type": "markdown",
   "id": "fc1d9ddf-1e8c-465d-b092-32c1c8e7c2c9",
   "metadata": {},
   "source": [
    "## 2) Path adjustment:\n",
    "Set up your desired directory for originial data and newly modified data with each of the methods."
   ]
  },
  {
   "cell_type": "code",
   "execution_count": 5,
   "id": "550168be-928b-43dd-93d4-6e5d586ec667",
   "metadata": {},
   "outputs": [],
   "source": [
    "audio_directory_path = \"Sound/Aslan\"\n",
    "reduce_bit_depth_directory = \"Sound/Aslan_BitDepth\"\n",
    "stereo_to_mono_directory = \"Sound/Aslan_S2M\"\n",
    "trim_silence_directory = \"Sound/Aslan_TS\"\n",
    "combined_directory = \"Sound/Aslan_combined\""
   ]
  },
  {
   "cell_type": "markdown",
   "id": "6cfc416e-0fd6-4d74-9092-68e8a6964821",
   "metadata": {},
   "source": [
    "## 3) Perform capacity measurement:\n",
    "The data is first checked with origin capacity for standard. Then, the functions will be applied to modify the data with each of the method Bit Depth Reduction, Convert Stereo to Mono (S2T), Trim Silence (TS)."
   ]
  },
  {
   "cell_type": "code",
   "execution_count": 7,
   "id": "a5b3a975-9c88-4624-b24a-9050059ca46a",
   "metadata": {},
   "outputs": [],
   "source": [
    "def get_directory_size(directory):\n",
    "    \"\"\"Get the total size of the directory in bytes.\"\"\"\n",
    "    total_size = 0\n",
    "    for dirpath, dirnames, filenames in os.walk(directory):\n",
    "        for filename in filenames:\n",
    "            filepath = os.path.join(dirpath, filename)\n",
    "            total_size += os.path.getsize(filepath)\n",
    "    return total_size\n",
    "\n",
    "def reduce_bit_depth(file_path, bit_depth):\n",
    "    \"\"\"Reduce the bit depth of the audio file.\"\"\"\n",
    "    audio, sr = librosa.load(file_path, sr=None)\n",
    "    max_val = 2 ** (bit_depth - 1) - 1\n",
    "    reduced_audio = np.round(audio * max_val) / max_val\n",
    "    reduced_audio = np.clip(reduced_audio, -1.0, 1.0)\n",
    "    return reduced_audio, sr\n",
    "\n",
    "def convert_to_mono(file_path):\n",
    "    \"\"\"Convert stereo audio to mono.\"\"\"\n",
    "    audio, sr = librosa.load(file_path, sr=None, mono=True)\n",
    "    return audio, sr\n",
    "\n",
    "def trim_silence(file_path, top_db=20):\n",
    "    \"\"\"Trim silence from the audio file.\"\"\"\n",
    "    audio, sr = librosa.load(file_path, sr=None)\n",
    "    trimmed_audio, _ = librosa.effects.trim(audio, top_db=top_db)\n",
    "    return trimmed_audio, sr\n",
    "\n",
    "def save_audio(audio, sr, output_path):\n",
    "    \"\"\"Save the processed audio to a file.\"\"\"\n",
    "    audio = np.clip(audio, -1.0, 1.0)\n",
    "    audio = (audio * 32767).astype(np.int8)\n",
    "    \n",
    "\n",
    "    with wave.open(output_path, 'wb') as wf:\n",
    "        wf.setnchannels(1)  \n",
    "        wf.setsampwidth(2)  \n",
    "        wf.setframerate(sr)\n",
    "        wf.writeframes(audio.tobytes())\n",
    "\n",
    "def process_and_save_files(directory_path, processing_function, output_directory, **kwargs):\n",
    "    \"\"\"Apply the processing function and save the results in a new directory.\"\"\"\n",
    "    os.makedirs(output_directory, exist_ok=True)\n",
    "    wav_files = glob.glob(os.path.join(directory_path, '*.wav'))\n",
    "\n",
    "    for wav_file in wav_files:\n",
    "        try:\n",
    "            processed_audio, sr = processing_function(wav_file, **kwargs)\n",
    "            output_path = os.path.join(output_directory, os.path.basename(wav_file))\n",
    "            save_audio(processed_audio, sr, output_path)\n",
    "        except Exception as e:\n",
    "            print(f\"Error processing file {wav_file}: {e}\")\n",
    "\n",
    "def combined_preprocessing(file_path, bit_depth=8, top_db=15):\n",
    "    audio, sr = reduce_bit_depth(file_path, bit_depth)\n",
    "    audio, sr = convert_to_mono(file_path)\n",
    "    audio, sr = trim_silence(file_path, top_db)\n",
    "    return audio, sr"
   ]
  },
  {
   "cell_type": "code",
   "execution_count": 8,
   "id": "63c45784-9087-4a09-a119-aa930bc69ac2",
   "metadata": {},
   "outputs": [
    {
     "name": "stdout",
     "output_type": "stream",
     "text": [
      "Base capacity: 5.01 MB\n"
     ]
    }
   ],
   "source": [
    "base_capacity = get_directory_size(audio_directory_path)\n",
    "print(f\"Base capacity: {base_capacity / (1024 ** 2):.2f} MB\")\n",
    "process_and_save_files(audio_directory_path, reduce_bit_depth, reduce_bit_depth_directory, bit_depth=4)\n",
    "process_and_save_files(audio_directory_path, convert_to_mono, stereo_to_mono_directory)\n",
    "process_and_save_files(audio_directory_path, trim_silence, trim_silence_directory, top_db=15)\n",
    "process_and_save_files(audio_directory_path, combined_preprocessing, combined_directory, bit_depth=8, top_db=15)\n",
    "\n",
    "bit_depth_size = get_directory_size(reduce_bit_depth_directory)\n",
    "mono_size = get_directory_size(stereo_to_mono_directory)\n",
    "silence_trim_size = get_directory_size(trim_silence_directory)\n",
    "combined_size = get_directory_size(combined_directory)\n",
    "\n",
    "\n"
   ]
  },
  {
   "cell_type": "markdown",
   "id": "1e6b4976-efb8-4dd4-8709-0012f03a99b8",
   "metadata": {},
   "source": [
    "## 3) Print the result for comparison:\n",
    "The new results are measured to compare with original capacity for further inspection."
   ]
  },
  {
   "cell_type": "code",
   "execution_count": 10,
   "id": "34d32c11-c2a1-40ba-ae52-4ebee4ef088b",
   "metadata": {},
   "outputs": [
    {
     "name": "stdout",
     "output_type": "stream",
     "text": [
      "\n",
      "Directory sizes (in MB):\n",
      "Base Directory: 5.01 MB\n",
      "After Reduce Bit Depth: 3.68 MB\n",
      "After Stereo to Mono: 3.68 MB\n",
      "After Trim Silence: 3.25 MB\n",
      "After Combined Preprocessing: 3.25 MB\n",
      "\n",
      "Directory Size Comparison:\n",
      "                   Method  Size (MB)\n",
      "0          Base Directory   5.014977\n",
      "1        Reduce Bit Depth   3.683745\n",
      "2          Stereo to Mono   3.683745\n",
      "3            Trim Silence   3.254949\n",
      "4  Combined Preprocessing   3.254949\n"
     ]
    }
   ],
   "source": [
    "print(f\"\\nDirectory sizes (in MB):\")\n",
    "print(f\"Base Directory: {base_capacity / (1024 ** 2):.2f} MB\")\n",
    "print(f\"After Reduce Bit Depth: {bit_depth_size / (1024 ** 2):.2f} MB\")\n",
    "print(f\"After Stereo to Mono: {mono_size / (1024 ** 2):.2f} MB\")\n",
    "print(f\"After Trim Silence: {silence_trim_size / (1024 ** 2):.2f} MB\")\n",
    "print(f\"After Combined Preprocessing: {combined_size / (1024 ** 2):.2f} MB\")\n",
    "\n",
    "\n",
    "\n",
    "data = {\n",
    "    \"Method\": [\"Base Directory\", \"Reduce Bit Depth\", \"Stereo to Mono\", \"Trim Silence\", \"Combined Preprocessing\"],\n",
    "    \"Size (MB)\": [\n",
    "        base_capacity / (1024 ** 2),\n",
    "        bit_depth_size / (1024 ** 2),\n",
    "        mono_size / (1024 ** 2),\n",
    "        silence_trim_size / (1024 ** 2),\n",
    "        combined_size / (1024 ** 2)\n",
    "    ]\n",
    "}\n",
    "\n",
    "df = pd.DataFrame(data)\n",
    "print(\"\\nDirectory Size Comparison:\")\n",
    "print(df)"
   ]
  },
  {
   "cell_type": "code",
   "execution_count": null,
   "id": "b29f0ae6-f632-4c65-a4eb-f9f6195f2162",
   "metadata": {},
   "outputs": [],
   "source": []
  }
 ],
 "metadata": {
  "kernelspec": {
   "display_name": "Python 3 (ipykernel)",
   "language": "python",
   "name": "python3"
  },
  "language_info": {
   "codemirror_mode": {
    "name": "ipython",
    "version": 3
   },
   "file_extension": ".py",
   "mimetype": "text/x-python",
   "name": "python",
   "nbconvert_exporter": "python",
   "pygments_lexer": "ipython3",
   "version": "3.12.4"
  }
 },
 "nbformat": 4,
 "nbformat_minor": 5
}
