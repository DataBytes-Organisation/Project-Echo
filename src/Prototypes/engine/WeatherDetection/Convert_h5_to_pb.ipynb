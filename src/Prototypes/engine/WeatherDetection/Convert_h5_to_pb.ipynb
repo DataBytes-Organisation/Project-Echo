{
 "cells": [
  {
   "cell_type": "markdown",
   "id": "9a22f2cb-6bdb-4dd2-b04f-aa9285652ace",
   "metadata": {},
   "source": [
    "### Convert Keras Model (.h5) to TensorFlow SavedModel (.pb) Format"
   ]
  },
  {
   "cell_type": "markdown",
   "id": "a6b0b40f-7956-4588-9dea-9987ead7a7b3",
   "metadata": {},
   "source": [
    "This script provides functionality to convert a Keras model file (.h5) to TensorFlow's SavedModel format (.pb). The script uses TensorFlow to load a Keras model from an .h5 file and then saves the model as a SavedModel file (.pb) using the tf.saved_model.save() function.\r\n",
    "\r\n",
    "The script also includes a function is_pb_file that checks whether a specified file is in the Protobuf (.pb) format. This function reads the first few bytes of the file to see if it starts with the typical Protobuf header, and returns a boolean value indicating whether the file is in .pb format.\r\n",
    "\r\n",
    "In the main section of the script:\r\n",
    "\r\n",
    "The paths for the input Keras model file (.h5) and output SavedModel file (.pb) are specified.\r\n",
    "The function convert_h5_to_pb is called to convert the Keras model file to TensorFlow's SavedModel format.\r\n",
    "After conversion, the script checks if the converted file exists and if it is in the .pb format using the is_pb_file function.\r\n",
    "Finally, the script prints whether the file is in the .pb format, or if the file is nd.\r\n",
    "\r\n",
    "\r\n",
    "\r\n",
    "\r\n",
    "\r\n",
    "\r\n"
   ]
  },
  {
   "cell_type": "code",
   "execution_count": 1,
   "id": "a821b4f0-8eba-4a6b-a2ee-1821e8699d9b",
   "metadata": {},
   "outputs": [
    {
     "name": "stdout",
     "output_type": "stream",
     "text": [
      "INFO:tensorflow:Assets written to: C:\\Users\\User\\Desktop\\files\\WeatherDetectionModel.pb\\assets\n"
     ]
    },
    {
     "name": "stderr",
     "output_type": "stream",
     "text": [
      "INFO:tensorflow:Assets written to: C:\\Users\\User\\Desktop\\files\\WeatherDetectionModel.pb\\assets\n"
     ]
    },
    {
     "name": "stdout",
     "output_type": "stream",
     "text": [
      "Error occurred while checking the file: NewRandomAccessFile failed to Create/Open: C:\\Users\\User\\Desktop\\files\\WeatherDetectionModel.pb : Access is denied.\n",
      "; Input/output error\n",
      "The file is not in .pb format.\n"
     ]
    }
   ],
   "source": [
    "import os\n",
    "import tensorflow as tf\n",
    "\n",
    "def convert_h5_to_pb(h5_file, pb_file):\n",
    "    # Load the Keras model\n",
    "    loaded_model = tf.keras.models.load_model(h5_file)\n",
    "\n",
    "    # Convert the Keras model to TensorFlow's SavedModel format (.pb)\n",
    "    tf.saved_model.save(loaded_model, pb_file)\n",
    "\n",
    "def is_pb_file(file_path):\n",
    "    try:\n",
    "        with tf.io.gfile.GFile(file_path, 'rb') as f:\n",
    "            # Read the first few bytes to check if it's a valid Protobuf file\n",
    "            header = f.read(8)\n",
    "            return header.startswith(b'\\x0A\\x0A\\x0A\\x0A')  # Protobuf header\n",
    "    except Exception as e:\n",
    "        print(f\"Error occurred while checking the file: {e}\")\n",
    "        return False\n",
    "\n",
    "if __name__ == \"__main__\":\n",
    "    # Specify the paths for the .h5 and .pb files\n",
    "    h5_file = r'C:\\...WeatherDetectionModel.h5'\n",
    "    pb_file = r'C:\\...WeatherDetectionModel.pb'\n",
    "\n",
    "    # Convert .h5 to .pb\n",
    "    convert_h5_to_pb(h5_file, pb_file)\n",
    "\n",
    "    # Check if the converted file is in .pb format\n",
    "    if os.path.exists(pb_file):\n",
    "        if is_pb_file(pb_file):\n",
    "            print(\"The file is in .pb format.\")\n",
    "        else:\n",
    "            print(\"The file is not in .pb format.\")\n",
    "    else:\n",
    "        print(\"File not found.\")"
   ]
  }
 ],
 "metadata": {
  "kernelspec": {
   "display_name": "Python 3 (ipykernel)",
   "language": "python",
   "name": "python3"
  },
  "language_info": {
   "codemirror_mode": {
    "name": "ipython",
    "version": 3
   },
   "file_extension": ".py",
   "mimetype": "text/x-python",
   "name": "python",
   "nbconvert_exporter": "python",
   "pygments_lexer": "ipython3",
   "version": "3.8.16"
  }
 },
 "nbformat": 4,
 "nbformat_minor": 5
}
