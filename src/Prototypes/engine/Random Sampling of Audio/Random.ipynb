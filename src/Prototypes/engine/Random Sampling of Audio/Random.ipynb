{
 "cells": [
  {
   "cell_type": "markdown",
   "metadata": {},
   "source": [
    "# Random Sampling"
   ]
  },
  {
   "cell_type": "markdown",
   "metadata": {},
   "source": [
    "This code will allow to randomly sample data from source directory having multiple folder's and create folder's with same name in the Output path.\n",
    "THis code will randomly select the number of samples mentioned and store it in the output folder"
   ]
  },
  {
   "cell_type": "code",
   "execution_count": null,
   "metadata": {},
   "outputs": [],
   "source": [
    "# Libraries to be imported\n",
    "import os\n",
    "import shutil\n",
    "import random\n"
   ]
  },
  {
   "cell_type": "code",
   "execution_count": null,
   "metadata": {},
   "outputs": [],
   "source": [
    "\n",
    "def random_move_files(input_dir, output_dir, n=3): # n (Number of samples can be decided and changed as per requirement of training set)\n",
    "    \"\"\"\n",
    "    Randomly move n files from each folder in input_dir to corresponding folder in output_dir.\n",
    "    \n",
    "    Parameters:\n",
    "    - input_dir (str): Path to the input directory containing species folders.\n",
    "    - output_dir (str): Path to the output directory where files will be moved.\n",
    "    - n (int, optional): Number of files to randomly move. Default is 3.\n",
    "    \n",
    "    Returns:\n",
    "    - None\n",
    "    \"\"\"\n",
    "    \n",
    "    # Check if input directory exists\n",
    "    if not os.path.exists(input_dir):\n",
    "        raise ValueError(f\"Input directory '{input_dir}' does not exist!\")\n",
    "    \n",
    "    # Create output directory if it doesn't exist\n",
    "    if not os.path.exists(output_dir):\n",
    "        os.makedirs(output_dir)\n",
    "    \n",
    "    # Iterate over each folder in input directory\n",
    "    for species_folder in os.listdir(input_dir):\n",
    "        input_folder_path = os.path.join(input_dir, species_folder)\n",
    "        output_folder_path = os.path.join(output_dir, species_folder)\n",
    "        \n",
    "        # Ensure it's actually a folder\n",
    "        if os.path.isdir(input_folder_path):\n",
    "            \n",
    "            # Create corresponding folder in output directory\n",
    "            if not os.path.exists(output_folder_path):\n",
    "                os.makedirs(output_folder_path)\n",
    "            \n",
    "            # Get list of files in the species folder\n",
    "            files = [f for f in os.listdir(input_folder_path) if os.path.isfile(os.path.join(input_folder_path, f))]\n",
    "            \n",
    "            # Randomly select n files\n",
    "            selected_files = random.sample(files, min(n, len(files)))\n",
    "            \n",
    "            # Move selected files to output folder\n",
    "            for file_name in selected_files:\n",
    "                shutil.move(os.path.join(input_folder_path, file_name), os.path.join(output_folder_path, file_name))\n"
   ]
  },
  {
   "cell_type": "code",
   "execution_count": null,
   "metadata": {},
   "outputs": [],
   "source": [
    "\n",
    "if __name__ == \"__main__\":\n",
    "    # Example usage\n",
    "    input_directory = r\"Input disrectory path\" # Paste the link of the directory from where the files need to be sampled\n",
    "    output_directory = r\"Output directory path\" # Paste the link of the directory where the sampled files need to be stored\n",
    "    random_move_files(input_directory, output_directory)"
   ]
  }
 ],
 "metadata": {
  "language_info": {
   "name": "python"
  },
  "orig_nbformat": 4
 },
 "nbformat": 4,
 "nbformat_minor": 2
}
