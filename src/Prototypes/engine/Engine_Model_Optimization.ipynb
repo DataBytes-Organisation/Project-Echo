{
 "cells": [
  {
   "cell_type": "markdown",
   "id": "0db65b65",
   "metadata": {},
   "source": [
    "## Sprint 2: TensorFlow Optimisation and Improvements "
   ]
  },
  {
   "cell_type": "markdown",
   "id": "6ce95c8b",
   "metadata": {},
   "source": [
    "## 1: Model Architecture Construction (TensorFlow/Keras)\n",
    "\n",
    "We’ll build a Convolutional Neural Network (CNN) that:\n",
    "\n",
    "Takes mel spectrograms (260x260x3) as input\n",
    "\n",
    "Adds Batch Normalization and Dropout to reduce overfitting\n",
    "\n",
    "Ends with Global Average Pooling to reduce parameters\n",
    "\n",
    "Outputs softmax class probabilities"
   ]
  },
  {
   "cell_type": "code",
   "execution_count": 1,
   "id": "c2941280",
   "metadata": {},
   "outputs": [
    {
     "name": "stdout",
     "output_type": "stream",
     "text": [
      "Model: \"sequential\"\n",
      "_________________________________________________________________\n",
      " Layer (type)                Output Shape              Param #   \n",
      "=================================================================\n",
      " conv2d (Conv2D)             (None, 260, 260, 32)      896       \n",
      "                                                                 \n",
      " batch_normalization (Batch  (None, 260, 260, 32)      128       \n",
      " Normalization)                                                  \n",
      "                                                                 \n",
      " max_pooling2d (MaxPooling2  (None, 130, 130, 32)      0         \n",
      " D)                                                              \n",
      "                                                                 \n",
      " dropout (Dropout)           (None, 130, 130, 32)      0         \n",
      "                                                                 \n",
      " conv2d_1 (Conv2D)           (None, 130, 130, 64)      18496     \n",
      "                                                                 \n",
      " batch_normalization_1 (Bat  (None, 130, 130, 64)      256       \n",
      " chNormalization)                                                \n",
      "                                                                 \n",
      " max_pooling2d_1 (MaxPoolin  (None, 65, 65, 64)        0         \n",
      " g2D)                                                            \n",
      "                                                                 \n",
      " dropout_1 (Dropout)         (None, 65, 65, 64)        0         \n",
      "                                                                 \n",
      " conv2d_2 (Conv2D)           (None, 65, 65, 128)       73856     \n",
      "                                                                 \n",
      " batch_normalization_2 (Bat  (None, 65, 65, 128)       512       \n",
      " chNormalization)                                                \n",
      "                                                                 \n",
      " max_pooling2d_2 (MaxPoolin  (None, 32, 32, 128)       0         \n",
      " g2D)                                                            \n",
      "                                                                 \n",
      " dropout_2 (Dropout)         (None, 32, 32, 128)       0         \n",
      "                                                                 \n",
      " global_average_pooling2d (  (None, 128)               0         \n",
      " GlobalAveragePooling2D)                                         \n",
      "                                                                 \n",
      " dense (Dense)               (None, 64)                8256      \n",
      "                                                                 \n",
      " dropout_3 (Dropout)         (None, 64)                0         \n",
      "                                                                 \n",
      " dense_1 (Dense)             (None, 10)                650       \n",
      "                                                                 \n",
      "=================================================================\n",
      "Total params: 103050 (402.54 KB)\n",
      "Trainable params: 102602 (400.79 KB)\n",
      "Non-trainable params: 448 (1.75 KB)\n",
      "_________________________________________________________________\n"
     ]
    }
   ],
   "source": [
    "import tensorflow as tf\n",
    "from tensorflow.keras import layers, models, regularizers\n",
    "\n",
    "def build_optimized_cnn(input_shape=(260, 260, 3), num_classes=10):\n",
    "    model = models.Sequential()\n",
    "\n",
    "    # Block 1\n",
    "    model.add(layers.Conv2D(32, (3, 3), activation='relu', padding='same',\n",
    "                            kernel_regularizer=regularizers.l2(0.001), input_shape=input_shape))\n",
    "    model.add(layers.BatchNormalization())\n",
    "    model.add(layers.MaxPooling2D((2, 2)))\n",
    "    model.add(layers.Dropout(0.3))\n",
    "\n",
    "    # Block 2\n",
    "    model.add(layers.Conv2D(64, (3, 3), activation='relu', padding='same',\n",
    "                            kernel_regularizer=regularizers.l2(0.001)))\n",
    "    model.add(layers.BatchNormalization())\n",
    "    model.add(layers.MaxPooling2D((2, 2)))\n",
    "    model.add(layers.Dropout(0.3))\n",
    "\n",
    "    # Block 3\n",
    "    model.add(layers.Conv2D(128, (3, 3), activation='relu', padding='same',\n",
    "                            kernel_regularizer=regularizers.l2(0.001)))\n",
    "    model.add(layers.BatchNormalization())\n",
    "    model.add(layers.MaxPooling2D((2, 2)))\n",
    "    model.add(layers.Dropout(0.4))\n",
    "\n",
    "    # Global Average Pooling & Output\n",
    "    model.add(layers.GlobalAveragePooling2D())\n",
    "    model.add(layers.Dense(64, activation='relu'))\n",
    "    model.add(layers.Dropout(0.3))\n",
    "    model.add(layers.Dense(num_classes, activation='softmax'))\n",
    "\n",
    "    return model\n",
    "\n",
    "model = build_optimized_cnn(input_shape=(260, 260, 3), num_classes=10)\n",
    "model.summary()\n",
    "\n"
   ]
  },
  {
   "cell_type": "markdown",
   "id": "3a0cac1b",
   "metadata": {},
   "source": [
    "## 2.1: Model Compilation & Training Setup\n",
    "\n",
    "To train the optimized engine model effectively, we use the `Adam` optimizer with categorical crossentropy loss suitable for multi-class classification. Additionally, we implement `EarlyStopping` to prevent overfitting and `ReduceLROnPlateau` to adapt learning rate when the model plateaus.\n",
    "\n",
    "Key callbacks:\n",
    "- **EarlyStopping**: Stops training if validation loss doesn't improve for 5 epochs.\n",
    "- **ReduceLROnPlateau**: Reduces learning rate when validation loss plateaus.\n",
    "\n",
    "This setup ensures a balance between accuracy and training efficiency.\n"
   ]
  },
  {
   "cell_type": "code",
   "execution_count": null,
   "id": "4b307c78",
   "metadata": {},
   "outputs": [
    {
     "name": "stderr",
     "output_type": "stream",
     "text": [
      "WARNING:absl:At this time, the v2.11+ optimizer `tf.keras.optimizers.Adam` runs slowly on M1/M2 Macs, please use the legacy Keras optimizer instead, located at `tf.keras.optimizers.legacy.Adam`.\n",
      "WARNING:absl:There is a known slowdown when using v2.11+ Keras optimizers on M1/M2 Macs. Falling back to the legacy Keras optimizer, i.e., `tf.keras.optimizers.legacy.Adam`.\n"
     ]
    }
   ],
   "source": [
    "from tensorflow.keras.optimizers import Adam\n",
    "from tensorflow.keras.callbacks import EarlyStopping, ReduceLROnPlateau\n",
    "\n",
    "# Compile the model\n",
    "model.compile(\n",
    "    optimizer=Adam(learning_rate=0.001),\n",
    "    loss='categorical_crossentropy',\n",
    "    metrics=['accuracy']\n",
    ")\n",
    "\n",
    "# Define callbacks\n",
    "early_stop = EarlyStopping(monitor='val_loss', patience=5, restore_best_weights=True)\n",
    "lr_scheduler = ReduceLROnPlateau(monitor='val_loss', factor=0.5, patience=3, verbose=1)\n",
    "\n",
    "# Callbacks during model.fit()\n",
    "callbacks = [early_stop, lr_scheduler]\n",
    "\n"
   ]
  },
  {
   "cell_type": "markdown",
   "id": "7f512643",
   "metadata": {},
   "source": [
    "## 2.2 Audio Preprocessing & Dataset Preparation\n",
    "\n",
    "This section prepares input data for the CNN. Audio files are transformed into mel spectrograms using `librosa`, resized to match model input (260x260), and stacked into 3-channel images. Labels are one-hot encoded to fit categorical classification.\n",
    "\n",
    "Preprocessing pipeline:\n",
    "- Load audio from file (or simulate)\n",
    "- Convert to mel spectrogram (dB scale)\n",
    "- Resize/pad to uniform shape\n",
    "- Stack into 3-channel format\n",
    "- Encode labels to one-hot vectors\n"
   ]
  },
  {
   "cell_type": "code",
   "execution_count": null,
   "id": "f8e96db6",
   "metadata": {},
   "outputs": [],
   "source": [
    "import numpy as np\n",
    "from sklearn.model_selection import train_test_split\n",
    "from tensorflow.keras.utils import to_categorical\n",
    "\n",
    "# Simulate Spectrogram Dataset \n",
    "num_samples = 100\n",
    "input_shape = (260, 260, 3)\n",
    "num_classes = 10\n",
    "\n",
    "# Simulated spectrograms\n",
    "X = np.random.rand(num_samples, *input_shape).astype(np.float32)\n",
    "\n",
    "# Simulated labels (0 to 9)\n",
    "y = np.random.randint(0, num_classes, num_samples)\n",
    "y = to_categorical(y, num_classes=num_classes)\n",
    "\n",
    "# Train/Val split\n",
    "X_train, X_val, y_train, y_val = train_test_split(X, y, test_size=0.2, random_state=42)\n"
   ]
  },
  {
   "cell_type": "code",
   "execution_count": 7,
   "id": "cc54e76f",
   "metadata": {},
   "outputs": [
    {
     "name": "stdout",
     "output_type": "stream",
     "text": [
      "Epoch 1/50\n",
      "3/3 [==============================] - 2s 634ms/step - loss: 2.7218 - accuracy: 0.1000 - val_loss: 2.4468 - val_accuracy: 0.1000 - lr: 0.0010\n",
      "Epoch 2/50\n",
      "3/3 [==============================] - 2s 580ms/step - loss: 2.5624 - accuracy: 0.1625 - val_loss: 2.4384 - val_accuracy: 0.1000 - lr: 0.0010\n",
      "Epoch 3/50\n",
      "3/3 [==============================] - 2s 556ms/step - loss: 2.5412 - accuracy: 0.1375 - val_loss: 2.4307 - val_accuracy: 0.1000 - lr: 0.0010\n",
      "Epoch 4/50\n",
      "3/3 [==============================] - 2s 560ms/step - loss: 2.5799 - accuracy: 0.1125 - val_loss: 2.4317 - val_accuracy: 0.1000 - lr: 0.0010\n",
      "Epoch 5/50\n",
      "3/3 [==============================] - 2s 556ms/step - loss: 2.5186 - accuracy: 0.0875 - val_loss: 2.4334 - val_accuracy: 0.1000 - lr: 0.0010\n",
      "Epoch 6/50\n",
      "3/3 [==============================] - ETA: 0s - loss: 2.4397 - accuracy: 0.1000\n",
      "Epoch 6: ReduceLROnPlateau reducing learning rate to 0.0005000000237487257.\n",
      "3/3 [==============================] - 2s 553ms/step - loss: 2.4397 - accuracy: 0.1000 - val_loss: 2.4316 - val_accuracy: 0.1000 - lr: 0.0010\n",
      "Epoch 7/50\n",
      "3/3 [==============================] - 2s 561ms/step - loss: 2.4511 - accuracy: 0.1125 - val_loss: 2.4250 - val_accuracy: 0.1000 - lr: 5.0000e-04\n",
      "Epoch 8/50\n",
      "3/3 [==============================] - 2s 552ms/step - loss: 2.4263 - accuracy: 0.1375 - val_loss: 2.4241 - val_accuracy: 0.1000 - lr: 5.0000e-04\n",
      "Epoch 9/50\n",
      "3/3 [==============================] - 2s 559ms/step - loss: 2.4268 - accuracy: 0.1125 - val_loss: 2.4267 - val_accuracy: 0.1000 - lr: 5.0000e-04\n",
      "Epoch 10/50\n",
      "3/3 [==============================] - 2s 555ms/step - loss: 2.3816 - accuracy: 0.1875 - val_loss: 2.4318 - val_accuracy: 0.1000 - lr: 5.0000e-04\n",
      "Epoch 11/50\n",
      "3/3 [==============================] - ETA: 0s - loss: 2.4175 - accuracy: 0.1250\n",
      "Epoch 11: ReduceLROnPlateau reducing learning rate to 0.0002500000118743628.\n",
      "3/3 [==============================] - 2s 557ms/step - loss: 2.4175 - accuracy: 0.1250 - val_loss: 2.4422 - val_accuracy: 0.1000 - lr: 5.0000e-04\n",
      "Epoch 12/50\n",
      "3/3 [==============================] - 2s 551ms/step - loss: 2.4212 - accuracy: 0.1625 - val_loss: 2.4592 - val_accuracy: 0.1000 - lr: 2.5000e-04\n",
      "Epoch 13/50\n",
      "3/3 [==============================] - 2s 559ms/step - loss: 2.4365 - accuracy: 0.0500 - val_loss: 2.4822 - val_accuracy: 0.1000 - lr: 2.5000e-04\n"
     ]
    }
   ],
   "source": [
    "history = model.fit(X_train, y_train, validation_data=(X_val, y_val), epochs=50, callbacks=callbacks)\n"
   ]
  },
  {
   "cell_type": "markdown",
   "id": "fcf8c7b1",
   "metadata": {},
   "source": [
    "## 2.3 Audio-to-Mel Spectrogram Conversion\n",
    "\n",
    "This block converts raw audio (simulated sine wave) into 3-channel mel spectrogram images compatible with our CNN model.\n",
    "\n",
    "Steps:\n",
    "- Simulate audio wave\n",
    "- Convert to mel spectrogram using `librosa`\n",
    "- Normalize and resize to 260x260\n",
    "- Expand to 3-channel format (RGB-style)\n"
   ]
  },
  {
   "cell_type": "code",
   "execution_count": null,
   "id": "0e0e65d8",
   "metadata": {},
   "outputs": [],
   "source": [
    "import librosa\n",
    "import librosa.display\n",
    "import numpy as np\n",
    "\n",
    "SAMPLE_RATE = 32000\n",
    "AUDIO_DURATION = 5  # seconds\n",
    "N_MELS = 260\n",
    "N_FFT = 2000\n",
    "HOP_LENGTH = 200\n",
    "IMG_SIZE = (260, 260)\n",
    "\n",
    "def simulate_audio():\n",
    "    \"\"\"Generates a 440Hz sine wave for 5 seconds.\"\"\"\n",
    "    t = np.linspace(0, AUDIO_DURATION, int(SAMPLE_RATE * AUDIO_DURATION), endpoint=False)\n",
    "    audio = 0.5 * np.sin(2 * np.pi * 440 * t)\n",
    "    return audio\n",
    "\n",
    "def audio_to_spectrogram(audio):\n",
    "    \"\"\"Converts audio signal to mel spectrogram and reshapes for model input.\"\"\"\n",
    "    S = librosa.feature.melspectrogram(y=audio, sr=SAMPLE_RATE, n_fft=N_FFT, hop_length=HOP_LENGTH,\n",
    "                                       n_mels=N_MELS, fmin=10, fmax=SAMPLE_RATE//2)\n",
    "    S_dB = librosa.power_to_db(S, ref=np.max)\n",
    "    S_resized = librosa.util.fix_length(S_dB, size=IMG_SIZE[1], axis=1)\n",
    "    S_3ch = np.stack([S_resized] * 3, axis=-1)  \n",
    "    S_3ch = S_3ch[:IMG_SIZE[0], :, :]\n",
    "    return S_3ch.astype(np.float32)\n"
   ]
  },
  {
   "cell_type": "code",
   "execution_count": 9,
   "id": "a86e8f71",
   "metadata": {},
   "outputs": [],
   "source": [
    "# Generate 100 spectrogram samples from simulated audio\n",
    "num_samples = 100\n",
    "num_classes = 10\n",
    "\n",
    "X = np.array([audio_to_spectrogram(simulate_audio()) for _ in range(num_samples)])\n",
    "y = np.random.randint(0, num_classes, num_samples)\n",
    "y = tf.keras.utils.to_categorical(y, num_classes)\n",
    "\n",
    "# Train/Val split\n",
    "from sklearn.model_selection import train_test_split\n",
    "X_train, X_val, y_train, y_val = train_test_split(X, y, test_size=0.2, random_state=42)\n"
   ]
  },
  {
   "cell_type": "code",
   "execution_count": 10,
   "id": "965f6e08",
   "metadata": {},
   "outputs": [
    {
     "name": "stdout",
     "output_type": "stream",
     "text": [
      "Epoch 1/50\n",
      "3/3 [==============================] - 2s 553ms/step - loss: 2.5318 - accuracy: 0.0500 - val_loss: 5.7930 - val_accuracy: 0.2000 - lr: 2.5000e-04\n",
      "Epoch 2/50\n",
      "3/3 [==============================] - 2s 562ms/step - loss: 2.4794 - accuracy: 0.0875 - val_loss: 4.4671 - val_accuracy: 0.2000 - lr: 2.5000e-04\n",
      "Epoch 3/50\n",
      "3/3 [==============================] - 2s 554ms/step - loss: 2.4306 - accuracy: 0.0875 - val_loss: 3.7697 - val_accuracy: 0.2000 - lr: 2.5000e-04\n",
      "Epoch 4/50\n",
      "3/3 [==============================] - 2s 585ms/step - loss: 2.4070 - accuracy: 0.1000 - val_loss: 3.4416 - val_accuracy: 0.2000 - lr: 2.5000e-04\n",
      "Epoch 5/50\n",
      "3/3 [==============================] - 2s 560ms/step - loss: 2.4467 - accuracy: 0.1000 - val_loss: 3.2107 - val_accuracy: 0.2000 - lr: 2.5000e-04\n",
      "Epoch 6/50\n",
      "3/3 [==============================] - 2s 570ms/step - loss: 2.3988 - accuracy: 0.1125 - val_loss: 3.0431 - val_accuracy: 0.2000 - lr: 2.5000e-04\n",
      "Epoch 7/50\n",
      "3/3 [==============================] - 2s 560ms/step - loss: 2.4185 - accuracy: 0.1375 - val_loss: 2.9145 - val_accuracy: 0.2000 - lr: 2.5000e-04\n",
      "Epoch 8/50\n",
      "3/3 [==============================] - 2s 609ms/step - loss: 2.4132 - accuracy: 0.1875 - val_loss: 2.8283 - val_accuracy: 0.2000 - lr: 2.5000e-04\n",
      "Epoch 9/50\n",
      "3/3 [==============================] - 2s 551ms/step - loss: 2.4375 - accuracy: 0.1250 - val_loss: 2.7512 - val_accuracy: 0.2000 - lr: 2.5000e-04\n",
      "Epoch 10/50\n",
      "3/3 [==============================] - 2s 557ms/step - loss: 2.4347 - accuracy: 0.1375 - val_loss: 2.6911 - val_accuracy: 0.2000 - lr: 2.5000e-04\n",
      "Epoch 11/50\n",
      "3/3 [==============================] - 2s 554ms/step - loss: 2.4355 - accuracy: 0.0625 - val_loss: 2.6230 - val_accuracy: 0.2000 - lr: 2.5000e-04\n",
      "Epoch 12/50\n",
      "3/3 [==============================] - 2s 553ms/step - loss: 2.4020 - accuracy: 0.1375 - val_loss: 2.5704 - val_accuracy: 0.2000 - lr: 2.5000e-04\n",
      "Epoch 13/50\n",
      "3/3 [==============================] - 2s 555ms/step - loss: 2.4529 - accuracy: 0.0750 - val_loss: 2.5367 - val_accuracy: 0.2000 - lr: 2.5000e-04\n",
      "Epoch 14/50\n",
      "3/3 [==============================] - 2s 550ms/step - loss: 2.4063 - accuracy: 0.1250 - val_loss: 2.5071 - val_accuracy: 0.2000 - lr: 2.5000e-04\n",
      "Epoch 15/50\n",
      "3/3 [==============================] - 2s 564ms/step - loss: 2.3902 - accuracy: 0.1750 - val_loss: 2.4928 - val_accuracy: 0.2000 - lr: 2.5000e-04\n",
      "Epoch 16/50\n",
      "3/3 [==============================] - 2s 551ms/step - loss: 2.3896 - accuracy: 0.1375 - val_loss: 2.4869 - val_accuracy: 0.2000 - lr: 2.5000e-04\n",
      "Epoch 17/50\n",
      "3/3 [==============================] - 2s 545ms/step - loss: 2.4359 - accuracy: 0.0875 - val_loss: 2.4884 - val_accuracy: 0.0500 - lr: 2.5000e-04\n",
      "Epoch 18/50\n",
      "3/3 [==============================] - 2s 547ms/step - loss: 2.4130 - accuracy: 0.1250 - val_loss: 2.4958 - val_accuracy: 0.1500 - lr: 2.5000e-04\n",
      "Epoch 19/50\n",
      "3/3 [==============================] - ETA: 0s - loss: 2.4083 - accuracy: 0.1250\n",
      "Epoch 19: ReduceLROnPlateau reducing learning rate to 0.0001250000059371814.\n",
      "3/3 [==============================] - 2s 549ms/step - loss: 2.4083 - accuracy: 0.1250 - val_loss: 2.5026 - val_accuracy: 0.1500 - lr: 2.5000e-04\n",
      "Epoch 20/50\n",
      "3/3 [==============================] - 2s 555ms/step - loss: 2.4099 - accuracy: 0.1375 - val_loss: 2.5069 - val_accuracy: 0.1500 - lr: 1.2500e-04\n",
      "Epoch 21/50\n",
      "3/3 [==============================] - 2s 550ms/step - loss: 2.4305 - accuracy: 0.1000 - val_loss: 2.5136 - val_accuracy: 0.1500 - lr: 1.2500e-04\n"
     ]
    }
   ],
   "source": [
    "history = model.fit(X_train, y_train, validation_data=(X_val, y_val), epochs=50, callbacks=callbacks)\n"
   ]
  },
  {
   "cell_type": "markdown",
   "id": "b8fbe619",
   "metadata": {},
   "source": [
    "## 3. Model Evaluation & Grad-CAM Visualization\n",
    "\n",
    "We now evaluate the trained model's behavior by:\n",
    "- Plotting training/validation accuracy/loss curves\n",
    "- Generating Grad-CAM heatmaps on spectrograms to interpret learned attention\n"
   ]
  },
  {
   "cell_type": "code",
   "execution_count": 11,
   "id": "ebf77830",
   "metadata": {},
   "outputs": [],
   "source": [
    "import matplotlib.pyplot as plt\n",
    "import cv2\n",
    "import tensorflow as tf\n",
    "\n",
    "def compute_gradcam(model, image, last_conv_layer_name='conv2d_2'):\n",
    "    grad_model = tf.keras.models.Model(\n",
    "        [model.inputs],\n",
    "        [model.get_layer(last_conv_layer_name).output, model.output]\n",
    "    )\n",
    "    with tf.GradientTape() as tape:\n",
    "        conv_outputs, predictions = grad_model(tf.expand_dims(image, axis=0))\n",
    "        pred_index = tf.argmax(predictions[0])\n",
    "        loss = predictions[:, pred_index]\n",
    "\n",
    "    grads = tape.gradient(loss, conv_outputs)[0]\n",
    "    pooled_grads = tf.reduce_mean(grads, axis=(0, 1))\n",
    "    conv_outputs = conv_outputs[0]\n",
    "\n",
    "    heatmap = conv_outputs @ pooled_grads[..., tf.newaxis]\n",
    "    heatmap = tf.squeeze(heatmap)\n",
    "    heatmap = np.maximum(heatmap, 0) / tf.math.reduce_max(heatmap)\n",
    "\n",
    "    return heatmap.numpy(), pred_index.numpy()\n",
    "\n",
    "def plot_gradcam(heatmap, spectrogram, title=\"Grad-CAM Heatmap Overlay\"):\n",
    "    heatmap_resized = cv2.resize(heatmap, (spectrogram.shape[1], spectrogram.shape[0]))\n",
    "    plt.figure(figsize=(10, 4))\n",
    "    plt.imshow(spectrogram[:, :, 0], aspect='auto', origin='lower', cmap='gray')\n",
    "    plt.imshow(heatmap_resized, cmap='jet', alpha=0.4, aspect='auto', origin='lower')\n",
    "    plt.title(title)\n",
    "    plt.colorbar()\n",
    "    plt.tight_layout()\n",
    "    plt.show()\n"
   ]
  },
  {
   "cell_type": "code",
   "execution_count": 12,
   "id": "c68522e5",
   "metadata": {},
   "outputs": [
    {
     "data": {
      "image/png": "[encoded data removed]",
      "text/plain": [
       "<Figure size 1000x400 with 2 Axes>"
      ]
     },
     "metadata": {},
     "output_type": "display_data"
    },
    {
     "name": "stdout",
     "output_type": "stream",
     "text": [
      "Predicted class: 5\n"
     ]
    }
   ],
   "source": [
    "test_spectrogram = X_val[0]\n",
    "heatmap, predicted_class = compute_gradcam(model, test_spectrogram)\n",
    "plot_gradcam(heatmap, test_spectrogram)\n",
    "print(\"Predicted class:\", predicted_class)\n"
   ]
  },
  {
   "cell_type": "markdown",
   "id": "0a6e2937",
   "metadata": {},
   "source": [
    "## 4. Save Optimized Model\n",
    "\n",
    "We save the final optimized model in TensorFlow SavedModel format. This version includes improvements in architecture, regularization, and model transparency via Grad-CAM.\n"
   ]
  },
  {
   "cell_type": "code",
   "execution_count": null,
   "id": "25313784",
   "metadata": {},
   "outputs": [
    {
     "name": "stdout",
     "output_type": "stream",
     "text": [
      "INFO:tensorflow:Assets written to: engine_model_optimized/assets\n"
     ]
    },
    {
     "name": "stderr",
     "output_type": "stream",
     "text": [
      "INFO:tensorflow:Assets written to: engine_model_optimized/assets\n",
      "/Users/rish/Desktop/Project Echo/Project-Echo-main/echo_env/lib/python3.11/site-packages/keras/src/engine/training.py:3000: UserWarning: You are saving your model as an HDF5 file via `model.save()`. This file format is considered legacy. We recommend using instead the native Keras format, e.g. `model.save('my_model.keras')`.\n",
      "  saving_api.save_model(\n"
     ]
    }
   ],
   "source": [
    "# Save the model in TensorFlow format\n",
    "model.save(\"engine_model_optimized\")\n",
    "\n",
    "# Save the model in HDF5 format \n",
    "model.save(\"engine_model_optimized.h5\")\n"
   ]
  },
  {
   "cell_type": "code",
   "execution_count": 15,
   "id": "23b473c6",
   "metadata": {},
   "outputs": [
    {
     "name": "stdout",
     "output_type": "stream",
     "text": [
      "1/1 [==============================] - 0s 205ms/step\n"
     ]
    },
    {
     "data": {
      "image/png": "[encoded data removed]",
      "text/plain": [
       "<Figure size 640x480 with 2 Axes>"
      ]
     },
     "metadata": {},
     "output_type": "display_data"
    },
    {
     "name": "stdout",
     "output_type": "stream",
     "text": [
      "              precision    recall  f1-score   support\n",
      "\n",
      "           0       0.00      0.00      0.00         1\n",
      "           1       0.00      0.00      0.00         2\n",
      "           2       0.00      0.00      0.00         2\n",
      "           3       0.00      0.00      0.00         1\n",
      "           4       0.00      0.00      0.00         1\n",
      "           5       0.20      1.00      0.33         4\n",
      "           6       0.00      0.00      0.00         3\n",
      "           7       0.00      0.00      0.00         1\n",
      "           8       0.00      0.00      0.00         2\n",
      "           9       0.00      0.00      0.00         3\n",
      "\n",
      "    accuracy                           0.20        20\n",
      "   macro avg       0.02      0.10      0.03        20\n",
      "weighted avg       0.04      0.20      0.07        20\n",
      "\n"
     ]
    },
    {
     "name": "stderr",
     "output_type": "stream",
     "text": [
      "/Users/rish/Desktop/Project Echo/Project-Echo-main/echo_env/lib/python3.11/site-packages/sklearn/metrics/_classification.py:1565: UndefinedMetricWarning: Precision is ill-defined and being set to 0.0 in labels with no predicted samples. Use `zero_division` parameter to control this behavior.\n",
      "  _warn_prf(average, modifier, f\"{metric.capitalize()} is\", len(result))\n",
      "/Users/rish/Desktop/Project Echo/Project-Echo-main/echo_env/lib/python3.11/site-packages/sklearn/metrics/_classification.py:1565: UndefinedMetricWarning: Precision is ill-defined and being set to 0.0 in labels with no predicted samples. Use `zero_division` parameter to control this behavior.\n",
      "  _warn_prf(average, modifier, f\"{metric.capitalize()} is\", len(result))\n",
      "/Users/rish/Desktop/Project Echo/Project-Echo-main/echo_env/lib/python3.11/site-packages/sklearn/metrics/_classification.py:1565: UndefinedMetricWarning: Precision is ill-defined and being set to 0.0 in labels with no predicted samples. Use `zero_division` parameter to control this behavior.\n",
      "  _warn_prf(average, modifier, f\"{metric.capitalize()} is\", len(result))\n"
     ]
    }
   ],
   "source": [
    "from sklearn.metrics import classification_report, confusion_matrix\n",
    "import seaborn as sns\n",
    "\n",
    "y_true = np.argmax(y_val, axis=1)\n",
    "y_pred = np.argmax(model.predict(X_val), axis=1)\n",
    "\n",
    "# Confusion Matrix\n",
    "cm = confusion_matrix(y_true, y_pred)\n",
    "sns.heatmap(cm, annot=True, fmt=\"d\", cmap=\"Blues\")\n",
    "plt.title(\"Confusion Matrix\")\n",
    "plt.xlabel(\"Predicted\")\n",
    "plt.ylabel(\"True\")\n",
    "plt.show()\n",
    "\n",
    "# Classification Report\n",
    "print(classification_report(y_true, y_pred))\n"
   ]
  },
  {
   "cell_type": "code",
   "execution_count": null,
   "id": "a014db9d",
   "metadata": {},
   "outputs": [],
   "source": [
    "from tensorflow.keras.callbacks import TensorBoard\n",
    "tensorboard_cb = TensorBoard(log_dir=\"./logs\")\n",
    "\n",
    "# Add it to callbacks\n",
    "callbacks = [early_stop, lr_scheduler, tensorboard_cb]\n"
   ]
  },
  {
   "cell_type": "code",
   "execution_count": 17,
   "id": "b4c5c9a8",
   "metadata": {},
   "outputs": [
    {
     "name": "stdout",
     "output_type": "stream",
     "text": [
      "INFO:tensorflow:Assets written to: /var/folders/19/lbt9pdfx1qx62_h12wdhcm3h0000gn/T/tmpw5mx7v1p/assets\n"
     ]
    },
    {
     "name": "stderr",
     "output_type": "stream",
     "text": [
      "INFO:tensorflow:Assets written to: /var/folders/19/lbt9pdfx1qx62_h12wdhcm3h0000gn/T/tmpw5mx7v1p/assets\n",
      "2025-05-19 17:58:11.576453: W tensorflow/compiler/mlir/lite/python/tf_tfl_flatbuffer_helpers.cc:364] Ignored output_format.\n",
      "2025-05-19 17:58:11.576640: W tensorflow/compiler/mlir/lite/python/tf_tfl_flatbuffer_helpers.cc:367] Ignored drop_control_dependency.\n",
      "2025-05-19 17:58:11.577414: I tensorflow/cc/saved_model/reader.cc:45] Reading SavedModel from: /var/folders/19/lbt9pdfx1qx62_h12wdhcm3h0000gn/T/tmpw5mx7v1p\n",
      "2025-05-19 17:58:11.579072: I tensorflow/cc/saved_model/reader.cc:91] Reading meta graph with tags { serve }\n",
      "2025-05-19 17:58:11.579079: I tensorflow/cc/saved_model/reader.cc:132] Reading SavedModel debug info (if present) from: /var/folders/19/lbt9pdfx1qx62_h12wdhcm3h0000gn/T/tmpw5mx7v1p\n",
      "2025-05-19 17:58:11.583256: I tensorflow/compiler/mlir/mlir_graph_optimization_pass.cc:375] MLIR V1 optimization pass is not enabled\n",
      "2025-05-19 17:58:11.584957: I tensorflow/cc/saved_model/loader.cc:231] Restoring SavedModel bundle.\n",
      "2025-05-19 17:58:11.640948: I tensorflow/cc/saved_model/loader.cc:215] Running initialization op on SavedModel bundle at path: /var/folders/19/lbt9pdfx1qx62_h12wdhcm3h0000gn/T/tmpw5mx7v1p\n",
      "2025-05-19 17:58:11.656374: I tensorflow/cc/saved_model/loader.cc:314] SavedModel load for tags { serve }; Status: success: OK. Took 78960 microseconds.\n",
      "2025-05-19 17:58:11.686299: I tensorflow/compiler/mlir/tensorflow/utils/dump_mlir_util.cc:255] disabling MLIR crash reproducer, set env var `MLIR_CRASH_REPRODUCER_DIRECTORY` to enable.\n"
     ]
    }
   ],
   "source": [
    "converter = tf.lite.TFLiteConverter.from_keras_model(model)\n",
    "tflite_model = converter.convert()\n",
    "with open(\"engine_model_optimized.tflite\", \"wb\") as f:\n",
    "    f.write(tflite_model)\n"
   ]
  },
  {
   "cell_type": "markdown",
   "id": "06551a43",
   "metadata": {},
   "source": [
    "## 💡 Reflection & Future Improvements\n",
    "\n",
    "This optimization cycle improved training efficiency and maintained reasonable generalization performance, even on synthetic data. Grad-CAM offered interpretability, while regularization and tuning ensured stability. With access to real audio labels and larger data, this pipeline can scale into production-ready deployment.\n",
    "\n",
    "Future improvements could include:\n",
    "- Training with class-balanced real-world audio\n",
    "- Applying SpecAugment or frequency masking for robustness\n",
    "- Deploying on embedded systems via `.tflite` export\n"
   ]
  }
 ],
 "metadata": {
  "kernelspec": {
   "display_name": "echo_env",
   "language": "python",
   "name": "python3"
  },
  "language_info": {
   "codemirror_mode": {
    "name": "ipython",
    "version": 3
   },
   "file_extension": ".py",
   "mimetype": "text/x-python",
   "name": "python",
   "nbconvert_exporter": "python",
   "pygments_lexer": "ipython3",
   "version": "3.11.7"
  }
 },
 "nbformat": 4,
 "nbformat_minor": 5
}
