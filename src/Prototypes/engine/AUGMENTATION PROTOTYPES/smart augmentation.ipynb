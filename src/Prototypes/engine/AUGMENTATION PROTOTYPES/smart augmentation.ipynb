{
  "cells": [
    {
      "cell_type": "markdown",
      "metadata": {},
      "source": [
        "---\n",
        "\n",
        "# Audio Augmentation Script Explanation\n",
        "\n",
        "**Authors**: Rohit, Balram Naidu, Abhit \n",
        "\n",
        "## Introduction\n",
        "\n",
        "The script performs audio augmentation by mixing primary audio samples with background noises (rain, wind, or water). This augmentation enhances the diversity of the dataset, crucial for machine learning models to achieve better generalization.\n",
        "\n",
        "## Detailed Breakdown:\n",
        "\n",
        "### Libraries and Dependencies:\n",
        "\n",
        "The following Python libraries are utilized:\n",
        "- `os` for filesystem interactions.\n",
        "- `random` for random choices and number generation.\n",
        "- `pydub.AudioSegment` for audio processing.\n",
        "- `shutil.copyfile` for copying files.\n",
        "\n",
        "### Path System:\n",
        "\n",
        "The script employs a directory-based approach to manage and process the audio files:\n",
        "\n",
        "1. **Background Sounds Directory (`parent_folder_name`)**: This directory houses the background noises. Each type of noise (rain, wind, water) is stored in its dedicated sub-directory.\n",
        "   \n",
        "2. **Original Audio Chunks Directory (`audio_chunks_folder`)**: Contains directories for different classes, and within each class directory, you'll find the associated audio samples.\n",
        "\n",
        "3. **Output Directory (`output_folder`)**: The location where the augmented audio samples are saved. The structure mirrors the `audio_chunks_folder` with directories for each class.\n",
        "\n",
        "If you're planning to adapt the script to another system or different audio datasets, you'd need to modify these paths to point to your specific directories.\n",
        "\n",
        "### Overlapping Density:\n",
        "\n",
        "The overlapping density refers to how pronounced the background sound is in comparison to the primary audio. This is controlled by the line:\n",
        "\n",
        "```python\n",
        "bg_segment = get_random_background_segment(background_sounds, len(audio_chunk)).apply_gain(0.5)\n"
      ]
    },
    {
      "cell_type": "code",
      "execution_count": null,
      "metadata": {},
      "outputs": [],
      "source": [
        "import os\n",
        "import random\n",
        "from pydub import AudioSegment\n",
        "from shutil import copyfile"
      ]
    },
    {
      "cell_type": "code",
      "execution_count": null,
      "metadata": {},
      "outputs": [],
      "source": [
        "def get_random_background_segment(background_sounds, segment_length):\n",
        "    bg_sound = random.choice(background_sounds)\n",
        "    start_ms = random.randint(0, len(bg_sound) - segment_length)\n",
        "    return bg_sound[start_ms:start_ms + segment_length]\n",
        "\n",
        "def load_background_sounds(parent_folder):\n",
        "    background_folders = [\"rain\", \"wind\", \"water\"]\n",
        "    background_sounds = []\n",
        "    for folder in background_folders:\n",
        "        for sound_file in os.listdir(os.path.join(parent_folder, folder)):\n",
        "            file_extension = os.path.splitext(sound_file)[-1].lower()\n",
        "            if file_extension in ['.wav', '.mp3']:\n",
        "                sound_path = os.path.join(parent_folder, folder, sound_file)\n",
        "                background_sounds.append(AudioSegment.from_file(sound_path, format=file_extension[1:]))\n",
        "    return background_sounds"
      ]
    },
    {
      "cell_type": "code",
      "execution_count": null,
      "metadata": {},
      "outputs": [],
      "source": [
        "# Paths\n",
        "parent_folder_name = \"/Users/ankush/Downloads/deakin-units/data/Overlay_Data\"\n",
        "audio_chunks_folder = \"/Users/ankush/Downloads/deakin-units/data/final_training\"\n",
        "output_folder = \"/Users/ankush/Downloads/deakin-units/data/combined_audio\"\n",
        "os.makedirs(output_folder, exist_ok=True)\n",
        "\n",
        "background_sounds = load_background_sounds(parent_folder_name)\n"
      ]
    },
    {
      "cell_type": "code",
      "execution_count": null,
      "metadata": {},
      "outputs": [],
      "source": [
        "# Determine the class with the maximum number of samples\n",
        "file_counts = {d: len(os.listdir(os.path.join(audio_chunks_folder, d))) for d in os.listdir(audio_chunks_folder) if os.path.isdir(os.path.join(audio_chunks_folder, d))}\n",
        "max_count = max(file_counts.values())\n",
        "\n",
        "augmentations_done = {}  # Keep track of how many augmentations are done for each class\n"
      ]
    },
    {
      "cell_type": "code",
      "execution_count": 12,
      "metadata": {
        "id": "ySDAQIh4N-_E"
      },
      "outputs": [
        {
          "name": "stdout",
          "output_type": "stream",
          "text": [
            "Augmented 725 files for class: Malleefowl\n",
            "Augmented 797 files for class: Vanellus miles\n",
            "Augmented 653 files for class: Spotted Nightjar\n",
            "Augmented 740 files for class: Grey Teal\n",
            "Augmented 641 files for class: Pheasant Coucal\n",
            "Augmented 557 files for class: Tiger quoll\n",
            "Augmented 0 files for class: coyote\n",
            "Augmented 377 files for class: Peaceful Dove\n",
            "Augmented 636 files for class: capra hirus\n",
            "Augmented 722 files for class: Pacific Swift\n",
            "Augmented 661 files for class: Orange footed Scrubfowl\n",
            "Augmented 56 files for class: Large-tailed Nightjar\n",
            "Augmented 570 files for class: Little Bronze Cuckoo\n",
            "Augmented 698 files for class: Felis Catus\n",
            "Augmented 627 files for class: common pheasant\n",
            "Augmented 547 files for class: Australian Lyrebird\n",
            "Augmented 312 files for class: Uperoleia laevigata\n",
            "Augmented 298 files for class: Sus scrofa Wild Pig\n",
            "Augmented 781 files for class: Australian Brushturkey\n",
            "Augmented 780 files for class: Rattus\n",
            "Augmented 673 files for class: Pacific Koel\n"
          ]
        }
      ],
      "source": [
        "\n",
        "# For each class directory\n",
        "for class_dir, count in file_counts.items():\n",
        "    class_dir_path = os.path.join(audio_chunks_folder, class_dir)\n",
        "    all_audio_files = [f for f in os.listdir(class_dir_path) if f.endswith('.wav')]\n",
        "    \n",
        "    # First, copy all original files to the output directory\n",
        "    for audio_file in all_audio_files:\n",
        "        origin_path = os.path.join(class_dir_path, audio_file)\n",
        "        dest_path = os.path.join(output_folder, class_dir, audio_file)\n",
        "        os.makedirs(os.path.join(output_folder, class_dir), exist_ok=True)\n",
        "        copyfile(origin_path, dest_path)\n",
        "\n",
        "    augmentations_done[class_dir] = 0  # Initialize counter for this class\n",
        "    for i in range(max_count - count):  # Number of augmentations needed\n",
        "        audio_file = random.choice(all_audio_files)\n",
        "        audio_path = os.path.join(class_dir_path, audio_file)\n",
        "        audio_chunk = AudioSegment.from_file(audio_path)\n",
        "\n",
        "        bg_segment = get_random_background_segment(background_sounds, len(audio_chunk)).apply_gain(0.5)  # Reduce volume for subtlety\n",
        "        combined = bg_segment.overlay(audio_chunk)\n",
        "\n",
        "        # To ensure uniqueness in output file name\n",
        "        output_file_name = f'combined_{i}_{audio_file}'\n",
        "        output_path = os.path.join(output_folder, class_dir, output_file_name)\n",
        "        combined.export(output_path, format=\"wav\")\n",
        "\n",
        "        augmentations_done[class_dir] += 1  # Increment the counter\n",
        "\n",
        "# Print out the augmentations done for verification\n",
        "for class_dir, count in augmentations_done.items():\n",
        "    print(f\"Augmented {count} files for class: {class_dir}\")\n",
        "\n",
        "# At this point, verify manually or programmatically that each class in the output directory has the same number of files\n"
      ]
    }
  ],
  "metadata": {
    "accelerator": "GPU",
    "colab": {
      "gpuType": "T4",
      "provenance": [],
      "toc_visible": true
    },
    "kernelspec": {
      "display_name": "Python 3",
      "name": "python3"
    },
    "language_info": {
      "codemirror_mode": {
        "name": "ipython",
        "version": 3
      },
      "file_extension": ".py",
      "mimetype": "text/x-python",
      "name": "python",
      "nbconvert_exporter": "python",
      "pygments_lexer": "ipython3",
      "version": "3.9.17"
    },
    "orig_nbformat": 4
  },
  "nbformat": 4,
  "nbformat_minor": 0
}
