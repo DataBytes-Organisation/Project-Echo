{
 "cells": [
  {
   "cell_type": "code",
   "execution_count": 9,
   "id": "e0e770fd-49a7-4fa2-bd27-5639815d2cad",
   "metadata": {},
   "outputs": [
    {
     "name": "stdout",
     "output_type": "stream",
     "text": [
      "Data Shape: (65, 128), Labels Shape: (65,)\n"
     ]
    }
   ],
   "source": [
    "import os\n",
    "import librosa\n",
    "import numpy as np\n",
    "\n",
    "def load_audio_data(folder_path):\n",
    "    data = []\n",
    "    labels = []\n",
    "    for label, sub_folder in enumerate(['Animal Sounds', 'Environment']):\n",
    "        path = os.path.join(folder_path, sub_folder)\n",
    "        for file in os.listdir(path):\n",
    "            if file.endswith('.wav'):\n",
    "                file_path = os.path.join(path, file)\n",
    "                y, sr = librosa.load(file_path, sr=None)\n",
    "                features = librosa.feature.melspectrogram(y=y, sr=sr)\n",
    "                data.append(np.mean(features, axis=1))  # Extract mean features\n",
    "                labels.append(label)\n",
    "    return np.array(data), np.array(labels)\n",
    "\n",
    "X, y = load_audio_data(r\"C:\\Users\\User\\Documents\")\n",
    "print(f\"Data Shape: {X.shape}, Labels Shape: {y.shape}\")\n"
   ]
  },
  {
   "cell_type": "code",
   "execution_count": 10,
   "id": "b918bb80-972d-4f89-827e-ee7a6fc744c6",
   "metadata": {},
   "outputs": [],
   "source": [
    "from tensorflow.keras.models import Sequential\n",
    "from tensorflow.keras.layers import Conv1D, MaxPooling1D, Flatten, Dense\n",
    "\n",
    "\n",
    "def build_model(input_shape):\n",
    "    model = Sequential([\n",
    "        Conv1D(32, kernel_size=3, activation='relu', input_shape=input_shape),\n",
    "        MaxPooling1D(pool_size=2),\n",
    "        Flatten(),\n",
    "        Dense(64, activation='relu'),\n",
    "        Dense(2, activation='softmax')  # Output for 2 categories\n",
    "    ])\n",
    "    model.compile(optimizer='adam', loss='sparse_categorical_crossentropy', metrics=['accuracy'])\n",
    "    return model\n"
   ]
  },
  {
   "cell_type": "code",
   "execution_count": 11,
   "id": "1fda77d4-2d3f-4a41-bd3d-73cfc720d5a2",
   "metadata": {},
   "outputs": [
    {
     "name": "stdout",
     "output_type": "stream",
     "text": [
      "Cross-Validation Mean Accuracy: 0.7230769395828247, Std Dev: 0.0615384578704834\n"
     ]
    }
   ],
   "source": [
    "from sklearn.model_selection import KFold\n",
    "\n",
    "def cross_validate(X, y, k=5, epochs=10):\n",
    "    kf = KFold(n_splits=k, shuffle=True, random_state=42)\n",
    "    accuracies = []\n",
    "\n",
    "    for train_idx, val_idx in kf.split(X):\n",
    "        model = build_model((X.shape[1], 1))\n",
    "        model.fit(X[train_idx], y[train_idx], epochs=epochs, verbose=0)\n",
    "        acc = model.evaluate(X[val_idx], y[val_idx], verbose=0)[1]\n",
    "        accuracies.append(acc)\n",
    "    \n",
    "    return np.mean(accuracies), np.std(accuracies)\n",
    "\n",
    "mean_acc, std_dev = cross_validate(X, y)\n",
    "print(f\"Cross-Validation Mean Accuracy: {mean_acc}, Std Dev: {std_dev}\")\n"
   ]
  },
  {
   "cell_type": "code",
   "execution_count": 12,
   "id": "624c64a3-4bb9-418b-b956-d8bfb7987c96",
   "metadata": {},
   "outputs": [
    {
     "name": "stdout",
     "output_type": "stream",
     "text": [
      "Validation Split Accuracy: 0.8461538553237915\n"
     ]
    }
   ],
   "source": [
    "from sklearn.model_selection import train_test_split\n",
    "\n",
    "def validation_split(X, y, epochs=10):\n",
    "    X_train, X_val, y_train, y_val = train_test_split(X, y, test_size=0.2, random_state=42)\n",
    "    model = build_model((X.shape[1], 1))\n",
    "    model.fit(X_train, y_train, epochs=epochs, verbose=0)\n",
    "    acc = model.evaluate(X_val, y_val, verbose=0)[1]\n",
    "    return acc\n",
    "\n",
    "val_acc = validation_split(X, y)\n",
    "print(f\"Validation Split Accuracy: {val_acc}\")\n"
   ]
  },
  {
   "cell_type": "code",
   "execution_count": 13,
   "id": "529b1599-2326-414d-a02d-3422f22bbcf3",
   "metadata": {},
   "outputs": [
    {
     "data": {
      "image/png": "[encoded data removed]",
      "text/plain": [
       "<Figure size 640x480 with 1 Axes>"
      ]
     },
     "metadata": {},
     "output_type": "display_data"
    }
   ],
   "source": [
    "import matplotlib.pyplot as plt\n",
    "\n",
    "def visualize_results(cross_val_results, val_result):\n",
    "    methods = ['Cross-Validation', 'Validation Split']\n",
    "    accuracies = [cross_val_results[0], val_result]\n",
    "    plt.bar(methods, accuracies, color=['blue', 'green'])\n",
    "    plt.ylabel('Accuracy')\n",
    "    plt.title('Performance Comparison')\n",
    "    plt.show()\n",
    "\n",
    "visualize_results((mean_acc, std_dev), val_acc)\n"
   ]
  },
  {
   "cell_type": "code",
   "execution_count": null,
   "id": "173a943c-8ed6-4e4c-bec1-7adca9b5465b",
   "metadata": {},
   "outputs": [],
   "source": []
  }
 ],
 "metadata": {
  "kernelspec": {
   "display_name": "Python 3 (ipykernel)",
   "language": "python",
   "name": "python3"
  },
  "language_info": {
   "codemirror_mode": {
    "name": "ipython",
    "version": 3
   },
   "file_extension": ".py",
   "mimetype": "text/x-python",
   "name": "python",
   "nbconvert_exporter": "python",
   "pygments_lexer": "ipython3",
   "version": "3.11.7"
  }
 },
 "nbformat": 4,
 "nbformat_minor": 5
}
