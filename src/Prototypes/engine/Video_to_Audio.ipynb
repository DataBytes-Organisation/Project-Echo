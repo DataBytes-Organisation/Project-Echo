{
 "cells": [
  {
   "cell_type": "markdown",
   "metadata": {},
   "source": [
    "## Setup and Dependencies: \n",
    "Instructions for installing and importing the necessary libraries and dependencies.\n"
   ]
  },
  {
   "cell_type": "code",
   "execution_count": null,
   "metadata": {},
   "outputs": [],
   "source": [
    "import sys\n",
    "!{sys.executable} -m pip install moviepy "
   ]
  },
  {
   "cell_type": "markdown",
   "metadata": {},
   "source": [
    "## Function to convert video file to audio\n",
    "The video_to_wav function is designed to convert a video file into an audio file in WAV format. It uses the MoviePy library to achieve this task. The function takes two parameters: input_video_path (the path to the input video file) and output_wav_path (the path where the generated WAV audio file will be saved). Within the function, it reads the video file, extracts the audio, and then saves it as a WAV file with the specified codec. If successful, it prints a message indicating the conversion was successful; otherwise, it prints an error message."
   ]
  },
  {
   "cell_type": "code",
   "execution_count": 2,
   "metadata": {},
   "outputs": [],
   "source": [
    "import moviepy.editor as mp\n",
    "\n",
    "def video_to_wav(input_video_path, output_wav_path):\n",
    "    try:\n",
    "        video_clip = mp.VideoFileClip(input_video_path)\n",
    "        audio_clip = video_clip.audio\n",
    "        audio_clip.write_audiofile(output_wav_path, codec=\"pcm_s16le\")\n",
    "        print(f\"Conversion successful. WAV file saved to {output_wav_path}\")\n",
    "    except Exception as e:\n",
    "        print(f\"Error: {str(e)}\")"
   ]
  },
  {
   "cell_type": "markdown",
   "metadata": {},
   "source": [
    "## Implementation\n",
    "The video_to_wav function is utilized to convert a specific video file (input_video_path) into an audio file in WAV format, and the resulting audio file is saved at the specified output path (output_wav_path). Users can replace \"/path/to/your/video_file.mp4\" with the actual path to their video file and \"/path/to/save/the/generated/audio_file.wav\" with the desired path to save the resulting audio file. Upon running this code, the function will perform the video-to-audio conversion, and if successful, it will display a message indicating the success of the conversion and the location where the WAV file was saved."
   ]
  },
  {
   "cell_type": "code",
   "execution_count": null,
   "metadata": {},
   "outputs": [],
   "source": [
    "input_video_path = \"/path/to/your/video_file.mp4\"  # the path to your input video\n",
    "output_wav_path = \"/path/to/save.wav\"  # the output WAV file path\n",
    "    \n",
    "video_to_wav(input_video_path, output_wav_path)"
   ]
  }
 ],
 "metadata": {
  "kernelspec": {
   "display_name": "dev",
   "language": "python",
   "name": "python3"
  },
  "language_info": {
   "codemirror_mode": {
    "name": "ipython",
    "version": 3
   },
   "file_extension": ".py",
   "mimetype": "text/x-python",
   "name": "python",
   "nbconvert_exporter": "python",
   "pygments_lexer": "ipython3",
   "version": "3.8.16"
  },
  "orig_nbformat": 4
 },
 "nbformat": 4,
 "nbformat_minor": 2
}
