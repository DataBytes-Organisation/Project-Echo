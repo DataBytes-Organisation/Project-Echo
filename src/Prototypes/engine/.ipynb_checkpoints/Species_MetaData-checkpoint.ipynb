{
 "cells": [
  {
   "cell_type": "markdown",
   "metadata": {},
   "source": [
    "# Generate MetaData for Species Audio Files"
   ]
  },
  {
   "cell_type": "markdown",
   "metadata": {},
   "source": [
    "This program is designed to create metadata for audio files in a specified directory. It accomplishes this in several steps:\n",
    "\n",
    "CalcAudioDuration(length): This function calculates the audio duration in seconds, given the length of the audio in milliseconds. It converts milliseconds to seconds and returns the duration.\n",
    "\n",
    "ComputeAudioDuration(filename): This function retrieves the duration of audio files. It first checks if the file exists and has a supported format (e.g., '.wav' or '.mp3'). If supported, it loads the audio file, calculates its length, and uses CalcAudioDuration to get the duration in seconds. Any errors during this process are caught and printed.\n",
    "\n",
    "ExtractClassAndFile(path): This function extracts class names and filenames from subdirectories within a specified directory. It lists the subdirectories, iterates through them, and collects the class and filename information.\n",
    "\n",
    "GetAudioDurations(path, classes, filenames): This function calculates the durations of audio files in the specified directory. It uses the ComputeAudioDuration function to process each audio file, collecting the durations into a list.\n",
    "\n",
    "CreateMetaData(path): This function generates metadata for the audio files. It combines the class, filename, and duration information into a Pandas DataFrame and returns it.\n",
    "\n",
    "WriteMetadata(path): This function writes the metadata DataFrame to a CSV file named 'species_metadata.csv' in the specified directory.\n",
    "\n",
    "The script sets the 'path' variable to the directory containing the audio files and then calls 'WriteMetadata' to generate and save the metadata as a CSV file. This code ensures that the audio file durations are calculated accurately and included in the metadata for further analysis or use."
   ]
  },
  {
   "cell_type": "code",
   "execution_count": 1,
   "metadata": {},
   "outputs": [
    {
     "name": "stderr",
     "output_type": "stream",
     "text": [
      "C:\\Users\\prajwal\\Anaconda3\\lib\\site-packages\\pydub\\utils.py:170: RuntimeWarning: Couldn't find ffmpeg or avconv - defaulting to ffmpeg, but may not work\n",
      "  warn(\"Couldn't find ffmpeg or avconv - defaulting to ffmpeg, but may not work\", RuntimeWarning)\n"
     ]
    }
   ],
   "source": [
    "# Import the libraries\n",
    "import os\n",
    "from pydub import AudioSegment\n",
    "import pandas as pd\n",
    "import matplotlib.pyplot as plt\n",
    "import numpy as np\n",
    "import seaborn as sns"
   ]
  },
  {
   "cell_type": "code",
   "execution_count": 2,
   "metadata": {},
   "outputs": [],
   "source": [
    "# Functions to compute and generate csv file\n",
    "\n",
    "def CalcAudioDuration(length):\n",
    "    \"\"\"\n",
    "    Function to compute the duration. You could add more features like hours and minutes here, \n",
    "    but for now it would just be seconds.\n",
    "    \"\"\"\n",
    "    seconds = length / 1000  # Convert milliseconds to seconds\n",
    "    return seconds\n",
    "\n",
    "def ComputeAudioDuration(filename):\n",
    "    \"\"\"\n",
    "    This function will retrieve the duration from any file passed to it\n",
    "    \"\"\"\n",
    "    try:\n",
    "        ext = os.path.splitext(filename)[-1].lower()\n",
    "        if ext not in ['.wav', '.mp3']:\n",
    "            raise ValueError(\"Unsupported audio format\")\n",
    "\n",
    "        audio = AudioSegment.from_file(filename)\n",
    "        length = len(audio)\n",
    "        seconds = CalcAudioDuration(length)\n",
    "        return seconds\n",
    "    except Exception as e:\n",
    "        print(f\"Error loading {filename}: {e}\")\n",
    "        return None\n",
    "\n",
    "def ExtractClassAndFile(path):\n",
    "    classes = []\n",
    "    filenames = []\n",
    "    # sizes are in bytes\n",
    "    filesizes = []\n",
    "    classsizes = []\n",
    "    for folder in os.listdir(path):\n",
    "        folderpath = os.path.join(path, folder)\n",
    "        if os.path.isdir(folderpath):\n",
    "            for file in os.listdir(folderpath):\n",
    "                classsizes.append(os.path.getsize(folderpath))\n",
    "                filesizes.append(os.path.getsize((folderpath+'//'+file)))\n",
    "                if file.endswith(('.wav', '.mp3')):\n",
    "                    classes.append(folder)\n",
    "                    filenames.append(file)\n",
    "    return classes, filenames, filesizes, classsizes\n",
    "\n",
    "\n",
    "\n",
    "def GetAudioDurations(path, classes, filenames):\n",
    "    seconds = []\n",
    "    for cls, filename in zip(classes, filenames):\n",
    "        filepath = os.path.join(path, cls, filename)\n",
    "        second = ComputeAudioDuration(filepath)\n",
    "        seconds.append(second)\n",
    "    return seconds\n",
    "\n",
    "def ComputeClassDetails(meta_data_df):\n",
    "    \n",
    "    \"\"\"This function that will calculate the total number of files in the folder/class\n",
    "        and also their total duration in HH:MM:SS format\"\"\"\n",
    "    \n",
    "    result_df = meta_data_df.groupby('Class').agg(\n",
    "        {'Filename': 'count', 'Seconds': 'sum'}\n",
    "    ).reset_index()\n",
    "    result_df.rename(columns={'Filename': 'No. of Samples'}, inplace=True)\n",
    "    result_df['Seconds'] = result_df['Seconds'].round().astype(int)\n",
    "    result_df['Total Duration'] = pd.to_timedelta(result_df['Seconds'], unit='s').apply(lambda x: str(x).split()[-1])\n",
    "    result_df = result_df.drop(columns=['Seconds'])\n",
    "    return result_df\n",
    "\n",
    "# Function to create metadata table\n",
    "def CreateMetaData(path):\n",
    "    classes, filenames, filesizes, classsizes = ExtractClassAndFile(path)\n",
    "    seconds = GetAudioDurations(path, classes, filenames)\n",
    "    feature_colname = ['filename', 'seconds', 'class']\n",
    "    df = pd.DataFrame({'Class': classes, 'Filename': filenames, 'Filesize': filesizes, 'Seconds': seconds, 'Filesize_by_class': classsizes})\n",
    "    df['Seconds'] = df['Seconds'].fillna(0)\n",
    "    df1 = df.groupby('Class').agg({'Filename': 'count', 'Seconds': 'sum'}).reset_index()\n",
    "    df1.rename(columns={'Filename': 'Total_samples_by_class'}, inplace=True)\n",
    "    df1['Seconds'] = df1['Seconds'].round().astype(int)\n",
    "    df1['Total_duration_by_class'] = pd.to_timedelta(df1['Seconds'], unit='s').apply(lambda x: str(x).split()[-1])\n",
    "    df1 = df1.drop(columns=['Seconds'])\n",
    "    df_join = pd.merge(df, df1, on='Class', how='inner')\n",
    "    return df_join\n",
    "\n",
    "# Function to write csv\n",
    "def WriteMetadata(path):\n",
    "    df = CreateMetaData(path)\n",
    "    df.to_csv(os.path.join(path, 'species_metadata.csv'), index=False)\n",
    "\n",
    "# Assign the path as required\n",
    "path = \"Data2/\"\n",
    "\n",
    "# Create metadata df\n",
    "df = CreateMetaData(path)"
   ]
  },
  {
   "cell_type": "markdown",
   "metadata": {},
   "source": [
    "Finally, the script sets the 'path' variable to \"./Data2/\" and calls the 'WriteMetadata' function with this path, which generates metadata for audio files in the \"./Data2/\" directory and saves it in a CSV file named 'species_metadata.csv'."
   ]
  },
  {
   "cell_type": "code",
   "execution_count": 180,
   "metadata": {},
   "outputs": [
    {
     "name": "stdout",
     "output_type": "stream",
     "text": [
      "The metadata of given directory is: \n",
      "\n"
     ]
    },
    {
     "data": {
      "text/html": [
       "<div>\n",
       "<style scoped>\n",
       "    .dataframe tbody tr th:only-of-type {\n",
       "        vertical-align: middle;\n",
       "    }\n",
       "\n",
       "    .dataframe tbody tr th {\n",
       "        vertical-align: top;\n",
       "    }\n",
       "\n",
       "    .dataframe thead th {\n",
       "        text-align: right;\n",
       "    }\n",
       "</style>\n",
       "<table border=\"1\" class=\"dataframe\">\n",
       "  <thead>\n",
       "    <tr style=\"text-align: right;\">\n",
       "      <th></th>\n",
       "      <th>Class</th>\n",
       "      <th>Filename</th>\n",
       "      <th>Seconds</th>\n",
       "      <th>Total_samples_by_class</th>\n",
       "      <th>Total_duration_by_class</th>\n",
       "    </tr>\n",
       "  </thead>\n",
       "  <tbody>\n",
       "    <tr>\n",
       "      <th>0</th>\n",
       "      <td>Ninox strenua - powerful owl</td>\n",
       "      <td>powerful owl (1).wav</td>\n",
       "      <td>0.75</td>\n",
       "      <td>107</td>\n",
       "      <td>00:04:53</td>\n",
       "    </tr>\n",
       "    <tr>\n",
       "      <th>1</th>\n",
       "      <td>Ninox strenua - powerful owl</td>\n",
       "      <td>powerful owl (10).wav</td>\n",
       "      <td>4.00</td>\n",
       "      <td>107</td>\n",
       "      <td>00:04:53</td>\n",
       "    </tr>\n",
       "    <tr>\n",
       "      <th>2</th>\n",
       "      <td>Ninox strenua - powerful owl</td>\n",
       "      <td>powerful owl (100).wav</td>\n",
       "      <td>2.65</td>\n",
       "      <td>107</td>\n",
       "      <td>00:04:53</td>\n",
       "    </tr>\n",
       "    <tr>\n",
       "      <th>3</th>\n",
       "      <td>Ninox strenua - powerful owl</td>\n",
       "      <td>powerful owl (101).wav</td>\n",
       "      <td>3.65</td>\n",
       "      <td>107</td>\n",
       "      <td>00:04:53</td>\n",
       "    </tr>\n",
       "    <tr>\n",
       "      <th>4</th>\n",
       "      <td>Ninox strenua - powerful owl</td>\n",
       "      <td>powerful owl (102).wav</td>\n",
       "      <td>3.35</td>\n",
       "      <td>107</td>\n",
       "      <td>00:04:53</td>\n",
       "    </tr>\n",
       "  </tbody>\n",
       "</table>\n",
       "</div>"
      ],
      "text/plain": [
       "                          Class                Filename  Seconds  \\\n",
       "0  Ninox strenua - powerful owl    powerful owl (1).wav     0.75   \n",
       "1  Ninox strenua - powerful owl   powerful owl (10).wav     4.00   \n",
       "2  Ninox strenua - powerful owl  powerful owl (100).wav     2.65   \n",
       "3  Ninox strenua - powerful owl  powerful owl (101).wav     3.65   \n",
       "4  Ninox strenua - powerful owl  powerful owl (102).wav     3.35   \n",
       "\n",
       "   Total_samples_by_class Total_duration_by_class  \n",
       "0                     107                00:04:53  \n",
       "1                     107                00:04:53  \n",
       "2                     107                00:04:53  \n",
       "3                     107                00:04:53  \n",
       "4                     107                00:04:53  "
      ]
     },
     "execution_count": 180,
     "metadata": {},
     "output_type": "execute_result"
    }
   ],
   "source": [
    "print(\"The metadata of given directory is: \\n\")\n",
    "pd.read_csv('Data2/species_metadata.csv').head()"
   ]
  },
  {
   "cell_type": "code",
   "execution_count": 181,
   "metadata": {
    "scrolled": false
   },
   "outputs": [
    {
     "data": {
      "image/png": "[encoded data removed]",
      "text/plain": [
       "<Figure size 640x480 with 1 Axes>"
      ]
     },
     "metadata": {},
     "output_type": "display_data"
    }
   ],
   "source": [
    "# Bar plot for number of classes\n",
    "\n",
    "plt.bar(pd.unique(df.sort_values(by=['Class'])['Class']), pd.unique(df.sort_values(by=['Class'])['Total_samples_by_class']))\n",
    "plt.xlabel(\"Species\")\n",
    "plt.ylabel(\"Number of files\")\n",
    "plt.title(\"Species Count\")\n",
    "plt.show()"
   ]
  },
  {
   "cell_type": "code",
   "execution_count": 182,
   "metadata": {
    "scrolled": false
   },
   "outputs": [
    {
     "data": {
      "image/png": "[encoded data removed]",
      "text/plain": [
       "<Figure size 640x480 with 1 Axes>"
      ]
     },
     "metadata": {},
     "output_type": "display_data"
    },
    {
     "name": "stdout",
     "output_type": "stream",
     "text": [
      "\n",
      "Outlier-Classes - The class which are extreme in number of samples are: \n",
      "\n",
      "Pezoporus wallicus - ground parrot\n",
      "      Ninox strenua - powerful owl\n"
     ]
    }
   ],
   "source": [
    "# Box plot for total files for all species\n",
    "\n",
    "df_filecount = df.groupby(by=\"Class\").count().reset_index()[['Class', 'Filename']].rename(columns = {'Filename' : 'Count'}).sort_values('Count')\n",
    "\n",
    "# Creating plot\n",
    "plt.boxplot(df_filecount['Count'], vert= False)\n",
    "plt.title(\"Box plot for total files for all species\")\n",
    "\n",
    "# show plot\n",
    "plt.show()\n",
    "\n",
    "# Code to spot outliers\n",
    "\n",
    "q1 = np.percentile(df_filecount['Count'], 25)\n",
    "q3 = np.percentile(df_filecount['Count'], 75)\n",
    "iqr = q3 - q1\n",
    "threshold = 1.5 * iqr\n",
    "outliers = np.where((df_filecount['Count']< q1 - threshold) | (df_filecount['Count']< q3 + threshold))\n",
    "\n",
    "print(\"\\nOutlier-Classes - The class which are extreme in number of samples are: \\n\")\n",
    "print(df_filecount[df_filecount.index.isin(list(outliers[0]))]['Class'].to_string(index=False))\n"
   ]
  },
  {
   "cell_type": "code",
   "execution_count": 183,
   "metadata": {},
   "outputs": [
    {
     "data": {
      "image/png": "[encoded data removed]",
      "text/plain": [
       "<Figure size 640x480 with 1 Axes>"
      ]
     },
     "metadata": {},
     "output_type": "display_data"
    },
    {
     "name": "stdout",
     "output_type": "stream",
     "text": [
      "\n",
      "Outlier-Classes - The class which are extreme in number of samples are: \n",
      "\n",
      "      Ninox strenua - powerful owl\n",
      "Pezoporus wallicus - ground parrot\n"
     ]
    }
   ],
   "source": [
    "# Box plot for total seconds for all species\n",
    "\n",
    "# Creating plot\n",
    "plt.boxplot((df_total_seconds['Count']), vert= False)\n",
    "plt.title(\"Box plot for total duration in seconds for all species\")\n",
    "\n",
    "# show plot\n",
    "plt.show()\n",
    "\n",
    "# Code to spot outliers\n",
    "\n",
    "q1 = np.percentile(df_total_seconds['Count'], 25)\n",
    "q3 = np.percentile(df_total_seconds['Count'], 75)\n",
    "iqr = q3 - q1\n",
    "threshold = 1.5 * iqr\n",
    "outliers = np.where((df_total_seconds['Count']< q1 - threshold) | (df_total_seconds['Count']< q3 + threshold))\n",
    "\n",
    "print(\"\\nOutlier-Classes - The class which are extreme in number of samples are: \\n\")\n",
    "print(df_total_seconds[df_total_seconds.index.isin(list(outliers[0]))]['Class'].to_string(index=False))"
   ]
  },
  {
   "cell_type": "code",
   "execution_count": 184,
   "metadata": {},
   "outputs": [
    {
     "name": "stdout",
     "output_type": "stream",
     "text": [
      "The minimum file count is: 54 for the species: Pezoporus wallicus - ground parrot\n",
      "\n",
      "The maximum file count is: 107 for the species: Ninox strenua - powerful owl\n",
      "\n",
      "The mean value of number of files is :80.5\n"
     ]
    }
   ],
   "source": [
    "# Summary stats about number of files per species\n",
    "\n",
    "# Minimum\n",
    "min_count = min(df_filecount['Count'])\n",
    "min_count_species = df_filecount[df_filecount['Count']==min_count]['Class'].to_string(index=False)\n",
    "print(f\"The minimum file count is: {min_count} for the species: {min_count_species}\")\n",
    "\n",
    "# Maximum\n",
    "max_count = max(df_filecount['Count'])\n",
    "max_count_species = df_filecount[df_filecount['Count']==max_count]['Class'].to_string(index=False)\n",
    "print(f\"\\nThe maximum file count is: {max_count} for the species: {max_count_species}\")\n",
    "\n",
    "# Mean\n",
    "print(f\"\\nThe mean value of number of files is :{(df_filecount['Count']).mean()}\")"
   ]
  },
  {
   "cell_type": "code",
   "execution_count": 187,
   "metadata": {},
   "outputs": [
    {
     "data": {
      "text/html": [
       "<div>\n",
       "<style scoped>\n",
       "    .dataframe tbody tr th:only-of-type {\n",
       "        vertical-align: middle;\n",
       "    }\n",
       "\n",
       "    .dataframe tbody tr th {\n",
       "        vertical-align: top;\n",
       "    }\n",
       "\n",
       "    .dataframe thead th {\n",
       "        text-align: right;\n",
       "    }\n",
       "</style>\n",
       "<table border=\"1\" class=\"dataframe\">\n",
       "  <thead>\n",
       "    <tr style=\"text-align: right;\">\n",
       "      <th></th>\n",
       "      <th>Class</th>\n",
       "      <th>Filename</th>\n",
       "      <th>Filesize</th>\n",
       "      <th>Seconds</th>\n",
       "      <th>Filesize_by_class</th>\n",
       "      <th>Total_samples_by_class</th>\n",
       "      <th>Total_duration_by_class</th>\n",
       "      <th>Seconds_by_class_mean</th>\n",
       "      <th>Seconds_by_class_min</th>\n",
       "      <th>Seconds_by_class_max</th>\n",
       "    </tr>\n",
       "  </thead>\n",
       "  <tbody>\n",
       "    <tr>\n",
       "      <th>0</th>\n",
       "      <td>Ninox strenua - powerful owl</td>\n",
       "      <td>powerful owl (1).wav</td>\n",
       "      <td>72044</td>\n",
       "      <td>0.75</td>\n",
       "      <td>28672</td>\n",
       "      <td>107</td>\n",
       "      <td>00:04:53</td>\n",
       "      <td>2.735187</td>\n",
       "      <td>0.338</td>\n",
       "      <td>4.0</td>\n",
       "    </tr>\n",
       "    <tr>\n",
       "      <th>1</th>\n",
       "      <td>Ninox strenua - powerful owl</td>\n",
       "      <td>powerful owl (10).wav</td>\n",
       "      <td>352844</td>\n",
       "      <td>4.00</td>\n",
       "      <td>28672</td>\n",
       "      <td>107</td>\n",
       "      <td>00:04:53</td>\n",
       "      <td>2.735187</td>\n",
       "      <td>0.338</td>\n",
       "      <td>4.0</td>\n",
       "    </tr>\n",
       "    <tr>\n",
       "      <th>2</th>\n",
       "      <td>Ninox strenua - powerful owl</td>\n",
       "      <td>powerful owl (100).wav</td>\n",
       "      <td>508844</td>\n",
       "      <td>2.65</td>\n",
       "      <td>28672</td>\n",
       "      <td>107</td>\n",
       "      <td>00:04:53</td>\n",
       "      <td>2.735187</td>\n",
       "      <td>0.338</td>\n",
       "      <td>4.0</td>\n",
       "    </tr>\n",
       "    <tr>\n",
       "      <th>3</th>\n",
       "      <td>Ninox strenua - powerful owl</td>\n",
       "      <td>powerful owl (101).wav</td>\n",
       "      <td>700844</td>\n",
       "      <td>3.65</td>\n",
       "      <td>28672</td>\n",
       "      <td>107</td>\n",
       "      <td>00:04:53</td>\n",
       "      <td>2.735187</td>\n",
       "      <td>0.338</td>\n",
       "      <td>4.0</td>\n",
       "    </tr>\n",
       "    <tr>\n",
       "      <th>4</th>\n",
       "      <td>Ninox strenua - powerful owl</td>\n",
       "      <td>powerful owl (102).wav</td>\n",
       "      <td>643244</td>\n",
       "      <td>3.35</td>\n",
       "      <td>28672</td>\n",
       "      <td>107</td>\n",
       "      <td>00:04:53</td>\n",
       "      <td>2.735187</td>\n",
       "      <td>0.338</td>\n",
       "      <td>4.0</td>\n",
       "    </tr>\n",
       "  </tbody>\n",
       "</table>\n",
       "</div>"
      ],
      "text/plain": [
       "                          Class                Filename  Filesize  Seconds  \\\n",
       "0  Ninox strenua - powerful owl    powerful owl (1).wav     72044     0.75   \n",
       "1  Ninox strenua - powerful owl   powerful owl (10).wav    352844     4.00   \n",
       "2  Ninox strenua - powerful owl  powerful owl (100).wav    508844     2.65   \n",
       "3  Ninox strenua - powerful owl  powerful owl (101).wav    700844     3.65   \n",
       "4  Ninox strenua - powerful owl  powerful owl (102).wav    643244     3.35   \n",
       "\n",
       "   Filesize_by_class  Total_samples_by_class Total_duration_by_class  \\\n",
       "0              28672                     107                00:04:53   \n",
       "1              28672                     107                00:04:53   \n",
       "2              28672                     107                00:04:53   \n",
       "3              28672                     107                00:04:53   \n",
       "4              28672                     107                00:04:53   \n",
       "\n",
       "   Seconds_by_class_mean  Seconds_by_class_min  Seconds_by_class_max  \n",
       "0               2.735187                 0.338                   4.0  \n",
       "1               2.735187                 0.338                   4.0  \n",
       "2               2.735187                 0.338                   4.0  \n",
       "3               2.735187                 0.338                   4.0  \n",
       "4               2.735187                 0.338                   4.0  "
      ]
     },
     "execution_count": 187,
     "metadata": {},
     "output_type": "execute_result"
    }
   ],
   "source": [
    "# Summary stats about duration of files per species\n",
    "\n",
    "df_duration_summary = (df.groupby('Class').agg({'Seconds': ['mean', 'min', 'max']}))\\\n",
    "                      .droplevel(0, axis = 1).reset_index().rename(columns= {'mean':'Seconds_by_class_mean', \\\n",
    "                      'min':'Seconds_by_class_min', 'max':'Seconds_by_class_max'})\n",
    "\n",
    "df_final = pd.merge(df, df_duration_summary, on ='Class', how = 'inner')\n",
    "df_final.head()"
   ]
  },
  {
   "cell_type": "markdown",
   "metadata": {},
   "source": [
    " "
   ]
  },
  {
   "cell_type": "code",
   "execution_count": null,
   "metadata": {},
   "outputs": [],
   "source": [
    "# Write to csv file\n",
    "\n",
    "df_final.to_csv(os.path.join(path, 'species_metadata.csv'), index=False)"
   ]
  }
 ],
 "metadata": {
  "kernelspec": {
   "display_name": "Python 3 (ipykernel)",
   "language": "python",
   "name": "python3"
  },
  "language_info": {
   "codemirror_mode": {
    "name": "ipython",
    "version": 3
   },
   "file_extension": ".py",
   "mimetype": "text/x-python",
   "name": "python",
   "nbconvert_exporter": "python",
   "pygments_lexer": "ipython3",
   "version": "3.7.4"
  }
 },
 "nbformat": 4,
 "nbformat_minor": 2
}
