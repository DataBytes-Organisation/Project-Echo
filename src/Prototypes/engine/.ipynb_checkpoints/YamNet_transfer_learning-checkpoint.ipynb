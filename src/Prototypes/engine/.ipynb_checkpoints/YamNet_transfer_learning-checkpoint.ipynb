{
 "cells": [
  {
   "cell_type": "code",
   "execution_count": null,
   "metadata": {},
   "outputs": [],
   "source": []
  },
  {
   "cell_type": "markdown",
   "metadata": {},
   "source": [
    "To implement a solution that works for your exact case, we would need more detailed information about your exact setup. However, I'll provide a more comprehensive code snippet below that you can adapt to your case. This assumes you have a directory structure where each subdirectory's name is the class label, and each subdirectory contains the corresponding audio files. The structure would look something like this:\n",
    "\n",
    "\n",
    "- main_directory\n",
    "    - class1\n",
    "        - file1.wav\n",
    "        - file2.wav\n",
    "        ...\n",
    "    - class2\n",
    "        - file1.wav\n",
    "        - file2.wav\n",
    "        ...\n",
    "    ...\n"
   ]
  },
  {
   "cell_type": "markdown",
   "metadata": {},
   "source": [
    "import os\n",
    "import librosa\n",
    "import tensorflow as tf\n",
    "import tensorflow_hub as hub\n",
    "import numpy as np\n",
    "from sklearn.model_selection import train_test_split\n",
    "from sklearn.preprocessing import LabelEncoder\n",
    "from tensorflow.keras import layers, models\n",
    "\n",
    "# Load YAMNet model from TensorFlow Hub\n",
    "yamnet_model_handle = 'https://tfhub.dev/google/yamnet/1'\n",
    "yamnet_model = hub.load(yamnet_model_handle)\n",
    "\n",
    "def load_data(main_directory):\n",
    "    labels = []\n",
    "    features = []\n",
    "\n",
    "    # List all subdirectories\n",
    "    for subdirectory in os.listdir(main_directory):\n",
    "        print(f\"Loading files in {subdirectory}\")\n",
    "        for filename in os.listdir(f\"{main_directory}/{subdirectory}\"):\n",
    "            if filename.endswith('.wav'):\n",
    "                # Load the file\n",
    "                file_path = f\"{main_directory}/{subdirectory}/{filename}\"\n",
    "                waveform, _ = librosa.load(file_path, sr=16000)\n",
    "\n",
    "                # Make the file mono and the correct sample rate, truncate/pad to correct length\n",
    "                waveform = waveform[:16000*3]\n",
    "\n",
    "                # Extract features\n",
    "                scores, embeddings, _ = yamnet_model(waveform)\n",
    "                feature = tf.reduce_mean(embeddings, axis=0).numpy()\n",
    "\n",
    "                # Append the feature and label to our lists\n",
    "                features.append(feature)\n",
    "                labels.append(subdirectory)\n",
    "\n",
    "    # Encode labels\n",
    "    le = LabelEncoder()\n",
    "    encoded_labels = le.fit_transform(labels)\n",
    "\n",
    "    return np.array(features), np.array(encoded_labels)\n",
    "\n",
    "# Replace 'main_directory' with the path to your directory\n",
    "features, labels = load_data('main_directory')\n",
    "\n",
    "# Create train and test datasets\n",
    "X_train, X_test, y_train, y_test = train_test_split(features, labels, test_size=0.2, random_state=42)\n",
    "\n",
    "# Create a new model\n",
    "num_classes = len(np.unique(labels))\n",
    "model = models.Sequential([\n",
    "    layers.Dense(128, activation='relu'),\n",
    "    layers.Dense(num_classes, activation='softmax')\n",
    "])\n",
    "\n",
    "model.compile(optimizer='adam',\n",
    "              loss=tf.keras.losses.SparseCategoricalCrossentropy(),\n",
    "              metrics=['accuracy'])\n",
    "\n",
    "# Train your model\n",
    "model.fit(X_train, y_train, epochs=10, validation_data=(X_test, y_test))\n"
   ]
  },
  {
   "cell_type": "code",
   "execution_count": null,
   "metadata": {},
   "outputs": [],
   "source": [
    "# Evaluate the model on the test data using `evaluate`\n",
    "print('\\n# Evaluate on test data')\n",
    "results = model.evaluate(X_test, y_test, batch_size=128)\n",
    "print('test loss, test accuracy:', results)\n"
   ]
  },
  {
   "cell_type": "code",
   "execution_count": null,
   "metadata": {},
   "outputs": [],
   "source": [
    "\n",
    "# Load the file you want to predict on\n",
    "file_path = 'path_to_your_file.wav'  # replace with your file path\n",
    "feature = extract_embedding(file_path)\n",
    "\n",
    "# Reshape the feature for prediction (since the model expects batches)\n",
    "feature = np.expand_dims(feature, axis=0)\n",
    "\n",
    "# Predict\n",
    "prediction = model.predict(feature)\n",
    "\n",
    "# The prediction will be an array of probabilities for each class\n",
    "# We can get the class with the highest probability using argmax\n",
    "predicted_class = np.argmax(prediction)\n",
    "\n",
    "# If you want to convert the predicted class back to the original label\n",
    "predicted_label = le.inverse_transform([predicted_class])\n",
    "\n",
    "print('The predicted class is:', predicted_class)\n",
    "print('The predicted label is:', predicted_label)"
   ]
  }
 ],
 "metadata": {
  "kernelspec": {
   "display_name": "Python 3 (ipykernel)",
   "language": "python",
   "name": "python3"
  },
  "language_info": {
   "codemirror_mode": {
    "name": "ipython",
    "version": 3
   },
   "file_extension": ".py",
   "mimetype": "text/x-python",
   "name": "python",
   "nbconvert_exporter": "python",
   "pygments_lexer": "ipython3",
   "version": "3.8.17"
  }
 },
 "nbformat": 4,
 "nbformat_minor": 2
}
