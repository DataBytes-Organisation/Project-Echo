{
 "cells": [
  {
   "cell_type": "code",
   "execution_count": 28,
   "metadata": {},
   "outputs": [
    {
     "name": "stdout",
     "output_type": "stream",
     "text": [
      "{\"detail\":[{\"loc\":[\"body\",\"timestamp\"],\"msg\":\"invalid datetime format\",\"type\":\"value_error.datetime\"}]}\n"
     ]
    }
   ],
   "source": [
    "import requests\n",
    "from datetime import datetime\n",
    "import json\n",
    "\n",
    "url = 'http://localhost:8000/sim/movement'\n",
    "\n",
    "myobj = {                          \n",
    "                \"timestamp\": datetime.now().strftime(\"%m-%d-%Y %H:%M:%S\"),\n",
    "                \"species\": \"Sus Scrofa\",\n",
    "                \"animalId\": 1,\n",
    "                \"animalTrueLLA\": [-33.1106,150.0570, 23]\n",
    "            }\n",
    "\n",
    "x = requests.post(url, json = myobj)\n",
    "print(x.text)"
   ]
  }
 ],
 "metadata": {
  "kernelspec": {
   "display_name": "dev",
   "language": "python",
   "name": "python3"
  },
  "language_info": {
   "codemirror_mode": {
    "name": "ipython",
    "version": 3
   },
   "file_extension": ".py",
   "mimetype": "text/x-python",
   "name": "python",
   "nbconvert_exporter": "python",
   "pygments_lexer": "ipython3",
   "version": "3.9.15"
  },
  "orig_nbformat": 4
 },
 "nbformat": 4,
 "nbformat_minor": 2
}
