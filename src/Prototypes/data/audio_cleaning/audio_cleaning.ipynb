{
 "cells": [
  {
   "cell_type": "code",
   "execution_count": 14,
   "metadata": {},
   "outputs": [],
   "source": [
    "\n",
    "import numpy as np\n",
    "import pandas as pd\n",
    "import os\n",
    "\n",
    "from pydub import AudioSegment, effects, silence\n",
    "import glob"
   ]
  },
  {
   "cell_type": "code",
   "execution_count": 27,
   "metadata": {},
   "outputs": [],
   "source": [
    "local_path = r'C:\\Users\\Tony\\Documents\\Data\\3_Dataset_PE'\n",
    "save_path = r'C:\\Users\\Tony\\Documents\\Data\\3_Dataset_PE_2'"
   ]
  },
  {
   "cell_type": "code",
   "execution_count": 31,
   "metadata": {},
   "outputs": [
    {
     "ename": "CouldntDecodeError",
     "evalue": "Decoding failed. ffmpeg returned error code: 1\n\nOutput from ffmpeg/avlib:\n\nffmpeg version 5.1.2 Copyright (c) 2000-2022 the FFmpeg developers\r\n  built with clang version 15.0.2\r\n  configuration: --prefix=/d/bld/ffmpeg_1666357623563/_h_env/Library --cc=clang.exe --cxx=clang++.exe --nm=llvm-nm --ar=llvm-ar --disable-doc --disable-openssl --enable-demuxer=dash --enable-hardcoded-tables --enable-libfreetype --enable-libfontconfig --enable-libopenh264 --ld=lld-link --target-os=win64 --enable-cross-compile --toolchain=msvc --host-cc=clang.exe --extra-libs=ucrt.lib --extra-libs=vcruntime.lib --extra-libs=oldnames.lib --strip=llvm-strip --disable-stripping --host-extralibs= --enable-gpl --enable-libx264 --enable-libx265 --enable-libaom --enable-libsvtav1 --enable-libxml2 --enable-pic --enable-shared --disable-static --enable-version3 --enable-zlib --pkg-config=/d/bld/ffmpeg_1666357623563/_build_env/Library/bin/pkg-config\r\n  libavutil      57. 28.100 / 57. 28.100\r\n  libavcodec     59. 37.100 / 59. 37.100\r\n  libavformat    59. 27.100 / 59. 27.100\r\n  libavdevice    59.  7.100 / 59.  7.100\r\n  libavfilter     8. 44.100 /  8. 44.100\r\n  libswscale      6.  7.100 /  6.  7.100\r\n  libswresample   4.  7.100 /  4.  7.100\r\n  libpostproc    56.  6.100 / 56.  6.100\r\n[mp3 @ 000001F7ADC14FC0] Failed to read frame size: Could not seek to 21163.\r\nC:\\Users\\Tony\\Documents\\Data\\3_Dataset_PE\\sus scrofa Wild pig\\boar.mp3: Invalid argument\r\n",
     "output_type": "error",
     "traceback": [
      "\u001b[1;31m---------------------------------------------------------------------------\u001b[0m",
      "\u001b[1;31mCouldntDecodeError\u001b[0m                        Traceback (most recent call last)",
      "Cell \u001b[1;32mIn [31], line 9\u001b[0m\n\u001b[0;32m      7\u001b[0m file_name \u001b[39m=\u001b[39m os\u001b[39m.\u001b[39mpath\u001b[39m.\u001b[39mbasename(local_file)\n\u001b[0;32m      8\u001b[0m name, ext \u001b[39m=\u001b[39m file_name\u001b[39m.\u001b[39msplit(\u001b[39m'\u001b[39m\u001b[39m.\u001b[39m\u001b[39m'\u001b[39m)[\u001b[39m0\u001b[39m],file_name\u001b[39m.\u001b[39msplit(\u001b[39m'\u001b[39m\u001b[39m.\u001b[39m\u001b[39m'\u001b[39m)[\u001b[39m-\u001b[39m\u001b[39m1\u001b[39m]\n\u001b[1;32m----> 9\u001b[0m sound \u001b[39m=\u001b[39m AudioSegment\u001b[39m.\u001b[39;49mfrom_file(local_file, ext)\n\u001b[0;32m     10\u001b[0m \u001b[39mif\u001b[39;00m (sound\u001b[39m.\u001b[39mduration_seconds \u001b[39m>\u001b[39m \u001b[39m120.0\u001b[39m):\n\u001b[0;32m     12\u001b[0m     audio_chunks \u001b[39m=\u001b[39m silence\u001b[39m.\u001b[39msplit_on_silence(sound\n\u001b[0;32m     13\u001b[0m                         ,min_silence_len \u001b[39m=\u001b[39m \u001b[39m1000\u001b[39m\n\u001b[0;32m     14\u001b[0m                         ,silence_thresh \u001b[39m=\u001b[39m \u001b[39m-\u001b[39m\u001b[39m45\u001b[39m\n\u001b[0;32m     15\u001b[0m                         ,keep_silence \u001b[39m=\u001b[39m \u001b[39m1000\u001b[39m\n\u001b[0;32m     16\u001b[0m                     )\n",
      "File \u001b[1;32mc:\\Users\\Tony\\miniconda3\\envs\\dev\\lib\\site-packages\\pydub\\audio_segment.py:773\u001b[0m, in \u001b[0;36mAudioSegment.from_file\u001b[1;34m(cls, file, format, codec, parameters, start_second, duration, **kwargs)\u001b[0m\n\u001b[0;32m    771\u001b[0m     \u001b[39mif\u001b[39;00m close_file:\n\u001b[0;32m    772\u001b[0m         file\u001b[39m.\u001b[39mclose()\n\u001b[1;32m--> 773\u001b[0m     \u001b[39mraise\u001b[39;00m CouldntDecodeError(\n\u001b[0;32m    774\u001b[0m         \u001b[39m\"\u001b[39m\u001b[39mDecoding failed. ffmpeg returned error code: \u001b[39m\u001b[39m{0}\u001b[39;00m\u001b[39m\\n\u001b[39;00m\u001b[39m\\n\u001b[39;00m\u001b[39mOutput from ffmpeg/avlib:\u001b[39m\u001b[39m\\n\u001b[39;00m\u001b[39m\\n\u001b[39;00m\u001b[39m{1}\u001b[39;00m\u001b[39m\"\u001b[39m\u001b[39m.\u001b[39mformat(\n\u001b[0;32m    775\u001b[0m             p\u001b[39m.\u001b[39mreturncode, p_err\u001b[39m.\u001b[39mdecode(errors\u001b[39m=\u001b[39m\u001b[39m'\u001b[39m\u001b[39mignore\u001b[39m\u001b[39m'\u001b[39m) ))\n\u001b[0;32m    777\u001b[0m p_out \u001b[39m=\u001b[39m \u001b[39mbytearray\u001b[39m(p_out)\n\u001b[0;32m    778\u001b[0m fix_wav_headers(p_out)\n",
      "\u001b[1;31mCouldntDecodeError\u001b[0m: Decoding failed. ffmpeg returned error code: 1\n\nOutput from ffmpeg/avlib:\n\nffmpeg version 5.1.2 Copyright (c) 2000-2022 the FFmpeg developers\r\n  built with clang version 15.0.2\r\n  configuration: --prefix=/d/bld/ffmpeg_1666357623563/_h_env/Library --cc=clang.exe --cxx=clang++.exe --nm=llvm-nm --ar=llvm-ar --disable-doc --disable-openssl --enable-demuxer=dash --enable-hardcoded-tables --enable-libfreetype --enable-libfontconfig --enable-libopenh264 --ld=lld-link --target-os=win64 --enable-cross-compile --toolchain=msvc --host-cc=clang.exe --extra-libs=ucrt.lib --extra-libs=vcruntime.lib --extra-libs=oldnames.lib --strip=llvm-strip --disable-stripping --host-extralibs= --enable-gpl --enable-libx264 --enable-libx265 --enable-libaom --enable-libsvtav1 --enable-libxml2 --enable-pic --enable-shared --disable-static --enable-version3 --enable-zlib --pkg-config=/d/bld/ffmpeg_1666357623563/_build_env/Library/bin/pkg-config\r\n  libavutil      57. 28.100 / 57. 28.100\r\n  libavcodec     59. 37.100 / 59. 37.100\r\n  libavformat    59. 27.100 / 59. 27.100\r\n  libavdevice    59.  7.100 / 59.  7.100\r\n  libavfilter     8. 44.100 /  8. 44.100\r\n  libswscale      6.  7.100 /  6.  7.100\r\n  libswresample   4.  7.100 /  4.  7.100\r\n  libpostproc    56.  6.100 / 56.  6.100\r\n[mp3 @ 000001F7ADC14FC0] Failed to read frame size: Could not seek to 21163.\r\nC:\\Users\\Tony\\Documents\\Data\\3_Dataset_PE\\sus scrofa Wild pig\\boar.mp3: Invalid argument\r\n"
     ]
    }
   ],
   "source": [
    "\n",
    "# Go thorugh directory for sound files\n",
    "for local_folder in glob.glob(local_path + '/**'):\n",
    "    folder_name =  os.path.basename(local_folder)\n",
    "    if not os.path.isdir(os.path.join(save_path, folder_name)):\n",
    "        os.makedirs(os.path.join(save_path, folder_name))\n",
    "    for local_file in glob.glob(local_folder + '/**'):\n",
    "        file_name = os.path.basename(local_file)\n",
    "        name, ext = file_name.split('.')[0],file_name.split('.')[-1]\n",
    "        sound = AudioSegment.from_file(local_file, ext)\n",
    "        # Trim audio file from silence if it is longer than 2 minutes:\n",
    "        if (sound.duration_seconds > 120.0):\n",
    "\n",
    "            audio_chunks = silence.split_on_silence(sound\n",
    "                                ,min_silence_len = 1000\n",
    "                                ,silence_thresh = -45\n",
    "                                ,keep_silence = 1000\n",
    "                            )\n",
    "\n",
    "            combined = AudioSegment.empty()\n",
    "            for chunk in audio_chunks:\n",
    "                combined += chunk\n",
    "        else:\n",
    "            combined = sound\n",
    "\n",
    "        output_file = os.path.join(save_path , folder_name, name) + \".wav\"\n",
    "        combined.export(output_file, format=\"wav\")"
   ]
  }
 ],
 "metadata": {
  "kernelspec": {
   "display_name": "Python 3.9.15 ('dev')",
   "language": "python",
   "name": "python3"
  },
  "language_info": {
   "codemirror_mode": {
    "name": "ipython",
    "version": 3
   },
   "file_extension": ".py",
   "mimetype": "text/x-python",
   "name": "python",
   "nbconvert_exporter": "python",
   "pygments_lexer": "ipython3",
   "version": "3.9.15"
  },
  "orig_nbformat": 4,
  "vscode": {
   "interpreter": {
    "hash": "1abe3f8af67ea7e0831a35145666ca0b879c1b18865dfab80a725b3f4b67d0ab"
   }
  }
 },
 "nbformat": 4,
 "nbformat_minor": 2
}
