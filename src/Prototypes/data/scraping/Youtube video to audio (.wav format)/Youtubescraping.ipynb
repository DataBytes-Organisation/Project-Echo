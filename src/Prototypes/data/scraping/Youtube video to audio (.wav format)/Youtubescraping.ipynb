{
 "cells": [
  {
   "cell_type": "markdown",
   "metadata": {},
   "source": [
    "## Scraping Audio Files from Youtube \n",
    "\n",
    "This easy script will scrape the audio from any Youtube video and download them to your desired location."
   ]
  },
  {
   "cell_type": "code",
   "execution_count": null,
   "metadata": {},
   "outputs": [],
   "source": [
    "# Install the required libraries\n",
    "\n",
    "pip install pytube\n",
    "pip install moviepy"
   ]
  },
  {
   "cell_type": "code",
   "execution_count": 3,
   "metadata": {},
   "outputs": [],
   "source": [
    "# Importing the necessary libraries to scrape from Youtube \n",
    "\n",
    "from pytube import YouTube\n",
    "from moviepy.editor import *\n",
    "import os"
   ]
  },
  {
   "cell_type": "code",
   "execution_count": 5,
   "metadata": {},
   "outputs": [],
   "source": [
    "# This function will take the youtube video link and filename as inputs and scrape the audio file to your desired format \n",
    "\n",
    "def download_audio_from_youtube(video_url, output_filename_without_extension, output_path=\".\"):\n",
    "    # Ensure the output directory exists\n",
    "    if not os.path.exists(output_path):\n",
    "        os.makedirs(output_path)\n",
    "\n",
    "    # 2. Use pytube to get the video\n",
    "    yt = YouTube(video_url)\n",
    "    \n",
    "    # 3. Get the audio stream\n",
    "    audio_stream = yt.streams.filter(only_audio=True).first()\n",
    "    \n",
    "    # 4. Download the audio stream to the specified directory\n",
    "    audio_filename = audio_stream.download(output_path=output_path, filename=output_filename_without_extension)\n",
    "    \n",
    "    # 5. Convert the audio to .wav format using moviepy\n",
    "    audio_clip = AudioFileClip(audio_filename)\n",
    "    wav_filename = os.path.join(output_path, output_filename_without_extension + \".wav\")\n",
    "    audio_clip.write_audiofile(wav_filename)\n",
    "\n",
    "    # Optionally, delete the original audio file if you no longer need it\n",
    "    os.remove(audio_filename)"
   ]
  },
  {
   "cell_type": "code",
   "execution_count": null,
   "metadata": {},
   "outputs": [],
   "source": [
    "# Example usage\n",
    "video_url = \"YOUR_YOUTUBE_VIDEO_URL\" # Paste the Youtube URL you want to download audio from\n",
    "output_filename = \"output_audio\" # Output file name to be generated\n",
    "output_directory = \"/path/to/your/output/directory\" # Output directory where file needs to be stored\n",
    "download_audio_from_youtube(video_url, output_filename, output_directory)"
   ]
  }
 ],
 "metadata": {
  "kernelspec": {
   "display_name": "Python 3",
   "language": "python",
   "name": "python3"
  },
  "language_info": {
   "codemirror_mode": {
    "name": "ipython",
    "version": 3
   },
   "file_extension": ".py",
   "mimetype": "text/x-python",
   "name": "python",
   "nbconvert_exporter": "python",
   "pygments_lexer": "ipython3",
   "version": "3.10.11"
  },
  "orig_nbformat": 4
 },
 "nbformat": 4,
 "nbformat_minor": 2
}
