{
  "cells": [
    {
      "cell_type": "markdown",
      "metadata": {
        "id": "lSH2MJ15OWsq"
      },
      "source": [
        "This is a quick script to download the files to your local storage. Just change dl_dir to a folder of your choice."
      ]
    },
    {
      "cell_type": "code",
      "execution_count": null,
      "metadata": {
        "id": "--pPD9wSOWst"
      },
      "outputs": [],
      "source": [
        "from google.cloud import storage\n",
        "import os\n",
        "bucket_name = 'project_echo_bucket_1'\n",
        "os.environ[\"GCLOUD_PROJECT\"] = \"sit-23t1-project-echo-25288b9\"\n",
        "# Enter here your desired download folder\n",
        "dl_dir = r'C:\\Users\\Tony\\Documents\\dl'\n",
        "\n",
        "storage_client = storage.Client()\n",
        "bucket = storage_client.get_bucket(bucket_name)\n",
        "blobs = bucket.list_blobs()  # Get list of files\n",
        "for blob in blobs:\n",
        "    folder_name = blob.name.split('/')[0]\n",
        "    file_name = blob.name.split('/')[1]\n",
        "    path = os.path.join(dl_dir, folder_name)\n",
        "    if not os.path.exists(path):\n",
        "        os.makedirs(path)\n",
        "    blob.download_to_filename(os.path.join(dl_dir, folder_name, file_name))\n",
        "\n",
        "## some change to test commits from colab\n",
        "\n"
      ]
    }
  ],
  "metadata": {
    "kernelspec": {
      "display_name": "Python 3.9.7",
      "language": "python",
      "name": "python3"
    },
    "language_info": {
      "codemirror_mode": {
        "name": "ipython",
        "version": 3
      },
      "file_extension": ".py",
      "mimetype": "text/x-python",
      "name": "python",
      "nbconvert_exporter": "python",
      "pygments_lexer": "ipython3",
      "version": "3.9.7"
    },
    "orig_nbformat": 4,
    "vscode": {
      "interpreter": {
        "hash": "dcacd4bc9425bc1dc7eb3eb642b772828e4b7222951303bfcb39fa32157da8bb"
      }
    },
    "colab": {
      "provenance": []
    }
  },
  "nbformat": 4,
  "nbformat_minor": 0
}