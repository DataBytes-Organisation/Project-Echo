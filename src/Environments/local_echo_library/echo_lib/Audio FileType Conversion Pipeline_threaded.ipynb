{
 "cells": [
  {
   "cell_type": "markdown",
   "id": "edb1a62d",
   "metadata": {},
   "source": [
    "# This notebook scans all directories in an input bucket and converts all files to wav\n",
    "\n",
    "This occurs inplace and deletes the original file and replaces it with a .wav file, It overwrites an existing file by the same name.\n",
    "\n",
    "It expects input of a \"bucket\" folder, consisting of subfolders named as species, and the audio files within.\n",
    "If converting a single folder, create a parent folder to put it into.\n",
    "\n",
    "This utilises a multi-threaded approach to complete the conversion as fast as possible, but can cause your computer to slow down while runnning, as there is no memory limit/check built in. \n",
    "\n",
    "The number of threads are the number of folders in the source_folder. \n",
    "\n",
    "### Currently it requires the source directory to have folders in it\n",
    "\n",
    "### *Use the split into folders notebook to organise sub-folders. It will create many, which speeds up the multi-threaded conversion* \n",
    "\n",
    "Audio file formats are\n",
    "- .mp3\n",
    "- .flac\n",
    "- .wav\n",
    "\n",
    "Video file inputs are\n",
    "- .mp4\n",
    "- .m4a"
   ]
  },
  {
   "cell_type": "code",
   "execution_count": null,
   "id": "b9f77873",
   "metadata": {},
   "outputs": [],
   "source": [
    "import warnings\n",
    "warnings.filterwarnings('ignore')\n",
    "import os\n",
    "import pathlib\n",
    "import glob\n",
    "import subprocess\n",
    "import threading \n",
    "import time\n",
    "from IPython.display import clear_output\n"
   ]
  },
  {
   "cell_type": "markdown",
   "id": "a8ddd896",
   "metadata": {},
   "source": [
    "### Enter the source folder containing subfolders\n",
    "\n",
    "### This source folder must be a parent directory containing at least 1 folder of audio files to convert"
   ]
  },
  {
   "cell_type": "code",
   "execution_count": null,
   "id": "d8ab61f4",
   "metadata": {},
   "outputs": [],
   "source": [
    "# input parameters\n",
    "source_folder = \"/Volumes/UGREEN Samsung SSD/project echo audio/eBird/Large files\"\n",
    "\n",
    "# options are currently \".mp3\" or \".wav\" (there is scope to add more)\n",
    "output_file_type = \".mp3\""
   ]
  },
  {
   "cell_type": "code",
   "execution_count": null,
   "id": "b6b787d1",
   "metadata": {},
   "outputs": [],
   "source": [
    "# TODO:\n",
    "# - check if there are multiple folders in source_folder\n",
    "# - build in a MAX amount of memory allocated\n"
   ]
  },
  {
   "cell_type": "markdown",
   "id": "31241a1f",
   "metadata": {},
   "source": [
    "--- \n",
    "## Generate list of all folders in the source path"
   ]
  },
  {
   "cell_type": "code",
   "execution_count": null,
   "id": "24602b7d",
   "metadata": {},
   "outputs": [],
   "source": [
    "sub_folders = pathlib.Path(source_folder).glob(\"**/*\") #generator object\n",
    "sub_folders\n",
    "sub_folder_paths = [x for x in sub_folders if x.is_dir()]\n",
    "print(len(sub_folder_paths))\n",
    "sub_folder_paths[:4]"
   ]
  },
  {
   "cell_type": "markdown",
   "id": "6ebf6ede",
   "metadata": {},
   "source": [
    "--- \n",
    "## Generate list of all audio files paths in the sub-folder"
   ]
  },
  {
   "cell_type": "code",
   "execution_count": null,
   "id": "0be51147",
   "metadata": {},
   "outputs": [],
   "source": [
    "# this creates a new version of the input file, converted to the output format\n",
    "def convert_file(input_file_path):\n",
    "    parent_path = pathlib.PurePath(input_file_path).parent    \n",
    "    file_name = pathlib.Path(input_file_path).stem   \n",
    "    output_file_path = str(parent_path) + \"/\" + file_name + output_file_type\n",
    "    # write the new wav file forcing overwrite \n",
    "    subprocess.call(['ffmpeg', '-y', '-i', input_file_path,\n",
    "                 output_file_path],\n",
    "    stdout=subprocess.DEVNULL,\n",
    "    stderr=subprocess.STDOUT)\n",
    "    return"
   ]
  },
  {
   "cell_type": "code",
   "execution_count": null,
   "id": "6c771f92",
   "metadata": {},
   "outputs": [],
   "source": [
    "# check each file type and convert it if necessary\n",
    "# if creates a new version of the file, then deletes the old\n",
    "# it skips over the file if it is already in the output format\n",
    "\n",
    "def check_file_type(audio_file_path):  \n",
    "    # check this file name and return if it already exists\n",
    "    if (pathlib.Path(audio_file_path).suffix == output_file_type): return\n",
    "# audio file type conversions\n",
    "    if (pathlib.Path(audio_file_path).suffix == \".wav\"): convert_file(audio_file_path); # print(\"wav\")\n",
    "    if (pathlib.Path(audio_file_path).suffix == \".mp3\"): convert_file(audio_file_path); # print(\"mp3\")\n",
    "    if (pathlib.Path(audio_file_path).suffix == \".flac\"): convert_file(audio_file_path); # print(\"flac\")\n",
    "    if (pathlib.Path(audio_file_path).suffix == \".ogg\"): convert_file(audio_file_path); # print(\"ogg\")\n",
    "# video file type conversions:\n",
    "    if (pathlib.Path(audio_file_path).suffix == \".m4a\"): convert_file(audio_file_path)\n",
    "    if (pathlib.Path(audio_file_path).suffix == \".mp4\"): convert_file(audio_file_path)\n",
    "# delete the old file\n",
    "    os.remove(audio_file_path)\n",
    "    return"
   ]
  },
  {
   "cell_type": "code",
   "execution_count": null,
   "id": "c5a0253b",
   "metadata": {},
   "outputs": [],
   "source": [
    "# this function is called by each thread\n",
    "# it takes a subfolder within the input directory and iterates through every file within it\n",
    "# to convert to output format\n",
    "\n",
    "def threaded_function(sub_folder_path):\n",
    "    audio_files = pathlib.Path(sub_folder_path).glob(\"**/*\") #generator object\n",
    "    audio_files\n",
    "    audio_file_paths =  [x for x in audio_files if x.is_file()] #PosixPath list\n",
    "    for x in range(len(audio_file_paths)): \n",
    "        check_file_type(audio_file_paths[x])\n",
    "    print(\"folder {} done\".format(sub_folder_path.stem))\n",
    "    time.sleep(1)\n",
    "    clear_output()\n",
    "    return\n"
   ]
  },
  {
   "cell_type": "code",
   "execution_count": null,
   "id": "e889bb07",
   "metadata": {},
   "outputs": [],
   "source": [
    "# create a list of threads\n",
    "# the list is currently set to the number of folders\n",
    "\n",
    "def create_threads(sub_folder_paths):\n",
    "    max_threads = lambda x : 10 if (x > 10) else x\n",
    "    num_threads =  max_threads(len(sub_folder_paths))\n",
    "    num_threads = len(sub_folder_paths)\n",
    "    thread_list = []\n",
    "    for i in range(num_threads):\n",
    "        thread_list.append(threading.Thread(target=threaded_function, args=([sub_folder_paths[i]])))  \n",
    "    return thread_list\n"
   ]
  },
  {
   "cell_type": "markdown",
   "id": "a97e7dee",
   "metadata": {},
   "source": [
    "## Main function that converts all files to the specified format\n",
    "### Multi-threaded function, so expect your computer to grind to a hault for a few minutes"
   ]
  },
  {
   "cell_type": "code",
   "execution_count": null,
   "id": "e34117b9",
   "metadata": {},
   "outputs": [],
   "source": [
    "# create a thread for every folder\n",
    "thread_list = create_threads(sub_folder_paths)\n",
    "# start converting files in each folder concurrently\n",
    "for thread in thread_list:\n",
    "    thread.start()\n",
    "# wait for all threads to complete\n",
    "for thread in thread_list:\n",
    "    thread.join()\n",
    "print(\"done all\")\n",
    "print(\"Conversion of {}\\n to format \\\"{}\\\" complete!\".format(source_folder, output_file_type))"
   ]
  }
 ],
 "metadata": {
  "kernelspec": {
   "display_name": "Python 3 (ipykernel)",
   "language": "python",
   "name": "python3"
  },
  "language_info": {
   "codemirror_mode": {
    "name": "ipython",
    "version": 3
   },
   "file_extension": ".py",
   "mimetype": "text/x-python",
   "name": "python",
   "nbconvert_exporter": "python",
   "pygments_lexer": "ipython3",
   "version": "3.10.12"
  }
 },
 "nbformat": 4,
 "nbformat_minor": 5
}
