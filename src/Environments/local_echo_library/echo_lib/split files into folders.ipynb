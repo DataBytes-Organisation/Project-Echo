{
 "cells": [
  {
   "cell_type": "markdown",
   "id": "edb1a62d",
   "metadata": {},
   "source": [
    "# Create subfolders to put audio files into"
   ]
  },
  {
   "cell_type": "code",
   "execution_count": null,
   "id": "b9f77873",
   "metadata": {},
   "outputs": [],
   "source": [
    "import warnings\n",
    "warnings.filterwarnings('ignore')\n",
    "\n",
    "import os\n",
    "import pandas as pd\n",
    "import numpy as np\n",
    "import librosa, librosa.display\n",
    "from pathlib import Path, PurePath\n",
    "import glob\n",
    "import pathlib\n",
    "import subprocess"
   ]
  },
  {
   "cell_type": "code",
   "execution_count": null,
   "id": "d8ab61f4",
   "metadata": {},
   "outputs": [],
   "source": [
    "# input parameters\n",
    "source_folder = (\"/Volumes/UGREEN Samsung SSD/project echo audio/eBird/eBird_Bucket mp3s/Halliday_4_mp3s\")\n",
    "os.chdir(source_folder)\n",
    "source_folder = pathlib.Path(source_folder)\n",
    "source_folder"
   ]
  },
  {
   "cell_type": "markdown",
   "id": "861934e9",
   "metadata": {},
   "source": [
    "# TODO:\n",
    "## Make sure to use try / except\n",
    "\n"
   ]
  },
  {
   "cell_type": "code",
   "execution_count": null,
   "id": "b6b787d1",
   "metadata": {},
   "outputs": [],
   "source": [
    "# check if there are multiple folders in source_folder\n",
    "# source_folder =\"/Volumes/UGREEN Samsung SSD/project echo audio/test data/test_1\""
   ]
  },
  {
   "cell_type": "markdown",
   "id": "31241a1f",
   "metadata": {},
   "source": [
    "--- \n",
    "## Generate list of all folders in the source path"
   ]
  },
  {
   "cell_type": "code",
   "execution_count": null,
   "id": "24602b7d",
   "metadata": {},
   "outputs": [],
   "source": [
    "audio_files = pathlib.Path(source_folder).glob(\"**/*\") #generator object\n",
    "audio_file_paths =  [x for x in audio_files if x.is_file()] #PosixPath list\n",
    "num_files = len(audio_file_paths)\n",
    "print(num_files)\n",
    "audio_file_paths[0]\n",
    "# pathlib.Path(source_folder).mkdir(parents=True, exist_ok=True)\n"
   ]
  },
  {
   "cell_type": "code",
   "execution_count": null,
   "id": "56e07f80",
   "metadata": {},
   "outputs": [],
   "source": [
    "# create folders\n",
    "# make more folders than necessary\n",
    "# fill folders and then some to make sure\n",
    "files_per_folder = 30\n",
    "num_folders = int(np.floor(num_files / files_per_folder)+1)\n",
    "print(num_folders)\n",
    "folder_names_list = np.arange(0,num_folders,1).tolist()\n",
    "folder_names_list[:4]\n"
   ]
  },
  {
   "cell_type": "code",
   "execution_count": null,
   "id": "35eefeaa",
   "metadata": {},
   "outputs": [],
   "source": [
    "def create_directory(folder_names_list):\n",
    "    folder_lists = []\n",
    "    try:\n",
    "        for i in range(len(folder_names_list)):\n",
    "            folder_name = pathlib.Path(str(folder_names_list[i]))\n",
    "            folder_name.mkdir(parents=True, exist_ok=True)\n",
    "            folder_lists.append(folder_name)\n",
    "            # print(f\"Directory '{folder_name}' created successfully.\")\n",
    "    except OSError:\n",
    "        print(f\"Creation of directory failed.\")\n",
    "    return folder_lists\n",
    "# Create the directory\n",
    "folder_lists = create_directory(folder_names_list)\n",
    "folder_lists\n"
   ]
  },
  {
   "cell_type": "code",
   "execution_count": null,
   "id": "84e53e1c",
   "metadata": {},
   "outputs": [],
   "source": [
    "folder_number = 0\n",
    "i = 0\n",
    "while i <= num_files:\n",
    "    while i <= (folder_number + 1) * files_per_folder:\n",
    "        current_path_name = audio_file_paths[i]\n",
    "        dest_path_name  = current_path_name.parents[1] / current_path_name.parts[-2] /folder_lists[folder_number] / current_path_name.parts[-1]\n",
    "        current_path_name.rename(dest_path_name)\n",
    "        i += 1\n",
    "    folder_number +=1\n",
    "\n"
   ]
  }
 ],
 "metadata": {
  "kernelspec": {
   "display_name": "Python 3 (ipykernel)",
   "language": "python",
   "name": "python3"
  },
  "language_info": {
   "codemirror_mode": {
    "name": "ipython",
    "version": 3
   },
   "file_extension": ".py",
   "mimetype": "text/x-python",
   "name": "python",
   "nbconvert_exporter": "python",
   "pygments_lexer": "ipython3",
   "version": "3.10.12"
  }
 },
 "nbformat": 4,
 "nbformat_minor": 5
}
