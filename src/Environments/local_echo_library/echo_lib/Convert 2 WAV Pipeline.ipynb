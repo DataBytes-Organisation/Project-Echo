{
 "cells": [
  {
   "cell_type": "markdown",
   "id": "edb1a62d",
   "metadata": {},
   "source": [
    "# This notebook scans all directories in an input bucket and converts all files to wav\n",
    "\n",
    "This occurs inplace and deletes the original file and replaces it with a .wav file, It overwrites an existing file by the same name.\n",
    "\n",
    "It expects input of a \"bucket\" folder, consisting of subfolders named as species, and the audio files within.\n",
    "\n",
    "Audio file inputs are\n",
    "- .mp3\n",
    "- .flac\n",
    "\n",
    "Video file inputs are\n",
    "- .mp4\n",
    "- .m4a"
   ]
  },
  {
   "cell_type": "code",
   "execution_count": null,
   "id": "b9f77873",
   "metadata": {},
   "outputs": [],
   "source": [
    "import warnings\n",
    "warnings.filterwarnings('ignore')\n",
    "\n",
    "import os\n",
    "import pandas as pd\n",
    "import numpy as np\n",
    "import librosa, librosa.display\n",
    "import pathlib\n",
    "import glob\n",
    "import pathlib\n",
    "import subprocess"
   ]
  },
  {
   "cell_type": "code",
   "execution_count": null,
   "id": "0946269a",
   "metadata": {},
   "outputs": [],
   "source": [
    "# input the bucket directory here\n",
    "bucket =\"/Users/mhallid2/ProjectEcho_Data/test_bucket orig\"\n",
    "species_bucket = os.listdir(bucket)\n",
    "species_bucket"
   ]
  },
  {
   "cell_type": "code",
   "execution_count": null,
   "id": "e4300c38",
   "metadata": {},
   "outputs": [],
   "source": [
    "# writes creates a dataframe of species (folder names)\n",
    "\n",
    "species_bucket = pd.DataFrame(species_bucket, columns = [\"animal species\"])\n",
    "species_bucket.index = np.arange(1, len(species_bucket) + 1)\n",
    "species_bucket = species_bucket.sort_values(\"animal species\")\n",
    "species_bucket = species_bucket.iloc[1:]\n",
    "species_bucket.index = np.arange(1, len(species_bucket) + 1)\n",
    "print(\"files: {}\".format(len(species_bucket)))\n",
    "species_bucket.head()"
   ]
  },
  {
   "cell_type": "code",
   "execution_count": null,
   "id": "33e655c6",
   "metadata": {},
   "outputs": [],
   "source": [
    "## extract species as dataframe\n",
    "# function to crearte a dataframe of all species (folders) in the bucket, listed alphabetically\n",
    "def species_as_dataframe(folder_filepath):\n",
    "    species_list = os.listdir(folder_filepath)\n",
    "    species_dataframe = pd.DataFrame(species_list, columns = [\"animal species\"])\n",
    "    species_dataframe.index = np.arange(1, len(species_dataframe) + 1)\n",
    "    species_dataframe = species_dataframe.sort_values(\"animal species\")\n",
    "    species_dataframe = species_dataframe.iloc[1:]\n",
    "    species_dataframe.index = np.arange(1, len(species_dataframe) + 1)\n",
    "    return species_dataframe \n",
    "\n",
    "species_as_dataframe(bucket)\n"
   ]
  },
  {
   "cell_type": "code",
   "execution_count": null,
   "id": "454cda28",
   "metadata": {},
   "outputs": [],
   "source": [
    "# function to crearte a dataframe of full directory names of species in the bucket, listed alphabetically\n",
    "\n",
    "def file_paths_as_df(bucket):  # maybe change to receive the column value too\n",
    "    bucket_folders = glob.glob(bucket+\"/*\")\n",
    "    bucket_folders = pd.DataFrame(bucket_folders, columns = [\"animal species folder paths\"])\n",
    "    bucket_folders = bucket_folders.sort_values(\"animal species folder paths\")\n",
    "    bucket_folders.index = np.arange(1, len(bucket_folders) + 1)\n",
    "    bucket_folders.head()\n",
    "    return bucket_folders\n",
    "bucket_file_paths_as_dataframe = file_paths_as_df(bucket)\n",
    "bucket_file_paths_as_dataframe"
   ]
  },
  {
   "cell_type": "markdown",
   "id": "a45ff503",
   "metadata": {},
   "source": [
    "# start with a df and later change to list\n",
    "### Function to list the filepaths of all species in that bucket as a list"
   ]
  },
  {
   "cell_type": "code",
   "execution_count": null,
   "id": "a25b4322",
   "metadata": {},
   "outputs": [],
   "source": [
    "# this takes a dataframe and changes it back to list\n",
    "def file_paths_as_list(bucket_folders_dataframe):\n",
    "    bucket_folders_list = bucket_folders_dataframe.values.tolist()\n",
    "    bucket_folders_list = list(np.concatenate(bucket_folders_list).flat)\n",
    "    bucket_folders_list[0:1]\n",
    "    return bucket_folders_list"
   ]
  },
  {
   "cell_type": "code",
   "execution_count": null,
   "id": "20a18c60",
   "metadata": {},
   "outputs": [],
   "source": [
    "bucket_file_paths_as_list = file_paths_as_list(file_paths_as_df(bucket))\n",
    "bucket_file_paths_as_list"
   ]
  },
  {
   "cell_type": "markdown",
   "id": "90506252",
   "metadata": {},
   "source": [
    "### Function to list the filepaths of all species in that bucket as a dataframe"
   ]
  },
  {
   "cell_type": "code",
   "execution_count": null,
   "id": "d9f2e84e",
   "metadata": {},
   "outputs": [],
   "source": [
    "# this creates a .wav version of a file past to it\n",
    "# it will save with the same name\n",
    "# it will overwrite if an existing .wav file exists with the same name\n",
    "\n",
    "def convert_individual_file(file_path):\n",
    "    parent_path = pathlib.PurePath(file_path).parent    \n",
    "    file_name = pathlib.Path(file_path).stem   \n",
    "    output_file_path = str(parent_path) + \"/\" + file_name + \".wav\"\n",
    "    # write the new wav file forcing overwrite \n",
    "    subprocess.call(['ffmpeg', '-y', '-i', file_path,\n",
    "                 output_file_path])\n",
    "    return"
   ]
  },
  {
   "cell_type": "code",
   "execution_count": null,
   "id": "329f7c85",
   "metadata": {},
   "outputs": [],
   "source": [
    "# this function checks the filepath passed to it and checks the filetype\n",
    "# if it is one of the listed filetypes ot be converted, it will make a new version \n",
    "# as a .wav and delete the original\n",
    "\n",
    "def check_for_conversion(i, species_filepath):  \n",
    "    audio_file_paths = glob.glob(species_filepath+\"/*\")\n",
    "\n",
    "    for i in range(len(audio_file_paths)):\n",
    "        if pathlib.Path(audio_file_paths[i]).suffix == \".mp3\":\n",
    "            convert_individual_file(audio_file_paths[i]) # save a new copy as wav in this directory\n",
    "            os.remove(audio_file_paths[i])\n",
    "\n",
    "        elif pathlib.Path(audio_file_paths[i]).suffix == \".flac\":\n",
    "            convert_individual_file(audio_file_paths[i]) # save a new copy as wav in this directory\n",
    "            os.remove(audio_file_paths[i])\n",
    "\n",
    "        elif pathlib.Path(audio_file_paths[i]).suffix == \".m4a\":\n",
    "            convert_individual_file(audio_file_paths[i]) # save a new copy as wav in this directory\n",
    "            os.remove(audio_file_paths[i])\n",
    "\n",
    "        elif pathlib.Path(audio_file_paths[i]).suffix == \".mp4\":\n",
    "            convert_individual_file(audio_file_paths[i]) # save a new copy as wav in this directory\n",
    "            os.remove(audio_file_paths[i])\n",
    "    return"
   ]
  },
  {
   "cell_type": "code",
   "execution_count": null,
   "id": "10a3849d",
   "metadata": {},
   "outputs": [],
   "source": [
    "### working here ###\n",
    "\n",
    "'''\n",
    "pathlib.PurePath would work much better here I'm sure ...\n",
    "'''\n",
    "\n",
    "def convert_files(bucket_file_path):\n",
    "    print(\"Folders scanned\")\n",
    "    print(\".........\")\n",
    "    for i in range(len(species_bucket)-1):\n",
    "        bucket_species_dataframe = species_as_dataframe(bucket_file_path)\n",
    "        bucket_file_paths_as_list = file_paths_as_list(file_paths_as_df(bucket_file_path))\n",
    "        current_species_file_pathame = bucket_file_paths_as_list[i]\n",
    "        check_for_conversion(i, current_species_file_pathame)\n",
    "    print(bucket_species_dataframe)\n",
    "    print(\".........\")\n",
    "    print(\"Conversion Complete\")\n",
    "\n",
    "\n"
   ]
  },
  {
   "cell_type": "code",
   "execution_count": null,
   "id": "1fffb847",
   "metadata": {},
   "outputs": [],
   "source": [
    "convert_files(bucket)"
   ]
  },
  {
   "cell_type": "code",
   "execution_count": null,
   "id": "b5198b54",
   "metadata": {
    "scrolled": false
   },
   "outputs": [],
   "source": [
    "# run a second time to generate a clean output\n",
    "convert_files(bucket)"
   ]
  }
 ],
 "metadata": {
  "kernelspec": {
   "display_name": "Python 3 (ipykernel)",
   "language": "python",
   "name": "python3"
  },
  "language_info": {
   "codemirror_mode": {
    "name": "ipython",
    "version": 3
   },
   "file_extension": ".py",
   "mimetype": "text/x-python",
   "name": "python",
   "nbconvert_exporter": "python",
   "pygments_lexer": "ipython3",
   "version": "3.10.12"
  }
 },
 "nbformat": 4,
 "nbformat_minor": 5
}
