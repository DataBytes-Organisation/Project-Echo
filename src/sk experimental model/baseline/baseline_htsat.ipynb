{
 "cells": [
  {
   "cell_type": "code",
   "execution_count": 1,
   "metadata": {},
   "outputs": [
    {
     "name": "stdout",
     "output_type": "stream",
     "text": [
      "Python Version     :  3.9.15\n",
      "TensorFlow Version :  2.10.1\n",
      "Pytorch Version    :  1.13.0+cu117\n"
     ]
    }
   ],
   "source": [
    "import warnings\n",
    "warnings.filterwarnings(\"ignore\")\n",
    "\n",
    "# some basic libraries\n",
    "import numpy as np\n",
    "import tensorflow as tf\n",
    "from numpy.lib.function_base import average\n",
    "from platform import python_version\n",
    "\n",
    "# ipython display\n",
    "from IPython.core.display import display\n",
    "\n",
    "# pytorch lightning\n",
    "import pytorch_lightning as pl\n",
    "from pytorch_lightning.callbacks import ModelCheckpoint\n",
    "\n",
    "# pytorch\n",
    "import torch\n",
    "from torch.utils.data import DataLoader, random_split, sampler\n",
    "from torch.utils.data import Dataset\n",
    "from torchlibrosa.stft import STFT, ISTFT, magphase\n",
    "\n",
    "from keras.utils import dataset_utils\n",
    "\n",
    "# sklearn machine learning library\n",
    "from sklearn.metrics import average_precision_score, roc_auc_score, accuracy_score\n",
    "\n",
    "from htsat_utils import do_mixup, get_mix_lambda, do_mixup_label\n",
    "from htsat_utils import get_loss_func, d_prime, float32_to_int16\n",
    "\n",
    "# import the HTSAT model\n",
    "from htsat_model import HTSAT_Swin_Transformer \n",
    "\n",
    "# import project echo modules\n",
    "import baseline_config\n",
    "import echo_data_module\n",
    "import echo_module\n",
    "\n",
    "# print system information\n",
    "print('Python Version     : ', python_version())\n",
    "print('TensorFlow Version : ', tf.__version__)\n",
    "print('Pytorch Version    : ', torch.__version__)"
   ]
  },
  {
   "cell_type": "code",
   "execution_count": 2,
   "metadata": {},
   "outputs": [
    {
     "name": "stdout",
     "output_type": "stream",
     "text": [
      "Found 12384 files belonging to 5 classes.\n",
      "Found 487 files belonging to 5 classes.\n",
      "Found 384 files belonging to 5 classes.\n",
      "class names:  ['brant', 'jabwar', 'sheowl', 'spodov', 'wiltur']\n"
     ]
    }
   ],
   "source": [
    "def paths_and_labels_to_dataset(image_paths,labels,num_classes):\n",
    "    path_ds = tf.data.Dataset.from_tensor_slices(image_paths)\n",
    "    img_ds = path_ds.map(\n",
    "        lambda path: tf.io.read_file(path), \n",
    "        num_parallel_calls=tf.data.AUTOTUNE\n",
    "    )\n",
    "    label_ds = dataset_utils.labels_to_dataset(\n",
    "        labels, \n",
    "        'categorical', \n",
    "        num_classes)\n",
    "    img_ds = tf.data.Dataset.zip((img_ds, label_ds))\n",
    "    return img_ds\n",
    "\n",
    "def create_dataset(subset):\n",
    "    image_paths, labels, class_names = dataset_utils.index_directory(\n",
    "            baseline_config.dataset_path + subset,\n",
    "            labels=\"inferred\",\n",
    "            formats=('.pt'),\n",
    "            class_names=None,\n",
    "            shuffle=False,\n",
    "            seed=42,\n",
    "            follow_links=False)\n",
    "\n",
    "    dataset = paths_and_labels_to_dataset(\n",
    "        image_paths=image_paths,\n",
    "        labels=labels,\n",
    "        num_classes=len(class_names))\n",
    "    \n",
    "    return dataset, class_names\n",
    "\n",
    "train_dataset, class_names = create_dataset('TRAIN/')\n",
    "test_dataset, _            = create_dataset('TEST/')\n",
    "validation_dataset, _      = create_dataset('VALIDATION/')\n",
    "print(\"class names: \", class_names)"
   ]
  },
  {
   "cell_type": "code",
   "execution_count": 3,
   "metadata": {},
   "outputs": [
    {
     "name": "stdout",
     "output_type": "stream",
     "text": [
      "(313, 128, 1) (5,)\n"
     ]
    }
   ],
   "source": [
    "def dataset_transforms(image,label):\n",
    "    image = tf.io.parse_tensor(image, tf.float32)\n",
    "    image = tf.expand_dims(image, -1)\n",
    "    #image = tf.repeat(image, 3, 2)\n",
    "    return image,label\n",
    "\n",
    "train_dataset_b = ( \n",
    "                  train_dataset\n",
    "                  .shuffle(20000)\n",
    "                  .map(dataset_transforms)\n",
    "                  #.batch(baseline_config.batch_size)\n",
    "                  .cache()\n",
    "                  .repeat(2)            \n",
    "                )\n",
    "\n",
    "validation_dataset_b = ( \n",
    "                  validation_dataset\n",
    "                  .map(dataset_transforms)\n",
    "                  #.batch(baseline_config.batch_size)\n",
    "                  .cache()\n",
    "                )\n",
    "\n",
    "test_dataset_b = ( \n",
    "                  test_dataset\n",
    "                  .map(dataset_transforms)\n",
    "                  #.batch(baseline_config.batch_size)\n",
    "                  .cache()\n",
    "                )\n",
    "\n",
    "for item,lbl in train_dataset_b.take(1):\n",
    "    print(item.shape, lbl.shape)"
   ]
  },
  {
   "cell_type": "code",
   "execution_count": 4,
   "metadata": {},
   "outputs": [],
   "source": [
    "class EchoDatasetMelspec(Dataset):\n",
    "\n",
    "    def __init__(self, dataset):\n",
    "        \n",
    "        self.dataset = dataset\n",
    "        \n",
    "        self.audio_dataset = []\n",
    "        \n",
    "        # just load it all into RAM for now\n",
    "        for item,lbl in dataset:\n",
    "            self.audio_dataset.append((item.numpy(), lbl.numpy()))\n",
    "        \n",
    "    # this shuffles the whole list of training samples\n",
    "    def shuffle_dataset(self):\n",
    "        print(\"\")\n",
    "\n",
    "    # get sample at location 'index'\n",
    "    def __getitem__(self, index):\n",
    "        \"\"\"Load waveform and target of an audio clip.\n",
    "        Args:\n",
    "            index: the index number\n",
    "        Return: {\n",
    "            \"filename\": str,\n",
    "            \"waveform\": (clip_samples,),\n",
    "            \"target\": (classes_num,)\n",
    "        }\n",
    "        \"\"\"\n",
    "        \n",
    "        # retrieve the sample from the dataset\n",
    "        sample = self.audio_dataset[index]\n",
    "\n",
    "        melspec = sample[0]                      # T F C\n",
    "        # print(\"melspec.shape\",melspec.shape) \n",
    "        melspec = np.transpose(melspec, (2,0,1)) # C T F        \n",
    "        \n",
    "        target = sample[1]\n",
    "             \n",
    "        # return a dictionary with the sample data\n",
    "        return {\n",
    "            \"filename\": \"n/a\",\n",
    "            \"melspec\": melspec,\n",
    "            \"target\": np.argmax(target),\n",
    "        }\n",
    "\n",
    "    def __len__(self):\n",
    "        return len(self.audio_dataset)"
   ]
  },
  {
   "cell_type": "code",
   "execution_count": 5,
   "metadata": {},
   "outputs": [],
   "source": [
    "train_dataset = EchoDatasetMelspec(train_dataset_b)\n",
    "validation_dataset = EchoDatasetMelspec(validation_dataset_b)\n",
    "\n",
    "# don't need tensorflow anymore, need to free memory so pytorch can use it\n",
    "from numba import cuda \n",
    "device = cuda.get_current_device()\n",
    "device.reset()"
   ]
  },
  {
   "cell_type": "code",
   "execution_count": 6,
   "metadata": {},
   "outputs": [
    {
     "name": "stderr",
     "output_type": "stream",
     "text": [
      "GPU available: True (cuda), used: True\n",
      "TPU available: False, using: 0 TPU cores\n",
      "IPU available: False, using: 0 IPUs\n",
      "HPU available: False, using: 0 HPUs\n",
      "`Trainer(val_check_interval=1.0)` was configured so validation will run at the end of the training epoch..\n"
     ]
    }
   ],
   "source": [
    "# get the number of available GPUs\n",
    "device_num = torch.cuda.device_count()\n",
    "\n",
    "# create the audio data set pipeline\n",
    "audio_pipeline = echo_data_module.EchoDataModule(train_dataset, validation_dataset, device_num)\n",
    "\n",
    "# checkpoint to record snapshots during training\n",
    "checkpoint_callback = ModelCheckpoint(\n",
    "    dirpath = 'checkpoints/',\n",
    "    monitor = \"acc\",\n",
    "    filename='l-{epoch:d}-{acc:.3f}',\n",
    "    save_top_k = 5,\n",
    "    mode = \"max\",\n",
    ")\n",
    "\n",
    "# resume from here in the training\n",
    "checkpoint_resume = None # 'checkpoints/l-epoch=212-acc=0.596.ckpt'\n",
    "\n",
    "# construct the model trainer\n",
    "trainer = pl.Trainer(\n",
    "        deterministic=False,\n",
    "        default_root_dir = baseline_config.workspace,\n",
    "        gpus = device_num, \n",
    "        val_check_interval = 1.0,\n",
    "        max_epochs = baseline_config.max_epoch,\n",
    "        auto_lr_find = True,    \n",
    "        sync_batchnorm = True,\n",
    "        callbacks = [checkpoint_callback],\n",
    "        accelerator = \"ddp\" if device_num > 1 else None,\n",
    "        num_sanity_val_steps = 0,\n",
    "        resume_from_checkpoint = checkpoint_resume, \n",
    "        replace_sampler_ddp = False,\n",
    "        gradient_clip_val=1.0\n",
    "    )\n",
    "\n",
    "# construct the model\n",
    "sed_model = HTSAT_Swin_Transformer(\n",
    "        spec_size=baseline_config.htsat_spec_size,\n",
    "        patch_size=baseline_config.htsat_patch_size,\n",
    "        in_chans=1,\n",
    "        num_classes=baseline_config.classes_num,\n",
    "        window_size=baseline_config.htsat_window_size,\n",
    "        config = baseline_config,\n",
    "        depths = baseline_config.htsat_depth,\n",
    "        embed_dim = baseline_config.htsat_dim,\n",
    "        patch_stride=baseline_config.htsat_stride,\n",
    "        num_heads=baseline_config.htsat_num_head\n",
    "    )\n",
    "\n",
    "# wrapper to track metrics during training \n",
    "model = echo_module.EchoModule(\n",
    "        sed_model = sed_model, \n",
    "        config = baseline_config,\n",
    "        dataset = validation_dataset\n",
    "    )"
   ]
  },
  {
   "cell_type": "code",
   "execution_count": 7,
   "metadata": {},
   "outputs": [
    {
     "name": "stderr",
     "output_type": "stream",
     "text": [
      "Missing logger folder: .\\lightning_logs\n",
      "LOCAL_RANK: 0 - CUDA_VISIBLE_DEVICES: [0]\n",
      "\n",
      "  | Name      | Type                   | Params\n",
      "-----------------------------------------------------\n",
      "0 | sed_model | HTSAT_Swin_Transformer | 7.2 M \n",
      "-----------------------------------------------------\n",
      "6.9 M     Trainable params\n",
      "296 K     Non-trainable params\n",
      "7.2 M     Total params\n",
      "28.918    Total estimated model params size (MB)\n"
     ]
    },
    {
     "name": "stdout",
     "output_type": "stream",
     "text": [
      "Epoch 0:  25%|██▍       | 780/3144 [03:00<09:06,  4.32it/s, loss=1.52, v_num=0, loss_step=1.560]"
     ]
    }
   ],
   "source": [
    "# train the model\n",
    "trainer.fit(model, audio_pipeline)"
   ]
  },
  {
   "cell_type": "code",
   "execution_count": null,
   "metadata": {},
   "outputs": [],
   "source": []
  }
 ],
 "metadata": {
  "kernelspec": {
   "display_name": "Python 3.9.15 ('dev')",
   "language": "python",
   "name": "python3"
  },
  "language_info": {
   "codemirror_mode": {
    "name": "ipython",
    "version": 3
   },
   "file_extension": ".py",
   "mimetype": "text/x-python",
   "name": "python",
   "nbconvert_exporter": "python",
   "pygments_lexer": "ipython3",
   "version": "3.9.15"
  },
  "orig_nbformat": 4,
  "vscode": {
   "interpreter": {
    "hash": "2848388c1d7df64c5912f8c74b12cb2f63a5fbb869f66edadd9f1eda580b6df3"
   }
  }
 },
 "nbformat": 4,
 "nbformat_minor": 2
}
