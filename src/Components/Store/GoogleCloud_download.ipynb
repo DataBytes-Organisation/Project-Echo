{
 "cells": [
  {
   "cell_type": "markdown",
   "metadata": {},
   "source": [
    "This is a quick script to download the files to your local storage. Just change dl_dir to a folder of your choice."
   ]
  },
  {
   "cell_type": "code",
   "execution_count": 1,
   "metadata": {},
   "outputs": [
    {
     "name": "stdout",
     "output_type": "stream",
     "text": [
      "Requirement already satisfied: gcloud in /home/newbee/prjs/ai/Project-Echo/.venv/lib/python3.11/site-packages (0.18.3)\n",
      "Requirement already satisfied: httplib2>=0.9.1 in /home/newbee/prjs/ai/Project-Echo/.venv/lib/python3.11/site-packages (from gcloud) (0.22.0)\n",
      "Requirement already satisfied: googleapis-common-protos in /home/newbee/prjs/ai/Project-Echo/.venv/lib/python3.11/site-packages (from gcloud) (1.70.0)\n",
      "Requirement already satisfied: oauth2client>=2.0.1 in /home/newbee/prjs/ai/Project-Echo/.venv/lib/python3.11/site-packages (from gcloud) (4.1.3)\n",
      "Requirement already satisfied: protobuf!=3.0.0.b2.post1,>=3.0.0b2 in /home/newbee/prjs/ai/Project-Echo/.venv/lib/python3.11/site-packages (from gcloud) (5.29.5)\n",
      "Requirement already satisfied: six in /home/newbee/prjs/ai/Project-Echo/.venv/lib/python3.11/site-packages (from gcloud) (1.17.0)\n",
      "Requirement already satisfied: pyparsing!=3.0.0,!=3.0.1,!=3.0.2,!=3.0.3,<4,>=2.4.2 in /home/newbee/prjs/ai/Project-Echo/.venv/lib/python3.11/site-packages (from httplib2>=0.9.1->gcloud) (3.2.3)\n",
      "Requirement already satisfied: pyasn1>=0.1.7 in /home/newbee/prjs/ai/Project-Echo/.venv/lib/python3.11/site-packages (from oauth2client>=2.0.1->gcloud) (0.6.1)\n",
      "Requirement already satisfied: pyasn1-modules>=0.0.5 in /home/newbee/prjs/ai/Project-Echo/.venv/lib/python3.11/site-packages (from oauth2client>=2.0.1->gcloud) (0.4.2)\n",
      "Requirement already satisfied: rsa>=3.1.4 in /home/newbee/prjs/ai/Project-Echo/.venv/lib/python3.11/site-packages (from oauth2client>=2.0.1->gcloud) (4.9.1)\n",
      "Requirement already satisfied: google-cloud-storage in /home/newbee/prjs/ai/Project-Echo/.venv/lib/python3.11/site-packages (3.2.0)\n",
      "Requirement already satisfied: google-auth<3.0.0,>=2.26.1 in /home/newbee/prjs/ai/Project-Echo/.venv/lib/python3.11/site-packages (from google-cloud-storage) (2.40.3)\n",
      "Requirement already satisfied: google-api-core<3.0.0,>=2.15.0 in /home/newbee/prjs/ai/Project-Echo/.venv/lib/python3.11/site-packages (from google-cloud-storage) (2.25.1)\n",
      "Requirement already satisfied: google-cloud-core<3.0.0,>=2.4.2 in /home/newbee/prjs/ai/Project-Echo/.venv/lib/python3.11/site-packages (from google-cloud-storage) (2.4.3)\n",
      "Requirement already satisfied: google-resumable-media<3.0.0,>=2.7.2 in /home/newbee/prjs/ai/Project-Echo/.venv/lib/python3.11/site-packages (from google-cloud-storage) (2.7.2)\n",
      "Requirement already satisfied: requests<3.0.0,>=2.22.0 in /home/newbee/prjs/ai/Project-Echo/.venv/lib/python3.11/site-packages (from google-cloud-storage) (2.32.4)\n",
      "Requirement already satisfied: google-crc32c<2.0.0,>=1.1.3 in /home/newbee/prjs/ai/Project-Echo/.venv/lib/python3.11/site-packages (from google-cloud-storage) (1.7.1)\n",
      "Requirement already satisfied: googleapis-common-protos<2.0.0,>=1.56.2 in /home/newbee/prjs/ai/Project-Echo/.venv/lib/python3.11/site-packages (from google-api-core<3.0.0,>=2.15.0->google-cloud-storage) (1.70.0)\n",
      "Requirement already satisfied: protobuf!=3.20.0,!=3.20.1,!=4.21.0,!=4.21.1,!=4.21.2,!=4.21.3,!=4.21.4,!=4.21.5,<7.0.0,>=3.19.5 in /home/newbee/prjs/ai/Project-Echo/.venv/lib/python3.11/site-packages (from google-api-core<3.0.0,>=2.15.0->google-cloud-storage) (5.29.5)\n",
      "Requirement already satisfied: proto-plus<2.0.0,>=1.22.3 in /home/newbee/prjs/ai/Project-Echo/.venv/lib/python3.11/site-packages (from google-api-core<3.0.0,>=2.15.0->google-cloud-storage) (1.26.1)\n",
      "Requirement already satisfied: cachetools<6.0,>=2.0.0 in /home/newbee/prjs/ai/Project-Echo/.venv/lib/python3.11/site-packages (from google-auth<3.0.0,>=2.26.1->google-cloud-storage) (5.5.2)\n",
      "Requirement already satisfied: pyasn1-modules>=0.2.1 in /home/newbee/prjs/ai/Project-Echo/.venv/lib/python3.11/site-packages (from google-auth<3.0.0,>=2.26.1->google-cloud-storage) (0.4.2)\n",
      "Requirement already satisfied: rsa<5,>=3.1.4 in /home/newbee/prjs/ai/Project-Echo/.venv/lib/python3.11/site-packages (from google-auth<3.0.0,>=2.26.1->google-cloud-storage) (4.9.1)\n",
      "Requirement already satisfied: charset_normalizer<4,>=2 in /home/newbee/prjs/ai/Project-Echo/.venv/lib/python3.11/site-packages (from requests<3.0.0,>=2.22.0->google-cloud-storage) (3.4.2)\n",
      "Requirement already satisfied: idna<4,>=2.5 in /home/newbee/prjs/ai/Project-Echo/.venv/lib/python3.11/site-packages (from requests<3.0.0,>=2.22.0->google-cloud-storage) (3.10)\n",
      "Requirement already satisfied: urllib3<3,>=1.21.1 in /home/newbee/prjs/ai/Project-Echo/.venv/lib/python3.11/site-packages (from requests<3.0.0,>=2.22.0->google-cloud-storage) (2.5.0)\n",
      "Requirement already satisfied: certifi>=2017.4.17 in /home/newbee/prjs/ai/Project-Echo/.venv/lib/python3.11/site-packages (from requests<3.0.0,>=2.22.0->google-cloud-storage) (2025.7.14)\n",
      "Requirement already satisfied: pyasn1>=0.1.3 in /home/newbee/prjs/ai/Project-Echo/.venv/lib/python3.11/site-packages (from rsa<5,>=3.1.4->google-auth<3.0.0,>=2.26.1->google-cloud-storage) (0.6.1)\n"
     ]
    }
   ],
   "source": [
    "# install libraries\n",
    "!pip install gcloud\n",
    "!pip install google-cloud-storage\n"
   ]
  },
  {
   "cell_type": "code",
   "execution_count": 2,
   "metadata": {},
   "outputs": [
    {
     "name": "stderr",
     "output_type": "stream",
     "text": [
      "/home/newbee/prjs/ai/Project-Echo/.venv/lib/python3.11/site-packages/google/auth/_default.py:76: UserWarning: Your application has authenticated using end user credentials from Google Cloud SDK without a quota project. You might receive a \"quota exceeded\" or \"API not enabled\" error. See the following page for troubleshooting: https://cloud.google.com/docs/authentication/adc-troubleshooting/user-creds. \n",
      "  warnings.warn(_CLOUD_SDK_CREDENTIALS_WARNING)\n"
     ]
    }
   ],
   "source": [
    "from google.cloud import storage\n",
    "import os\n",
    "bucket_name = 'project_echo_bucket_1'\n",
    "os.environ[\"GCLOUD_PROJECT\"] = \"sit-23t1-project-echo-25288b9\"\n",
    "# Enter here your desired download folder\n",
    "dl_dir = r'd:\\data\\b1'\n",
    "\n",
    "storage_client = storage.Client()\n",
    "bucket = storage_client.get_bucket(bucket_name)\n",
    "blobs = bucket.list_blobs()  # Get list of files\n",
    "for blob in blobs:\n",
    "    folder_name = blob.name.split('/')[0]\n",
    "    file_name = blob.name.split('/')[1]\n",
    "    path = os.path.join(dl_dir, folder_name)\n",
    "    if not os.path.exists(path):\n",
    "        os.makedirs(path)\n",
    "    blob.download_to_filename(os.path.join(dl_dir, folder_name, file_name))\n",
    "\n"
   ]
  },
  {
   "cell_type": "code",
   "execution_count": 3,
   "metadata": {},
   "outputs": [
    {
     "name": "stderr",
     "output_type": "stream",
     "text": [
      "/home/newbee/prjs/ai/Project-Echo/.venv/lib/python3.11/site-packages/google/auth/_default.py:76: UserWarning: Your application has authenticated using end user credentials from Google Cloud SDK without a quota project. You might receive a \"quota exceeded\" or \"API not enabled\" error. See the following page for troubleshooting: https://cloud.google.com/docs/authentication/adc-troubleshooting/user-creds. \n",
      "  warnings.warn(_CLOUD_SDK_CREDENTIALS_WARNING)\n"
     ]
    }
   ],
   "source": [
    "from google.cloud import storage\n",
    "import os\n",
    "bucket_name = 'project_echo_bucket_2'\n",
    "os.environ[\"GCLOUD_PROJECT\"] = \"sit-23t1-project-echo-25288b9\"\n",
    "# Enter here your desired download folder\n",
    "dl_dir = r'd:\\data\\b2'\n",
    "\n",
    "storage_client = storage.Client()\n",
    "bucket = storage_client.get_bucket(bucket_name)\n",
    "blobs = bucket.list_blobs()  # Get list of files\n",
    "for blob in blobs:\n",
    "    folder_name = blob.name.split('/')[0]\n",
    "    file_name = blob.name.split('/')[1]\n",
    "    path = os.path.join(dl_dir, folder_name)\n",
    "    if not os.path.exists(path):\n",
    "        os.makedirs(path)\n",
    "    blob.download_to_filename(os.path.join(dl_dir, folder_name, file_name))"
   ]
  },
  {
   "cell_type": "code",
   "execution_count": 4,
   "metadata": {},
   "outputs": [
    {
     "name": "stderr",
     "output_type": "stream",
     "text": [
      "/home/newbee/prjs/ai/Project-Echo/.venv/lib/python3.11/site-packages/google/auth/_default.py:76: UserWarning: Your application has authenticated using end user credentials from Google Cloud SDK without a quota project. You might receive a \"quota exceeded\" or \"API not enabled\" error. See the following page for troubleshooting: https://cloud.google.com/docs/authentication/adc-troubleshooting/user-creds. \n",
      "  warnings.warn(_CLOUD_SDK_CREDENTIALS_WARNING)\n"
     ]
    }
   ],
   "source": [
    "from google.cloud import storage\n",
    "import os\n",
    "bucket_name = 'project_echo_bucket_3'\n",
    "os.environ[\"GCLOUD_PROJECT\"] = \"sit-23t1-project-echo-25288b9\"\n",
    "# Enter here your desired download folder\n",
    "dl_dir = r'd:\\data\\b3'\n",
    "\n",
    "storage_client = storage.Client()\n",
    "bucket = storage_client.get_bucket(bucket_name)\n",
    "blobs = bucket.list_blobs()  # Get list of files\n",
    "for blob in blobs:\n",
    "    folder_name = blob.name.split('/')[0]\n",
    "    file_name = blob.name.split('/')[1]\n",
    "    path = os.path.join(dl_dir, folder_name)\n",
    "    if not os.path.exists(path):\n",
    "        os.makedirs(path)\n",
    "    blob.download_to_filename(os.path.join(dl_dir, folder_name, file_name))"
   ]
  },
  {
   "cell_type": "code",
   "execution_count": null,
   "metadata": {},
   "outputs": [
    {
     "name": "stderr",
     "output_type": "stream",
     "text": [
      "/home/newbee/prjs/ai/Project-Echo/.venv/lib/python3.11/site-packages/google/auth/_default.py:76: UserWarning: Your application has authenticated using end user credentials from Google Cloud SDK without a quota project. You might receive a \"quota exceeded\" or \"API not enabled\" error. See the following page for troubleshooting: https://cloud.google.com/docs/authentication/adc-troubleshooting/user-creds. \n",
      "  warnings.warn(_CLOUD_SDK_CREDENTIALS_WARNING)\n"
     ]
    }
   ],
   "source": [
    "from google.cloud import storage\n",
    "import os\n",
    "bucket_name = 'project_echo_birdclef'\n",
    "os.environ[\"GCLOUD_PROJECT\"] = \"sit-23t1-project-echo-25288b9\"\n",
    "# Enter here your desired download folder\n",
    "dl_dir = r'd:\\data\\bc'\n",
    "\n",
    "storage_client = storage.Client()\n",
    "bucket = storage_client.get_bucket(bucket_name)\n",
    "blobs = bucket.list_blobs()  # Get list of files\n",
    "for blob in blobs:\n",
    "    folder_name = blob.name.split('/')[0]\n",
    "    file_name = blob.name.split('/')[1]\n",
    "    path = os.path.join(dl_dir, folder_name)\n",
    "    if not os.path.exists(path):\n",
    "        os.makedirs(path)\n",
    "    blob.download_to_filename(os.path.join(dl_dir, folder_name, file_name))"
   ]
  },
  {
   "cell_type": "code",
   "execution_count": null,
   "metadata": {},
   "outputs": [],
   "source": []
  }
 ],
 "metadata": {
  "kernelspec": {
   "display_name": "Project-Echo",
   "language": "python",
   "name": "python3"
  },
  "language_info": {
   "codemirror_mode": {
    "name": "ipython",
    "version": 3
   },
   "file_extension": ".py",
   "mimetype": "text/x-python",
   "name": "python",
   "nbconvert_exporter": "python",
   "pygments_lexer": "ipython3",
   "version": "3.11.12"
  },
  "orig_nbformat": 4
 },
 "nbformat": 4,
 "nbformat_minor": 2
}
