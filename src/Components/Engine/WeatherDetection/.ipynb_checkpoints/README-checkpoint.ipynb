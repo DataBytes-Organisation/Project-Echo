{
 "cells": [
  {
   "cell_type": "markdown",
   "id": "bdbda77d",
   "metadata": {},
   "source": [
    "# Weather Detection Model\n",
    "\n",
    "This folder contains the following files:\n",
    "- \"weather_model\": A Jupyter source file that contains a script used to train a weather detection model. \n",
    "- \"WeatherDetectionModel.h5\": A trained weather detection model that can be used to detect rain, thunder, and windy conditions\n",
    "- \"WeatherDetectionModel.keras\":A trained weather detection model that can be used to detect rain, thunder, and windy conditions\n",
    "\n",
    "Both WeatherDetectionModel files contain the same model. The model has been trained to a point where it was able to score 93% (28/30) accuarcy on the data exculded from the training process.\n",
    "\n",
    "The model can be accessed using the following method\n",
    "- Import keras from Tensor flow\n",
    "- assign a variable to the following code \"keras.model.load_model('file_path_of_model')\". For example: weather_detection =\"keras.model.load_model('file_path_of_model')\"\n",
    "- next call the funtion \".predict\" on your new variable. For example: weather_detection.predict('file_path_to_test_image')\n",
    "\n",
    "Structure of the \"weather_model\" file:\n",
    "Preprossessing:\n",
    "- Import required libraries\n",
    "- assign training data. During this process augmentations are applied to the training data in an attempt to avoid overtraining\n",
    "- assign test data. During this process augmentations are applied to the training data in an attempt to avoid overtraining\n",
    "\n",
    "Creation of the model\n",
    "- Initiaise model: A sequential model is created and assigned to the variable \"cnn\"\n",
    "- Three layers are then added to the model\n",
    "- The model is then flattened, before two dense layers are added, resulting in three output layers (to match the three weather choices)\n",
    "- The model is then complied, ready to be trained\n",
    "- Next the model is trained. This process is assigned to a variable titled \"history\", this allows us to access the training data after the model has been trained\n",
    "\n",
    "Testing\n",
    "- After the model has been trained a test image is imported, and processed to an appropriate input for the model. This cell also prints the result of the prediction, allowing us to see the models prediction of the input\n",
    "- The history of the loss function during the training of the model is displayed for the user\n",
    "- The history of the accuracy during the training of the model is displayed for the user\n",
    "\n",
    "Acknowledgements:\n",
    "This code is based on a variety of training material provided by the following sources\n",
    "- DigitalSreeni (2020) 143 - multiclass classification using Keras, YouTube. Available at: https://www.youtube.com/watch?v=obOjpVdO3gY (Accessed: 22 September 2023). \n",
    "- Renotte, M. (2022) Build a deep CNN image classifier with any images, YouTube. Available at: https://www.youtube.com/watch?v=jztwpsIzEGc (Accessed: 22 September 2023). \n",
    "- De Ponteves, H. (no date) Deep learning A-ZTM: Hands-on Artificial Neural Networks | Udemy, Deep Learing A-Z 2023: Neural Networks, AI &amp;&amp; ChatGPT Bonus. Available at: https://www.udemy.com/course/deeplearning/ (Accessed: 22 September 2023). "
   ]
  },
  {
   "cell_type": "code",
   "execution_count": null,
   "id": "ced420a2",
   "metadata": {},
   "outputs": [],
   "source": []
  }
 ],
 "metadata": {
  "kernelspec": {
   "display_name": "Python 3 (ipykernel)",
   "language": "python",
   "name": "python3"
  },
  "language_info": {
   "codemirror_mode": {
    "name": "ipython",
    "version": 3
   },
   "file_extension": ".py",
   "mimetype": "text/x-python",
   "name": "python",
   "nbconvert_exporter": "python",
   "pygments_lexer": "ipython3",
   "version": "3.10.9"
  }
 },
 "nbformat": 4,
 "nbformat_minor": 5
}
