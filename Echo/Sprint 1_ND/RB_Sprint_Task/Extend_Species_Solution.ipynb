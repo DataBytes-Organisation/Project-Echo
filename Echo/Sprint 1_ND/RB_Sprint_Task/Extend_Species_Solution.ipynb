{
 "cells": [
  {
   "cell_type": "markdown",
   "id": "aace0949",
   "metadata": {},
   "source": [
    "<div style=\"background-color: rgba(0, 0, 0, 0.7); color: #fff; padding: 10px; border-radius: 8px; box-shadow: 0 2px 4px rgba(0,0,0,0.2); width: fit-content;\">\n",
    "  <h1 style=\"font-size: 24px; margin: 0;\">  Extend Model to Detect More Species:</h1>\n",
    "</div>\n"
   ]
  },
  {
   "cell_type": "markdown",
   "id": "3e47b250",
   "metadata": {},
   "source": [
    "\n",
    "The Echo Engine was originally capable of classifying just 121 of the 340 known sound-producing animal species native to the Otways region. Through an expanded and curated data collection effort, the model has been significantly enhanced and now supports classification across **269 distinct species**, with a total of **8,390 sound samples**—greatly improving its coverage and ecological utility.\n",
    "\n",
    "This task involved sourcing validated animal sound recordings, generating corresponding spectrograms, and retraining the model using an updated neural network architecture to accommodate the increased class diversity.\n",
    "\n",
    "---\n",
    "\n",
    "##  Model Overview\n",
    "\n",
    "### ResNet18 Classifier for Animal Sound Spectrograms\n",
    "\n",
    "The model is based on **ResNet18**, a convolutional neural network pretrained on ImageNet, and fine-tuned for classifying animal vocalizations represented as spectrogram images.\n",
    "\n",
    "###  Training Configuration\n",
    "\n",
    "- **Architecture**: ResNet18 (pretrained, final layer replaced for 269-class output)\n",
    "- **Input Size**: 224 × 224 RGB spectrogram images\n",
    "- **Classes**: 269 animal species\n",
    "- **Dataset Size**: 8,390 samples  \n",
    "  - **Split**: 80% training, 10% validation, 10% testing\n",
    "- **Loss Function**: CrossEntropyLoss\n",
    "- **Optimizer**: Adam (learning rate: 0.001)\n",
    "- **Learning Rate Scheduler**: ReduceLROnPlateau (patience: 2, factor: 0.5)\n",
    "- **Epochs**: 10\n",
    "- **Image Augmentations**:\n",
    "  - Random horizontal flip  \n",
    "  - Random rotation  \n",
    "  - Color jitter (brightness and contrast)\n",
    "\n",
    "\n",
    "### Why This Matters\n",
    "The original Echo Engine supported only a subset of species—121 out of 340 known sound-producing animals in the region. This limited its effectiveness in providing a comprehensive understanding of the acoustic landscape.\n",
    "\n",
    "By expanding the model to recognize 269 species, we significantly improve its coverage and relevance\n",
    "\n",
    "\n",
    "### Data Sources\n",
    "\n",
    "The audio recordings used to train the Echo Engine model were sourced from reputable and publicly available wildlife sound repositories. These include:\n",
    "\n",
    "- **[Xeno-Canto](https://www.xeno-canto.org/)**  \n",
    "  A global community-driven platform that collects and shares bird and animal vocalizations from around the world. The majority of sound samples in this project were sourced from Xeno-Canto, focusing on species known to inhabit the Otways region of Victoria, Australia.\n",
    "  \n",
    "- To support future development, we maintain an Excel tracking file that lists all species currently included in the dataset, along with their sourcing status. please refer to and update this file when adding new species to maintain consistency and support ongoing dataset growth.\n",
    "\n",
    "\n",
    "You can find the updated sound recordings at the following link:  \n",
    "[https://drive.google.com/drive/folders/1VHutT83YhaUzPw6wKI_hjFeF1GRUb8hO?usp=sharing]\n",
    "\n",
    "These files include **newly added species** that were not part of the original dataset.   It does not include the original sounds sourced from the cloud bucket \n",
    "\n",
    "\n",
    "##  Future Improvements\n",
    "\n",
    "While the current model successfully classifies **269 species**, our goal is to extend support to all **340 known sound-producing species** native to the Otways region.\n",
    "\n",
    "To achieve this, future work will focus on:\n",
    "\n",
    "- **Expanding the dataset** by sourcing and integrating recordings for the remaining 71 species  \n",
    "- **Validating and annotating** new audio samples from trusted repositories such as Xeno-Canto and the Atlas of Living Australia  \n",
    "- **Continuously retraining the model** to maintain accuracy and adaptability as new data is added  \n",
    "- **Improving the model architecture and training strategies** to handle greater species diversity with improved generalization\n",
    "\n"
   ]
  },
  {
   "cell_type": "markdown",
   "id": "4e19b928",
   "metadata": {},
   "source": [
    "\n",
    "## Script: Download and Integrate New Animal Sound Folders from Google Drive\n",
    "\n",
    "This Python script automates the process of:\n",
    "\n",
    "1. **Downloading a public folder** containing new animal sound recordings from a shared Google Drive link using the `gdown` library.\n",
    "2. **Moving the downloaded folders** (each representing a species) into the `audio_root` directory used by the Echo Engine model.\n",
    "3. **Avoiding duplicates** by skipping folders that already exist.\n",
    "4. **Cleaning up** the temporary download directory after the files are transferred.\n",
    "\n",
    "---\n",
    "\n",
    "\n"
   ]
  },
  {
   "cell_type": "markdown",
   "id": "f1dee416",
   "metadata": {},
   "source": [
    "\n",
    "\n",
    "## Alternative: Script to Import New Animal Sound Folders from Google Drive\n",
    "\n",
    "This script downloads a shared Google Drive folder using `gdown` and moves the species subfolders into: \n",
    "Note: please replace with your name \n",
    "\n",
    "```\n",
    "C:\\Users\\riley\\Documents\\Project-Echo\\src\\Prototypes\\data\\data_files\n",
    "```\n",
    "**Note: please replace with your name**\n",
    "- Skips folders that already exist  \n",
    "- Cleans up temporary files after moving  \n",
    "- Requires the Drive folder to be set to “Anyone with the link”\n"
   ]
  },
  {
   "cell_type": "code",
   "execution_count": 6,
   "id": "b044f9ea",
   "metadata": {},
   "outputs": [
    {
     "name": "stdout",
     "output_type": "stream",
     "text": [
      "Collecting gdown\n",
      "  Downloading gdown-5.2.0-py3-none-any.whl.metadata (5.8 kB)\n",
      "Requirement already satisfied: beautifulsoup4 in c:\\users\\riley\\anaconda3\\lib\\site-packages (from gdown) (4.12.3)\n",
      "Requirement already satisfied: filelock in c:\\users\\riley\\anaconda3\\lib\\site-packages (from gdown) (3.13.1)\n",
      "Requirement already satisfied: requests[socks] in c:\\users\\riley\\anaconda3\\lib\\site-packages (from gdown) (2.32.3)\n",
      "Requirement already satisfied: tqdm in c:\\users\\riley\\anaconda3\\lib\\site-packages (from gdown) (4.66.5)\n",
      "Requirement already satisfied: soupsieve>1.2 in c:\\users\\riley\\anaconda3\\lib\\site-packages (from beautifulsoup4->gdown) (2.5)\n",
      "Requirement already satisfied: charset-normalizer<4,>=2 in c:\\users\\riley\\anaconda3\\lib\\site-packages (from requests[socks]->gdown) (3.4.0)\n",
      "Requirement already satisfied: idna<4,>=2.5 in c:\\users\\riley\\anaconda3\\lib\\site-packages (from requests[socks]->gdown) (3.10)\n",
      "Requirement already satisfied: urllib3<3,>=1.21.1 in c:\\users\\riley\\anaconda3\\lib\\site-packages (from requests[socks]->gdown) (2.2.3)\n",
      "Requirement already satisfied: certifi>=2017.4.17 in c:\\users\\riley\\anaconda3\\lib\\site-packages (from requests[socks]->gdown) (2024.8.30)\n",
      "Requirement already satisfied: PySocks!=1.5.7,>=1.5.6 in c:\\users\\riley\\anaconda3\\lib\\site-packages (from requests[socks]->gdown) (1.7.1)\n",
      "Requirement already satisfied: colorama in c:\\users\\riley\\anaconda3\\lib\\site-packages (from tqdm->gdown) (0.4.6)\n",
      "Downloading gdown-5.2.0-py3-none-any.whl (18 kB)\n",
      "Installing collected packages: gdown\n",
      "Successfully installed gdown-5.2.0\n"
     ]
    }
   ],
   "source": [
    "!pip install gdown\n"
   ]
  },
  {
   "cell_type": "code",
   "execution_count": null,
   "id": "a033f089",
   "metadata": {},
   "outputs": [
    {
     "name": "stderr",
     "output_type": "stream",
     "text": [
      "Retrieving folder contents\n"
     ]
    },
    {
     "name": "stdout",
     "output_type": "stream",
     "text": [
      "Retrieving folder 1HcU7uzAT6d6EjCsEH0-vCp4ujqX9M4uf Accipiter cirrocephalus\n",
      "Processing file 1uWs3rkiGGFfYAJwJAKsLs8zTZfTmRgqI Accipiter cirrocephalus 1.mp3\n",
      "Processing file 1quPak3b1QBbbXDxewE34m0fsHh2gOY3k Accipiter cirrocephalus 2.mp3\n",
      "Processing file 1keDVhfLz7SHJHk-HOIgBOlSTauMlLsGL Accipiter cirrocephalus 4.mp3\n",
      "Processing file 16v_J29g8MSlHw__V1jiCpNwayl6hMyv3 Accipiter cirrocephalus 5.mp3\n",
      "Retrieving folder 1lRo14d_3lBaVSk9bnTs2cxtLchsMD1ae Accipiter fasciatus\n",
      "Processing file 1kpzEP--PWN6r5VrJBgaLhh5LusAKgYDd Accipiter fasciatus.mp3\n",
      "Retrieving folder 15RICxLgJDVTNfj-JU2LKvI7qY13OttC_ Accipiter novaehollandiae\n",
      "Processing file 1EGeFn19kfd2PijVwIAycNgjGsCmsczrv Accipiter novaehollandiae 1.mp3\n",
      "Processing file 1JqLAno-5a0I9MaK7G9T08FHLWsKj38M9 Accipiter novaehollandiae 2.mp3\n",
      "Processing file 17L-eADzeuNSzoLxqxaJdhyX4LROdXl0_ Accipiter novaehollandiae 3.mp3\n",
      "Processing file 1gdMytIn76zUxSzPphtJ7tyh9uO6HIdeC Accipiter novaehollandiae 4.wav\n",
      "Processing file 1IE_K8rFvqsD5y1YuvRJDcG96hGEU_q7U Accipiter novaehollandiae 5.mp3\n",
      "Retrieving folder 1SvhLLsM_RKMhGKOnkhxIPgU-JIWVwbNv Acrocephalus australis\n",
      "Processing file 1ROeqIZosrlpbHNgOftNeNE0tjLZOk9SL Acrocephalus australis.mp3\n",
      "Retrieving folder 1fB1EQKxDbBbeC2k93_Z4UrJVP9nBGSMl Actitis hypoleucos\n",
      "Processing file 1Ayt3tgyEDyvl2oGivvP1BneAdPwEJyfr Actitis hypoleucos  4.wav\n",
      "Processing file 167aTwASX6pr6o6Qai1zwOrI2WqUFASyX Actitis hypoleucos 1.wav\n",
      "Processing file 1b7gsr-klcg_L1ockCk-w4tEtGvBLYkQH Actitis hypoleucos 2.wav\n",
      "Processing file 1R7-tofkTrjyZjX_4Fcj7Na6jVrsCOKsi Actitis hypoleucos 3.wav\n",
      "Processing file 1tCcd5_9_eXQroMda6It2m7Cs14TalSRt Actitis hypoleucos 5.wav\n",
      "Retrieving folder 1uUXbTCGj-KrbYLkImbiT-TJyCisbdHer Aegotheles cristatus\n",
      "Processing file 1yVyQp-1EplJd-EKikn-lSP0EJHuL7q2P Aegotheles cristatus 1.mp3\n",
      "Processing file 1B3rs6nKA8WOkNcK5mmnZ6SGS-1yruOvv Aegotheles cristatus 2.mp3\n",
      "Processing file 1SYBctIsO_pKlKGWjyLrig0Wae7LvkDI0 Aegotheles cristatus 3.mp3\n",
      "Retrieving folder 1LZ6egP7-VZDKKKfdWCGKqtQAT3M6qkAK Alisterus scapularis\n",
      "Processing file 1CKamM0OkXsD6feLY-MlxqwyCtELGrCto Alisterus scapularis 1.mp3\n",
      "Processing file 1d1UMsAC2Q4SfKMPV0LfInxflHQ827Okq Alisterus scapularis 2.wav\n",
      "Processing file 1pPQjeqx4zqSPMmxf0U1WyuIUDwHKAi8e Alisterus scapularis 3.mp3\n",
      "Retrieving folder 10jHfRKWko1ohYauIITzsn4T8Lg4N0kDb Anas castanea\n",
      "Processing file 1OYxbJuOHFliYLQqNO8x-MbGXDD4yTfSp Anas castanea 1.wav\n",
      "Processing file 1-8ZBXz1OYb0OP3tpdkXOXulNCDBNLeZc Anas castanea 2.mp3\n",
      "Processing file 1d52IpXSVIVyl9NUUPKwAJ1YoMhHPEjDR Anas castanea 3.mp3\n",
      "Retrieving folder 1AWCiz56YenmOt8Jg8c7OhpKRWqnc5UIY Anas superciliosa\n",
      "Processing file 1QJVZYIlH3ohpbfSoUp2kJUXMDd83VefL Anas superciliosa 1.mp3\n",
      "Processing file 1JyfdIT7xGRO3zMxRpW7vTN2ynVV1cOYo Anas superciliosa 2.mp3\n",
      "Processing file 1ZTO167oqOkWmEPvVy2nfgdNtgXoxL4M_ Anas superciliosa 3.mp3\n",
      "Retrieving folder 1nRM9Bso-fpt8YTeKyPzKc3Dyjr6yGOnW Anthochaera carunculata\n",
      "Processing file 1owiIp3pdS9GoTXy_j__fGnyLJZK0kr16 Anthochaera carunculata.mp3\n",
      "Retrieving folder 1p5IwCHdqQC-zyADa8XvaK7Nm1ZyTrSyB Anthochaera chrysoptera\n",
      "Processing file 1a6IRgIavxCSRCWN_4n_MPNOo02vgKYrs Anthochaera chrysoptera.mp3\n",
      "Retrieving folder 1YY_yT7lm5O-Zk-zg_FSP0O9z4CVOud20 Anthochaera_carunculata\n",
      "Processing file 13U7Ja0RivxUoImtyiqfB3yL9Jnc4IAwv Anthochaera_carunculata.mp3\n",
      "Retrieving folder 1ysH-NWliW8DJy0i12fmlW14qRyKo9cmW Aquila audax\n",
      "Processing file 1wyLRDF8grgt_619EhmWbOErlOyGcDZyN Aquila audax 1.mp3\n",
      "Processing file 1Way-avs3e7hJmjypy6SpLhsL1PsLERjX Aquila audax 2.mp3\n",
      "Processing file 1y-98bCPuRNtzjQjcWW2uERG0RVcyoA5N Aquila audax 3.mp3\n",
      "Retrieving folder 1bnxzVaDBmuWq286ubUaymBIXIwOGPcuH Arctocephalus pusillus\n",
      "Processing file 1ou7Y5CmZrgzOBDf7QuNuzQWa6LMDndG- Arctocephalus pusillus.mp3\n",
      "Retrieving folder 1_S9LjJUYdeOmUTb9NeebzmnJZHaCnZ83 Ardea alba\n",
      "Processing file 1JoQZh8sccu6y2p3Gh41TwuraHrp-pulv Ardea alba 1.wav\n",
      "Processing file 18cstw4WCfMqHKZo4CPiFMngzoQn98RR2 Ardea alba 2.wav\n",
      "Processing file 1XYzu15XUQVwp0-GgrDZyUAzvK3ekpzA8 Ardea alba 3.wav\n",
      "Retrieving folder 1K_156nNUiTGvJzR21JEII-lGQ8QvI_Mv Ardea pacifica\n"
     ]
    }
   ],
   "source": [
    "# Step 2: Import required modules\n",
    "import gdown\n",
    "import os\n",
    "import shutil\n",
    "\n",
    "# Step 3: Define the public Google Drive folder URL\n",
    "url = \"https://drive.google.com/drive/folders/1MP1j_oiMGL6hWWMrPcuJYsKLSUH8gjp_\"\n",
    "download_dir = \"downloaded_sounds\"\n",
    "\n",
    "# Step 4: Download the folder from Google Drive\n",
    "gdown.download_folder(\n",
    "    url=url,\n",
    "    output=download_dir,\n",
    "    quiet=False,\n",
    "    use_cookies=False\n",
    ")\n",
    "\n",
    "# Step 5: Define your local target audio directory\n",
    "audio_root = r\"C:\\Users\\riley\\Documents\\Project-Echo\\src\\Prototypes\\data\\data_files\"\n",
    "\n",
    "# Step 6: Move downloaded folders into the audio_root directory\n",
    "for folder_name in os.listdir(download_dir):\n",
    "    src = os.path.join(download_dir, folder_name)\n",
    "    dst = os.path.join(audio_root, folder_name)\n",
    "\n",
    "    if os.path.isdir(src):\n",
    "        if not os.path.exists(dst):\n",
    "            shutil.move(src, dst)\n",
    "            print(f\"Moved: {folder_name}\")\n",
    "        else:\n",
    "            print(f\"Skipped (already exists): {folder_name}\")\n",
    "\n",
    "# Step 7: Clean up temporary download directory\n",
    "if os.path.exists(download_dir):\n",
    "    shutil.rmtree(download_dir)\n",
    "    print(\" Cleaned up temporary folder:\", download_dir)\n",
    "\n",
    "print(\"New species folders have been integrated into:\", audio_root)"
   ]
  },
  {
   "cell_type": "code",
   "execution_count": null,
   "id": "6e8227ce",
   "metadata": {},
   "outputs": [],
   "source": [
    "import os\n",
    "import librosa\n",
    "import librosa.display\n",
    "import matplotlib.pyplot as plt\n",
    "import numpy as np\n",
    "from tqdm import tqdm\n",
    "\n",
    "# input directory containing subfolders of audio files by species\n",
    "audio_root = r\"C:\\Users\\riley\\Documents\\Project-Echo\\src\\Prototypes\\data\\data_files\"\n",
    "spec_root = r\"C:\\Users\\riley\\Documents\\Project-Echo\\src\\Prototypes\\data\\spectrograms\"\n",
    "os.makedirs(spec_root, exist_ok=True)\n",
    "\n",
    "# Gather all audio files\n",
    "all_files = [\n",
    "    (species, file)\n",
    "    for species in os.listdir(audio_root)\n",
    "    if os.path.isdir(os.path.join(audio_root, species))\n",
    "    for file in os.listdir(os.path.join(audio_root, species))\n",
    "    if file.lower().endswith(('.wav', '.mp3', '.ogg')) \n",
    "]\n",
    "\n",
    "#Collecting all (species, filename) pairs from the input directory\n",
    "\n",
    "for species, file in tqdm(all_files, desc=\"Generating Spectrograms\", unit=\"file\"):\n",
    "    in_path = os.path.join(audio_root, species, file)\n",
    "    out_dir = os.path.join(spec_root, species)\n",
    "    os.makedirs(out_dir, exist_ok=True)\n",
    "    out_path = os.path.join(out_dir, os.path.splitext(file)[0] + \".png\")\n",
    "\n",
    "    try:\n",
    "        y, sr = librosa.load(in_path, sr=22050, duration=5.0)\n",
    "        if len(y) < sr * 5:\n",
    "            y = np.pad(y, (0, sr * 5 - len(y)))\n",
    "\n",
    "        mel = librosa.feature.melspectrogram(y=y, sr=sr)\n",
    "        mel_db = librosa.power_to_db(mel, ref=np.max)\n",
    "\n",
    "        plt.figure(figsize=(3, 3))\n",
    "        librosa.display.specshow(mel_db, sr=sr)\n",
    "        plt.axis('off')\n",
    "        plt.tight_layout()\n",
    "        plt.savefig(out_path, bbox_inches='tight', pad_inches=0)\n",
    "        plt.close()\n",
    "\n",
    "    except Exception as e:\n",
    "        print(f\" Error: {species}/{file} — {e}\")"
   ]
  },
  {
   "cell_type": "code",
   "execution_count": 4,
   "id": "3f87fad5",
   "metadata": {},
   "outputs": [
    {
     "name": "stdout",
     "output_type": "stream",
     "text": [
      "✅ Found 269 classes | Total samples: 8390\n"
     ]
    },
    {
     "name": "stderr",
     "output_type": "stream",
     "text": [
      "Epoch 1/10: 100%|████████████████████████████████████████████████| 210/210 [03:47<00:00,  1.08s/batch, Batch Loss=2.28]\n"
     ]
    },
    {
     "name": "stdout",
     "output_type": "stream",
     "text": [
      "Epoch 1/10 — 238s 1136ms/step — accuracy: 0.3325 — loss: 3.1392 — val_accuracy: 0.3456 — val_loss: 3.0967\n"
     ]
    },
    {
     "name": "stderr",
     "output_type": "stream",
     "text": [
      "Epoch 2/10: 100%|████████████████████████████████████████████████| 210/210 [03:47<00:00,  1.08s/batch, Batch Loss=1.59]\n"
     ]
    },
    {
     "name": "stdout",
     "output_type": "stream",
     "text": [
      "Epoch 2/10 — 238s 1135ms/step — accuracy: 0.5338 — loss: 1.9677 — val_accuracy: 0.5459 — val_loss: 1.9616\n"
     ]
    },
    {
     "name": "stderr",
     "output_type": "stream",
     "text": [
      "Epoch 3/10: 100%|███████████████████████████████████████████████| 210/210 [03:47<00:00,  1.08s/batch, Batch Loss=0.845]\n"
     ]
    },
    {
     "name": "stdout",
     "output_type": "stream",
     "text": [
      "Epoch 3/10 — 238s 1136ms/step — accuracy: 0.6400 — loss: 1.4779 — val_accuracy: 0.6055 — val_loss: 1.6553\n"
     ]
    },
    {
     "name": "stderr",
     "output_type": "stream",
     "text": [
      "Epoch 4/10: 100%|███████████████████████████████████████████████| 210/210 [03:47<00:00,  1.08s/batch, Batch Loss=0.621]\n"
     ]
    },
    {
     "name": "stdout",
     "output_type": "stream",
     "text": [
      "Epoch 4/10 — 238s 1136ms/step — accuracy: 0.6965 — loss: 1.1912 — val_accuracy: 0.6591 — val_loss: 1.5083\n"
     ]
    },
    {
     "name": "stderr",
     "output_type": "stream",
     "text": [
      "Epoch 5/10: 100%|███████████████████████████████████████████████| 210/210 [03:47<00:00,  1.08s/batch, Batch Loss=0.725]\n"
     ]
    },
    {
     "name": "stdout",
     "output_type": "stream",
     "text": [
      "Epoch 5/10 — 238s 1137ms/step — accuracy: 0.7503 — loss: 0.9598 — val_accuracy: 0.6865 — val_loss: 1.3354\n"
     ]
    },
    {
     "name": "stderr",
     "output_type": "stream",
     "text": [
      "Epoch 6/10: 100%|███████████████████████████████████████████████| 210/210 [03:46<00:00,  1.08s/batch, Batch Loss=0.871]\n"
     ]
    },
    {
     "name": "stdout",
     "output_type": "stream",
     "text": [
      "Epoch 6/10 — 237s 1132ms/step — accuracy: 0.7898 — loss: 0.7712 — val_accuracy: 0.7175 — val_loss: 1.2805\n"
     ]
    },
    {
     "name": "stderr",
     "output_type": "stream",
     "text": [
      "Epoch 7/10: 100%|███████████████████████████████████████████████| 210/210 [03:47<00:00,  1.08s/batch, Batch Loss=0.707]\n"
     ]
    },
    {
     "name": "stdout",
     "output_type": "stream",
     "text": [
      "Epoch 7/10 — 238s 1134ms/step — accuracy: 0.8202 — loss: 0.6298 — val_accuracy: 0.6901 — val_loss: 1.3941\n"
     ]
    },
    {
     "name": "stderr",
     "output_type": "stream",
     "text": [
      "Epoch 8/10: 100%|███████████████████████████████████████████████| 210/210 [03:47<00:00,  1.08s/batch, Batch Loss=0.681]\n"
     ]
    },
    {
     "name": "stdout",
     "output_type": "stream",
     "text": [
      "Epoch 8/10 — 238s 1134ms/step — accuracy: 0.8494 — loss: 0.5256 — val_accuracy: 0.6782 — val_loss: 1.5606\n"
     ]
    },
    {
     "name": "stderr",
     "output_type": "stream",
     "text": [
      "Epoch 9/10: 100%|███████████████████████████████████████████████| 210/210 [03:47<00:00,  1.08s/batch, Batch Loss=0.274]\n"
     ]
    },
    {
     "name": "stdout",
     "output_type": "stream",
     "text": [
      "Epoch 9/10 — 238s 1136ms/step — accuracy: 0.8789 — loss: 0.4225 — val_accuracy: 0.7366 — val_loss: 1.2986\n"
     ]
    },
    {
     "name": "stderr",
     "output_type": "stream",
     "text": [
      "Epoch 10/10: 100%|██████████████████████████████████████████████| 210/210 [03:48<00:00,  1.09s/batch, Batch Loss=0.338]\n"
     ]
    },
    {
     "name": "stdout",
     "output_type": "stream",
     "text": [
      "Epoch 10/10 — 239s 1141ms/step — accuracy: 0.8941 — loss: 0.3634 — val_accuracy: 0.7592 — val_loss: 1.2580\n",
      "\n",
      "🎯 Final Test Accuracy: 0.7378 — Test Loss: 1.2756\n"
     ]
    },
    {
     "data": {
      "image/png": "[encoded data removed]",
      "text/plain": [
       "<Figure size 1200x500 with 2 Axes>"
      ]
     },
     "metadata": {},
     "output_type": "display_data"
    }
   ],
   "source": [
    "import os\n",
    "import time\n",
    "import torch\n",
    "import torch.nn as nn\n",
    "import torch.optim as optim\n",
    "from torchvision import datasets, transforms, models\n",
    "from torch.utils.data import DataLoader, random_split\n",
    "from sklearn.metrics import accuracy_score\n",
    "import matplotlib.pyplot as plt\n",
    "from tqdm import tqdm\n",
    "\n",
    "# Device\n",
    "device = torch.device(\"cuda\" if torch.cuda.is_available() else \"cpu\")\n",
    "\n",
    "# Path\n",
    "data_dir = r\"C:\\Users\\riley\\Documents\\Project-Echo\\src\\Prototypes\\data\\spectrograms\"\n",
    "\n",
    "# Transforms (with augmentation)\n",
    "transform = transforms.Compose([\n",
    "    transforms.Resize((224, 224)),  # Required for ResNet\n",
    "    transforms.RandomHorizontalFlip(),\n",
    "    transforms.RandomRotation(10),\n",
    "    transforms.ColorJitter(brightness=0.2, contrast=0.2),\n",
    "    transforms.ToTensor(),\n",
    "    transforms.Normalize([0.485, 0.456, 0.406],  # ImageNet means\n",
    "                         [0.229, 0.224, 0.225])  # ImageNet stds\n",
    "])\n",
    "\n",
    "# Dataset\n",
    "full_dataset = datasets.ImageFolder(root=data_dir, transform=transform)\n",
    "num_classes = len(full_dataset.classes)\n",
    "print(f\" Found {num_classes} classes | Total samples: {len(full_dataset)}\")\n",
    "\n",
    "# Split\n",
    "total_len = len(full_dataset)\n",
    "train_len = int(0.8 * total_len)\n",
    "val_len = int(0.1 * total_len)\n",
    "test_len = total_len - train_len - val_len\n",
    "train_set, val_set, test_set = random_split(full_dataset, [train_len, val_len, test_len])\n",
    "\n",
    "# Loaders\n",
    "batch_size = 32\n",
    "train_loader = DataLoader(train_set, batch_size=batch_size, shuffle=True)\n",
    "val_loader = DataLoader(val_set, batch_size=batch_size)\n",
    "test_loader = DataLoader(test_set, batch_size=batch_size)\n",
    "\n",
    "# Load pretrained ResNet18\n",
    "model = models.resnet18(pretrained=True)\n",
    "\n",
    "# Replace the final FC layer for your task\n",
    "model.fc = nn.Linear(model.fc.in_features, num_classes)\n",
    "model = model.to(device)\n",
    "\n",
    "# Loss, optimizer, scheduler\n",
    "criterion = nn.CrossEntropyLoss()\n",
    "optimizer = optim.Adam(model.parameters(), lr=0.001)\n",
    "scheduler = optim.lr_scheduler.ReduceLROnPlateau(optimizer, mode='max', patience=2, factor=0.5)\n",
    "\n",
    "# Evaluation\n",
    "def evaluate(model, loader, criterion=None):\n",
    "    model.eval()\n",
    "    y_true, y_pred = [], []\n",
    "    total_loss = 0.0\n",
    "    with torch.no_grad():\n",
    "        for images, labels in loader:\n",
    "            images, labels = images.to(device), labels.to(device)\n",
    "            outputs = model(images)\n",
    "            preds = outputs.argmax(1)\n",
    "            y_true.extend(labels.cpu().numpy())\n",
    "            y_pred.extend(preds.cpu().numpy())\n",
    "            if criterion:\n",
    "                total_loss += criterion(outputs, labels).item()\n",
    "    accuracy = accuracy_score(y_true, y_pred)\n",
    "    avg_loss = total_loss / len(loader) if criterion else None\n",
    "    return accuracy, avg_loss\n",
    "\n",
    "# Train\n",
    "num_epochs = 10\n",
    "train_losses, val_losses = [], []\n",
    "train_accuracies, val_accuracies = [], []\n",
    "\n",
    "for epoch in range(num_epochs):\n",
    "    model.train()\n",
    "    running_loss = 0.0\n",
    "    y_true, y_pred = [], []\n",
    "\n",
    "    start_time = time.time()\n",
    "    progress_bar = tqdm(train_loader, desc=f\"Epoch {epoch+1}/{num_epochs}\", unit=\"batch\")\n",
    "\n",
    "    for images, labels in progress_bar:\n",
    "        images, labels = images.to(device), labels.to(device)\n",
    "\n",
    "        optimizer.zero_grad()\n",
    "        outputs = model(images)\n",
    "        loss = criterion(outputs, labels)\n",
    "        loss.backward()\n",
    "        optimizer.step()\n",
    "\n",
    "        running_loss += loss.item()\n",
    "        y_true.extend(labels.cpu().numpy())\n",
    "        y_pred.extend(outputs.argmax(1).cpu().numpy())\n",
    "        progress_bar.set_postfix({\"Batch Loss\": loss.item()})\n",
    "\n",
    "    train_loss = running_loss / len(train_loader)\n",
    "    train_acc = accuracy_score(y_true, y_pred)\n",
    "    val_acc, val_loss = evaluate(model, val_loader, criterion)\n",
    "\n",
    "    train_losses.append(train_loss)\n",
    "    train_accuracies.append(train_acc)\n",
    "    val_losses.append(val_loss)\n",
    "    val_accuracies.append(val_acc)\n",
    "\n",
    "    scheduler.step(val_acc)\n",
    "\n",
    "    elapsed = time.time() - start_time\n",
    "    ms_per_step = (elapsed / len(train_loader)) * 1000\n",
    "\n",
    "    print(f\"Epoch {epoch+1}/{num_epochs} — {int(elapsed)}s {int(ms_per_step)}ms/step — \"\n",
    "          f\"accuracy: {train_acc:.4f} — loss: {train_loss:.4f} — \"\n",
    "          f\"val_accuracy: {val_acc:.4f} — val_loss: {val_loss:.4f}\")\n",
    "\n",
    "# Final test\n",
    "test_acc, test_loss = evaluate(model, test_loader, criterion)\n",
    "print(f\"\\nFinal Test Accuracy: {test_acc:.4f} — Test Loss: {test_loss:.4f}\")\n",
    "\n",
    "# Plot\n",
    "plt.figure(figsize=(12, 5))\n",
    "\n",
    "plt.subplot(1, 2, 1)\n",
    "plt.plot(range(1, num_epochs+1), train_losses, label='Train Loss')\n",
    "plt.plot(range(1, num_epochs+1), val_losses, label='Val Loss')\n",
    "plt.xlabel(\"Epoch\")\n",
    "plt.ylabel(\"Loss\")\n",
    "plt.title(\"Loss vs Epochs\")\n",
    "plt.legend()\n",
    "\n",
    "plt.subplot(1, 2, 2)\n",
    "plt.plot(range(1, num_epochs+1), train_accuracies, label='Train Accuracy')\n",
    "plt.plot(range(1, num_epochs+1), val_accuracies, label='Val Accuracy')\n",
    "plt.xlabel(\"Epoch\")\n",
    "plt.ylabel(\"Accuracy\")\n",
    "plt.title(\"Accuracy vs Epochs\")\n",
    "plt.legend()\n",
    "\n",
    "plt.tight_layout()\n",
    "plt.show()\n"
   ]
  },
  {
   "cell_type": "markdown",
   "id": "c7dca656",
   "metadata": {},
   "source": [
    "\n",
    "## Results Summary \n",
    "The ResNet18 model demonstrated strong performance across 269 animal sound classes. By the final epoch, it achieved **89.4% training accuracy**, **75.9% validation accuracy**, and a **final test accuracy of 73.8%**. The training loss consistently declined, while validation loss plateaued after an initial drop, indicating effective learning with slight overfitting toward the end.\n",
    "\n",
    "Importantly, the model’s sustained accuracy after the dataset expansion provides clear evidence that the newly added sound samples have been successfully integrated. The consistent validation and test results suggest that the model continues to generalize well, even with the inclusion of additional species.\n",
    "\n",
    "\n",
    "\n",
    "\n"
   ]
  }
 ],
 "metadata": {
  "kernelspec": {
   "display_name": "Python (base)",
   "language": "python",
   "name": "python_base"
  },
  "language_info": {
   "codemirror_mode": {
    "name": "ipython",
    "version": 3
   },
   "file_extension": ".py",
   "mimetype": "text/x-python",
   "name": "python",
   "nbconvert_exporter": "python",
   "pygments_lexer": "ipython3",
   "version": "3.11.5"
  }
 },
 "nbformat": 4,
 "nbformat_minor": 5
}
