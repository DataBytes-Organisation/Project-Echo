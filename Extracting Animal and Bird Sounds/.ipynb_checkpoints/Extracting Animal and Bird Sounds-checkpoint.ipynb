{
 "cells": [
  {
   "cell_type": "code",
   "execution_count": 47,
   "id": "5340546a",
   "metadata": {},
   "outputs": [
    {
     "name": "stdout",
     "output_type": "stream",
     "text": [
      "Requirement already satisfied: tensorflow_hub in d:\\anaconda\\lib\\site-packages (0.14.0)\n",
      "Requirement already satisfied: numpy>=1.12.0 in d:\\anaconda\\lib\\site-packages (from tensorflow_hub) (1.24.3)\n",
      "Requirement already satisfied: protobuf>=3.19.6 in d:\\anaconda\\lib\\site-packages (from tensorflow_hub) (4.23.4)\n",
      "Note: you may need to restart the kernel to use updated packages.\n"
     ]
    }
   ],
   "source": [
    "pip install tensorflow_hub"
   ]
  },
  {
   "cell_type": "code",
   "execution_count": 45,
   "id": "ab99889f",
   "metadata": {},
   "outputs": [
    {
     "name": "stdout",
     "output_type": "stream",
     "text": [
      "Requirement already satisfied: pydub in d:\\anaconda\\lib\\site-packages (0.25.1)\n",
      "Note: you may need to restart the kernel to use updated packages.\n"
     ]
    }
   ],
   "source": [
    "pip install pydub"
   ]
  },
  {
   "cell_type": "code",
   "execution_count": 70,
   "id": "a8b042f2",
   "metadata": {},
   "outputs": [],
   "source": [
    "import tensorflow as tf\n",
    "import tensorflow_hub as hub\n",
    "import numpy as np\n",
    "import soundfile as sf\n",
    "import os\n",
    "from pydub import AudioSegment\n",
    "from pydub.silence import detect_nonsilent\n",
    "import pandas as pd"
   ]
  },
  {
   "cell_type": "code",
   "execution_count": 71,
   "id": "be7c5c79",
   "metadata": {
    "scrolled": false
   },
   "outputs": [],
   "source": [
    "# Load the YAMNet model\n",
    "yamnet_model_handle = 'https://tfhub.dev/google/yamnet/1'\n",
    "yamnet_model = hub.load(yamnet_model_handle)\n",
    "\n",
    "# Read class name mapping file\n",
    "class_map_path = \"C:/Users/93978/Documents/GitHub/Project-Echo/Extracting Animal and Bird Sounds/yamnet_class_map/yamnet_class_map.csv\" \n",
    "class_names = pd.read_csv(class_map_path, sep=',', header=None).values.squeeze()\n",
    "\n"
   ]
  },
  {
   "cell_type": "code",
   "execution_count": 72,
   "id": "e03211cb",
   "metadata": {},
   "outputs": [],
   "source": [
    "def analyze_audio(file_path):\n",
    "    waveform, sample_rate = sf.read(file_path, dtype=np.float32)\n",
    "    if len(waveform.shape) > 1:\n",
    "        waveform = np.mean(waveform, axis=1)\n",
    "    scores, embeddings, log_mel_spectrogram = yamnet_model(waveform)\n",
    "    return scores.numpy(), class_names\n",
    "\n"
   ]
  },
  {
   "cell_type": "code",
   "execution_count": 75,
   "id": "8b0c352a",
   "metadata": {},
   "outputs": [
    {
     "name": "stdout",
     "output_type": "stream",
     "text": [
      "Segments have been extracted and saved.\n"
     ]
    }
   ],
   "source": [
    "# load audio file\n",
    "audio = AudioSegment.from_file(\"C:/Users/93978/Documents/GitHub/Project-Echo/Extracting Animal and Bird Sounds/original audio file/animal and bird.wav\")\n",
    "\n",
    "min_silence_len = 500\n",
    "\n",
    "silence_thresh = -50\n",
    "\n",
    "# Extract non-silent segments\n",
    "non_silent_ranges = detect_nonsilent(\n",
    "    audio, \n",
    "    min_silence_len=min_silence_len, \n",
    "    silence_thresh=silence_thresh\n",
    ")\n",
    "\n",
    "# Create a directory to save the extracted audio segments\n",
    "os.makedirs(\"extracted_segments\", exist_ok=True)\n",
    "\n",
    "# 提取和保存音频段\n",
    "for i, (start, end) in enumerate(non_silent_ranges):\n",
    "    segment = audio[start:end]\n",
    "    segment.export(f\"extracted_segments/segment_{i}.wav\", format=\"wav\")\n"
   ]
  },
  {
   "cell_type": "code",
   "execution_count": 78,
   "id": "44edc180",
   "metadata": {},
   "outputs": [],
   "source": [
    "# 分析和标注提取的音频段\n",
    "for i, (start, end) in enumerate(non_silent_ranges):\n",
    "    segment_path = f\"extracted_segments/segment_{i}.wav\"\n",
    "    segment = audio[start:end]\n",
    "    segment.export(segment_path, format=\"wav\")\n",
    "    \n",
    "    # Analyze segment with YAMNet\n",
    "    scores, class_names = analyze_audio(segment_path)\n",
    "    \n",
    "    # Get the top 3 predictions\n",
    "    top_scores = scores.mean(axis=0)\n",
    "    top_class_indices = top_scores.argsort()[-3:][::-1]\n",
    "    top_class_names = class_names[top_class_indices]\n",
    "    top_scores = top_scores[top_class_indices]\n",
    "    \n",
    "    print(f\"Segment {i}:\")\n",
    "    for class_name, score in zip(top_class_names, top_scores):\n",
    "        print(f\"  - {class_name}: {score:.3f}\")\n"
   ]
  },
  {
   "cell_type": "code",
   "execution_count": null,
   "id": "0f64c175",
   "metadata": {},
   "outputs": [],
   "source": []
  }
 ],
 "metadata": {
  "kernelspec": {
   "display_name": "Python 3 (ipykernel)",
   "language": "python",
   "name": "python3"
  },
  "language_info": {
   "codemirror_mode": {
    "name": "ipython",
    "version": 3
   },
   "file_extension": ".py",
   "mimetype": "text/x-python",
   "name": "python",
   "nbconvert_exporter": "python",
   "pygments_lexer": "ipython3",
   "version": "3.9.17"
  }
 },
 "nbformat": 4,
 "nbformat_minor": 5
}
